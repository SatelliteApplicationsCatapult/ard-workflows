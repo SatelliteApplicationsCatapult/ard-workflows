{
 "cells": [
  {
   "cell_type": "markdown",
   "metadata": {},
   "source": [
    "# Debug notebook\n",
    "This notebook is only used to troubleshoot the ML Water Classification workflow processor."
   ]
  },
  {
   "cell_type": "markdown",
   "metadata": {},
   "source": [
    "## Water Classification workflow"
   ]
  },
  {
   "cell_type": "code",
   "execution_count": 2,
   "metadata": {},
   "outputs": [],
   "source": [
    "import json\n",
    "from utils.genprepMLWater import genprepmlwater\n",
    "\n",
    "def process_scene(json_data):\n",
    "    loaded_json = json.loads(json_data)\n",
    "    #for x in loaded_json:\n",
    "    #    print(\"%s: %s\" % (x, loaded_json[x]))\n",
    "    genprepmlwater(**loaded_json)"
   ]
  },
  {
   "cell_type": "markdown",
   "metadata": {},
   "source": [
    "## Water Classification job queue processor"
   ]
  },
  {
   "cell_type": "code",
   "execution_count": 3,
   "metadata": {},
   "outputs": [
    {
     "name": "stdout",
     "output_type": "stream",
     "text": [
      "Worker with sessionID: c685a8b6-75e4-4635-a729-37a6ff4cf3e5\n",
      "Initial queue state: empty=False\n"
     ]
    }
   ],
   "source": [
    "import rediswq\n",
    "\n",
    "import os\n",
    "host = os.getenv(\"REDIS_SERVICE_HOST\", \"redis-master\")\n",
    "\n",
    "q = rediswq.RedisWQ(name=\"jobMLWater\", host=host)\n",
    "print(\"Worker with sessionID: \" +  q.sessionID())\n",
    "print(\"Initial queue state: empty=\" + str(q.empty()))"
   ]
  },
  {
   "cell_type": "code",
   "execution_count": null,
   "metadata": {},
   "outputs": [
    {
     "name": "stderr",
     "output_type": "stream",
     "text": [
      "INFO:root:S1A_IW_GRDH_1SSV_20170125T174031 Starting\n",
      "INFO:root:S1A_IW_GRDH_1SSV_20170125T174031 Finding & Streaming Image & Labels Yamls\n",
      "INFO:root:S1A_IW_GRDH_1SSV_20170125T174031 Found & access yamls\n",
      "INFO:root:S1A_IW_GRDH_1SSV_20170125T174031 Loading & Reformatting bands\n"
     ]
    },
    {
     "name": "stdout",
     "output_type": "stream",
     "text": [
      "Working on {\"img_yml_path\": \"common_sensing/fiji/sentinel_1/S1A_IW_GRDH_1SSV_20170125T174031/datacube-metadata.yaml\", \"lab_yml_path\": \"common_sensing/fiji/wofs_summary/wofssummary_20180101_20190101/datacube-metadata.yaml\", \"s3_bucket\": \"public-eo-data\", \"s3_dir\": \"tom/mlwatermasks/ser/\"}\n"
     ]
    },
    {
     "name": "stderr",
     "output_type": "stream",
     "text": [
      "INFO:botocore.credentials:Found credentials in environment variables.\n",
      "INFO:botocore.credentials:Found credentials in environment variables.\n",
      "INFO:root:S1A_IW_GRDH_1SSV_20170125T174031 Applying masks\n",
      "INFO:root:S1A_IW_GRDH_1SSV_20170125T174031 Training\n",
      "[Parallel(n_jobs=1)]: Using backend SequentialBackend with 1 concurrent workers.\n"
     ]
    },
    {
     "name": "stdout",
     "output_type": "stream",
     "text": [
      "building tree 1 of 4\n"
     ]
    },
    {
     "name": "stderr",
     "output_type": "stream",
     "text": [
      "[Parallel(n_jobs=1)]: Done   1 out of   1 | elapsed:  2.6min remaining:    0.0s\n"
     ]
    },
    {
     "name": "stdout",
     "output_type": "stream",
     "text": [
      "building tree 2 of 4\n",
      "building tree 3 of 4\n",
      "building tree 4 of 4\n"
     ]
    },
    {
     "name": "stderr",
     "output_type": "stream",
     "text": [
      "[Parallel(n_jobs=1)]: Done   4 out of   4 | elapsed: 10.4min finished\n",
      "INFO:root:S1A_IW_GRDH_1SSV_20170125T174031 Prediction\n",
      "[Parallel(n_jobs=1)]: Using backend SequentialBackend with 1 concurrent workers.\n",
      "[Parallel(n_jobs=1)]: Done   1 out of   1 | elapsed:   11.0s remaining:    0.0s\n",
      "[Parallel(n_jobs=1)]: Done   4 out of   4 | elapsed:   37.4s finished\n",
      "[Parallel(n_jobs=1)]: Using backend SequentialBackend with 1 concurrent workers.\n",
      "[Parallel(n_jobs=1)]: Done   1 out of   1 | elapsed:   10.7s remaining:    0.0s\n",
      "[Parallel(n_jobs=1)]: Done   4 out of   4 | elapsed:   36.3s finished\n",
      "INFO:root:S1A_IW_GRDH_1SSV_20170125T174031 Exporting water product\n",
      "INFO:botocore.credentials:Found credentials in environment variables.\n",
      "INFO:botocore.credentials:Found credentials in environment variables.\n",
      "INFO:root:S1A_IW_GRDH_1SSV_20170125T174031 Creating yaml\n",
      "DEBUG:root:in get geometry ../tmp/data/intermediate/S1A_IW_GRDH_1SSV_20170125T174031_tmp/S1A_IW_GRDH_1SSV_20170125T174031_mlwater/S1A_IW_GRDH_1SSV_20170125T174031_watermask.tif\n",
      "INFO:botocore.credentials:Found credentials in environment variables.\n",
      "DEBUG:root:Created yaml: ../tmp/data/intermediate/S1A_IW_GRDH_1SSV_20170125T174031_tmp/S1A_IW_GRDH_1SSV_20170125T174031_mlwater/datacube-metadata.yaml\n",
      "INFO:root:S1A_IW_GRDH_1SSV_20170125T174031 Uploading to S3 Bucket\n",
      "DEBUG:root:Endpoint URL: http://s3-uk-1.sa-catapult.co.uk\n",
      "INFO:root:Local source file: ../tmp/data/intermediate/S1A_IW_GRDH_1SSV_20170125T174031_tmp/S1A_IW_GRDH_1SSV_20170125T174031_mlwater/S1A_IW_GRDH_1SSV_20170125T174031_watermask.tif\n",
      "INFO:root:S3 target file: tom/mlwatermasks/ser/S1A_IW_GRDH_1SSV_20170125T174031_mlwater/S1A_IW_GRDH_1SSV_20170125T174031_watermask.tif\n",
      "INFO:root:Start: ../tmp/data/intermediate/S1A_IW_GRDH_1SSV_20170125T174031_tmp/S1A_IW_GRDH_1SSV_20170125T174031_mlwater/S1A_IW_GRDH_1SSV_20170125T174031_watermask.tif 2020-06-24 08:33:34\n"
     ]
    },
    {
     "name": "stdout",
     "output_type": "stream",
     "text": [
      "Preparing scene S1A_IW_GRDH_1SSV_20170125T174031_mlwater\n",
      "Scene path ../tmp/data/intermediate/S1A_IW_GRDH_1SSV_20170125T174031_tmp/S1A_IW_GRDH_1SSV_20170125T174031_mlwater/\n",
      "{'watermask': {'path': 'S1A_IW_GRDH_1SSV_20170125T174031_watermask.tif'}, 'waterprob': {'path': 'S1A_IW_GRDH_1SSV_20170125T174031_waterprob.tif'}}\n",
      "{'spatial_reference': 'GEOGCS[\"WGS 84\",DATUM[\"WGS_1984\",SPHEROID[\"WGS 84\",6378137,298.257223563,AUTHORITY[\"EPSG\",\"7030\"]],AUTHORITY[\"EPSG\",\"6326\"]],PRIMEM[\"Greenwich\",0],UNIT[\"degree\",0.0174532925199433],AUTHORITY[\"EPSG\",\"4326\"]]', 'geo_ref_points': {'ul': {'x': 176.2434765425499, 'y': -17.367492722122325}, 'ur': {'x': 178.90608304468014, 'y': -17.367492722122325}, 'll': {'x': 176.2434765425499, 'y': -19.282880570921957}, 'lr': {'x': 178.90608304468014, 'y': -19.282880570921957}}} {'ul': {'lon': 176.2434765425499, 'lat': -17.367492722122325}, 'ur': {'lon': 178.90608304468014, 'lat': -17.367492722122325}, 'll': {'lon': 176.2434765425499, 'lat': -19.282880570921957}, 'lr': {'lon': 178.90608304468014, 'lat': -19.282880570921957}}\n"
     ]
    },
    {
     "name": "stderr",
     "output_type": "stream",
     "text": [
      "INFO:root:Finish: ../tmp/data/intermediate/S1A_IW_GRDH_1SSV_20170125T174031_tmp/S1A_IW_GRDH_1SSV_20170125T174031_mlwater/S1A_IW_GRDH_1SSV_20170125T174031_watermask.tif 2020-06-24 08:34:02\n",
      "DEBUG:root:Endpoint URL: http://s3-uk-1.sa-catapult.co.uk\n",
      "INFO:root:Local source file: ../tmp/data/intermediate/S1A_IW_GRDH_1SSV_20170125T174031_tmp/S1A_IW_GRDH_1SSV_20170125T174031_mlwater/S1A_IW_GRDH_1SSV_20170125T174031_waterprob.tif\n",
      "INFO:root:S3 target file: tom/mlwatermasks/ser/S1A_IW_GRDH_1SSV_20170125T174031_mlwater/S1A_IW_GRDH_1SSV_20170125T174031_waterprob.tif\n",
      "INFO:root:Start: ../tmp/data/intermediate/S1A_IW_GRDH_1SSV_20170125T174031_tmp/S1A_IW_GRDH_1SSV_20170125T174031_mlwater/S1A_IW_GRDH_1SSV_20170125T174031_waterprob.tif 2020-06-24 08:34:02\n",
      "INFO:root:Finish: ../tmp/data/intermediate/S1A_IW_GRDH_1SSV_20170125T174031_tmp/S1A_IW_GRDH_1SSV_20170125T174031_mlwater/S1A_IW_GRDH_1SSV_20170125T174031_waterprob.tif 2020-06-24 08:34:42\n",
      "DEBUG:root:Endpoint URL: http://s3-uk-1.sa-catapult.co.uk\n",
      "INFO:root:Local source file: ../tmp/data/intermediate/S1A_IW_GRDH_1SSV_20170125T174031_tmp/S1A_IW_GRDH_1SSV_20170125T174031_mlwater/datacube-metadata.yaml\n",
      "INFO:root:S3 target file: tom/mlwatermasks/ser/S1A_IW_GRDH_1SSV_20170125T174031_mlwater/datacube-metadata.yaml\n",
      "INFO:root:Start: ../tmp/data/intermediate/S1A_IW_GRDH_1SSV_20170125T174031_tmp/S1A_IW_GRDH_1SSV_20170125T174031_mlwater/datacube-metadata.yaml 2020-06-24 08:34:42\n",
      "INFO:root:Finish: ../tmp/data/intermediate/S1A_IW_GRDH_1SSV_20170125T174031_tmp/S1A_IW_GRDH_1SSV_20170125T174031_mlwater/datacube-metadata.yaml 2020-06-24 08:34:42\n",
      "INFO:root:S1B_IW_GRDH_1SDV_20200409T174023 Starting\n",
      "INFO:root:S1B_IW_GRDH_1SDV_20200409T174023 Finding & Streaming Image & Labels Yamls\n",
      "INFO:root:S1B_IW_GRDH_1SDV_20200409T174023 Found & access yamls\n",
      "INFO:root:S1B_IW_GRDH_1SDV_20200409T174023 Loading & Reformatting bands\n"
     ]
    },
    {
     "name": "stdout",
     "output_type": "stream",
     "text": [
      "not boo\n",
      "Working on {\"img_yml_path\": \"common_sensing/fiji/sentinel_1/S1B_IW_GRDH_1SDV_20200409T174023/datacube-metadata.yaml\", \"lab_yml_path\": \"common_sensing/fiji/wofs_summary/wofssummary_20180101_20190101/datacube-metadata.yaml\", \"s3_bucket\": \"public-eo-data\", \"s3_dir\": \"tom/mlwatermasks/ser/\"}\n"
     ]
    },
    {
     "name": "stderr",
     "output_type": "stream",
     "text": [
      "INFO:botocore.credentials:Found credentials in environment variables.\n",
      "INFO:botocore.credentials:Found credentials in environment variables.\n",
      "INFO:botocore.credentials:Found credentials in environment variables.\n",
      "INFO:botocore.credentials:Found credentials in environment variables.\n",
      "INFO:root:S1B_IW_GRDH_1SDV_20200409T174023 Applying masks\n",
      "INFO:root:S1B_IW_GRDH_1SDV_20200409T174023 Training\n",
      "[Parallel(n_jobs=1)]: Using backend SequentialBackend with 1 concurrent workers.\n"
     ]
    },
    {
     "name": "stdout",
     "output_type": "stream",
     "text": [
      "building tree 1 of 4\n"
     ]
    },
    {
     "name": "stderr",
     "output_type": "stream",
     "text": [
      "[Parallel(n_jobs=1)]: Done   1 out of   1 | elapsed:  1.6min remaining:    0.0s\n"
     ]
    },
    {
     "name": "stdout",
     "output_type": "stream",
     "text": [
      "building tree 2 of 4\n"
     ]
    }
   ],
   "source": [
    "while not q.empty():\n",
    "    item = q.lease(lease_secs=1800, block=True, timeout=600)\n",
    "    if item is not None:\n",
    "        itemstr = item.decode(\"utf=8\")\n",
    "        print(\"Working on \" + itemstr)\n",
    "        #time.sleep(10) # Put your actual work here instead of sleep.\n",
    "        process_scene(itemstr)\n",
    "        q.complete(item)\n",
    "    else:\n",
    "        print(\"Waiting for work\")"
   ]
  },
  {
   "cell_type": "code",
   "execution_count": 4,
   "metadata": {},
   "outputs": [
    {
     "name": "stdout",
     "output_type": "stream",
     "text": [
      "Queue empty!\n"
     ]
    }
   ],
   "source": [
    "print(\"Queue empty!\")"
   ]
  }
 ],
 "metadata": {
  "kernelspec": {
   "display_name": "Python 3",
   "language": "python",
   "name": "python3"
  },
  "language_info": {
   "codemirror_mode": {
    "name": "ipython",
    "version": 3
   },
   "file_extension": ".py",
   "mimetype": "text/x-python",
   "name": "python",
   "nbconvert_exporter": "python",
   "pygments_lexer": "ipython3",
   "version": "3.7.4"
  }
 },
 "nbformat": 4,
 "nbformat_minor": 4
}
