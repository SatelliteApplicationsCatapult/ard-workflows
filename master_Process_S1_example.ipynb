{
 "cells": [
  {
   "cell_type": "code",
   "execution_count": 25,
   "metadata": {},
   "outputs": [
    {
     "name": "stdout",
     "output_type": "stream",
     "text": [
      "The autoreload extension is already loaded. To reload it, use:\n",
      "  %reload_ext autoreload\n"
     ]
    }
   ],
   "source": [
    "%load_ext autoreload\n",
    "%autoreload 2"
   ]
  },
  {
   "cell_type": "markdown",
   "metadata": {},
   "source": [
    "## Example process of Sentinel-1 GRD ODC Prep\n",
    "- Outputs backscatter (Gamma-VV/VH) products and layover and shadow masks\n",
    "- Requires S3-like bucket hosted DEM\n",
    "- Assumes uploaded to S3-like bucket\n",
    "- Will try Alaska Satellite Facility then ESA Open Access Hub\n",
    "- Aligned w/ CEOS ARD Definition but not validated as meeting any brand standard\n",
    "\n",
    "Would like to...\n",
    "- add option to scale (*100) and define precision (4 *sf*) of output db values so can convert dtype to uint16 (float64 takes up spacceeee) \n",
    "- amend snap process to inc. more robust no data value (currently uses 0...)\n",
    "- make creation of layover+shadow mask optional (almost doubles processing as requires alternate (simulater) terrain correction)\n",
    "- expand to inc. other sources of pre-generated ARD\n",
    "- align more explicitly w/ CEOS ARD def/standard"
   ]
  },
  {
   "cell_type": "code",
   "execution_count": 26,
   "metadata": {},
   "outputs": [],
   "source": [
    "import os\n",
    "import time\n",
    "from tqdm import tqdm\n",
    "\n",
    "from utils.prepS1 import prepareS1"
   ]
  },
  {
   "cell_type": "code",
   "execution_count": 27,
   "metadata": {},
   "outputs": [
    {
     "name": "stdout",
     "output_type": "stream",
     "text": [
      "AWS_ACCESS_KEY_ID : True\n",
      "AWS_SECRET_ACCESS_KEY : True\n",
      "AWS_S3_ENDPOINT_URL : True\n",
      "COPERNICUS_USERNAME : True\n",
      "COPERNICUS_PWD : True\n",
      "S1_PROCESS_P1A : True\n",
      "S1_PROCESS_P2A : True\n",
      "S1_PROCESS_P3A : True\n",
      "S1_PROCESS_P4A : True\n",
      "SNAP_GPT : True\n",
      "ASF_USERNAME : True\n",
      "ASF_PWD : True\n"
     ]
    }
   ],
   "source": [
    "source_envars = ['AWS_ACCESS_KEY_ID','AWS_SECRET_ACCESS_KEY','AWS_S3_ENDPOINT_URL','COPERNICUS_USERNAME','COPERNICUS_PWD','S1_PROCESS_P1A','S1_PROCESS_P2A','S1_PROCESS_P3A','S1_PROCESS_P4A','SNAP_GPT','ASF_USERNAME','ASF_PWD']\n",
    "for var in source_envars:\n",
    "    print(var,':',os.getenv(var)!=None)"
   ]
  },
  {
   "cell_type": "code",
   "execution_count": 28,
   "metadata": {},
   "outputs": [],
   "source": [
    "# os.getenv('LOGLEVEL')\n",
    "os.environ[\"LOGLEVEL\"] = 'DEBUG'"
   ]
  },
  {
   "cell_type": "code",
   "execution_count": 29,
   "metadata": {},
   "outputs": [],
   "source": [
    "scenes = ['S1A_IW_GRDH_1SDV_20200117T064006_20200117T064041_030836_0389BE_D8FE']\n",
    "scenes = ['S1A_IW_GRDH_1SSV_20141020T173958_20141020T174027_002916_0034E8_DA92'] # this is one that errored out alread\n",
    "scenes = [\n",
    "    'S1A_IW_GRDH_1SSV_20141020T173958_20141020T174027_002916_0034E8_DA92', # bnd\n",
    "    'S1A_IW_GRDH_1SSV_20151209T063939_20151209T064015_008961_00CD77_6703', # asf\n",
    "    'S1A_IW_GRDH_1SSV_20151214T173958_20151214T174027_009041_00CF93_0E88', # asf\n",
    "    'S1A_IW_GRDH_1SSV_20150217T173955_20150217T174024_004666_005C26_68DA', # bnd\n",
    "    'S1A_IW_GRDH_1SSV_20170101T174003_20170101T174032_014641_017CE8_8CC3', # bnd\n",
    "    'S1A_IW_GRDH_1SDV_20200415T174051_20200415T174114_032141_03B737_97F2' # ok\n",
    "         ]\n",
    "\n",
    "scenes = [\n",
    "    'S1B_IW_GRDH_1SDV_20200131T071248_20200131T071317_020057_025F57_31A8' # Vanuatu\n",
    "]"
   ]
  },
  {
   "cell_type": "code",
   "execution_count": 30,
   "metadata": {},
   "outputs": [
    {
     "name": "stderr",
     "output_type": "stream",
     "text": [
      "\n",
      "\n",
      "\n",
      "  0%|          | 0/1 [00:00<?, ?it/s]\u001b[A\u001b[A\u001b[AINFO:root:S1B_IW_GRDH_1SDV_20200131T071248_20200131T071317_020057_025F57_31A8.SAFE S1B_IW_GRDH_1SDV_20200131T071248 Starting\n",
      "INFO:root:S1B_IW_GRDH_1SDV_20200131T071248_20200131T071317_020057_025F57_31A8.SAFE S1B_IW_GRDH_1SDV_20200131T071248 DOWNLOADING via ASF\n",
      "INFO:root:fetching: https://api.daac.asf.alaska.edu/services/search/param?granule_list=S1B_IW_GRDH_1SDV_20200131T071248_20200131T071317_020057_025F57_31A8&output=csv\n"
     ]
    },
    {
     "name": "stdout",
     "output_type": "stream",
     "text": [
      "\n"
     ]
    },
    {
     "name": "stderr",
     "output_type": "stream",
     "text": [
      "INFO:root:logging into asf\n",
      "INFO:root:successfully logged into asf\n",
      "INFO:root:Extracting ASF scene: /tmp/data/S1_ARD/S1B_IW_GRDH_1SDV_20200131T071248_tmp/S1B_IW_GRDH_1SDV_20200131T071248_20200131T071317_020057_025F57_31A8.zip\n",
      "INFO:root:S1B_IW_GRDH_1SDV_20200131T071248_20200131T071317_020057_025F57_31A8.SAFE S1B_IW_GRDH_1SDV_20200131T071248 DOWNLOADED via ASF\n",
      "INFO:root:['/opt/snap/bin/gpt', '/opt/notebooks/utils/cs_s1_pt1_bnr_Orb_Cal_ML.xml', '-Pinput_grd=/tmp/data/S1_ARD/S1B_IW_GRDH_1SDV_20200131T071248_tmp/S1B_IW_GRDH_1SDV_20200131T071248_20200131T071317_020057_025F57_31A8.SAFE/manifest.safe', '-Poutput_ml=/tmp/data/S1_ARD/S1B_IW_GRDH_1SDV_20200131T071248_tmp/S1B_IW_GRDH_1SDV_20200131T071248_Orb_Cal_Deb_ML.dim']\n",
      "INFO:snap_stderr:stderr:INFO: org.esa.snap.core.gpf.operators.tooladapter.ToolAdapterIO: Initializing external tool adapters\n",
      "INFO:snap_stderr:stderr:INFO: org.esa.snap.core.util.EngineVersionCheckActivator: Please check regularly for new updates for the best SNAP experience.\n",
      "INFO:snap_stdout:Executing processing graph\n",
      "INFO:snap_stderr:stderr:INFO: org.hsqldb.persist.Logger: dataFileCache open start\n",
      "INFO:snap_stdout:version = 3.2\n",
      "INFO:snap_stderr:stderr:INFO: org.esa.snap.engine_utilities.download.DownloadableContentImpl: http retrieving http://aux.sentinel1.eo.esa.int/POEORB/2020/02/20/S1A_OPER_AUX_POEORB_OPOD_20200220T120939_V20200130T225942_20200201T005942.EOF\n",
      "INFO:snap_stderr:stderr:INFO: org.esa.snap.engine_utilities.download.DownloadableContentImpl: http retrieving http://step.esa.int/auxdata/orbits/Sentinel-1/POEORB/S1B/2020/01/S1B_OPER_AUX_POEORB_OPOD_20200220T111235_V20200130T225942_20200201T005942.EOF.zip\n",
      "INFO:snap_stdout:....10%....20%....30%....40%....50%....60%....70%....80%....90% done.\n",
      "INFO:root:S1B_IW_GRDH_1SDV_20200131T071248_20200131T071317_020057_025F57_31A8.SAFE S1B_IW_GRDH_1SDV_20200131T071248 PROCESSED to MULTILOOK starting PT2\n",
      "INFO:root:['/opt/snap/bin/gpt', '/opt/notebooks/utils/cs_s1_pt2A_TF.xml', '-Pinput_ml=/tmp/data/S1_ARD/S1B_IW_GRDH_1SDV_20200131T071248_tmp/S1B_IW_GRDH_1SDV_20200131T071248_Orb_Cal_Deb_ML.dim', '-Pext_dem=/tmp/data/S1_ARD/S1B_IW_GRDH_1SDV_20200131T071248_tmp/ext_dem.tif', '-Poutput_tf=/tmp/data/S1_ARD/S1B_IW_GRDH_1SDV_20200131T071248_tmp/S1B_IW_GRDH_1SDV_20200131T071248_Orb_Cal_Deb_ML_TF.dim']\n",
      "INFO:snap_stderr:stderr:INFO: org.esa.snap.core.gpf.operators.tooladapter.ToolAdapterIO: Initializing external tool adapters\n",
      "INFO:snap_stderr:stderr:INFO: org.esa.snap.core.util.EngineVersionCheckActivator: Please check regularly for new updates for the best SNAP experience.\n",
      "INFO:snap_stdout:Executing processing graph\n",
      "INFO:snap_stderr:stderr:INFO: org.hsqldb.persist.Logger: dataFileCache open start\n",
      "INFO:snap_stdout:....10%....20%....30%....40%....50%....60%....70%....80%....90% done.\n",
      "INFO:root:S1B_IW_GRDH_1SDV_20200131T071248_20200131T071317_020057_025F57_31A8.SAFE S1B_IW_GRDH_1SDV_20200131T071248 PROCESSED to TERRAIN FLATTEN starting PT3\n",
      "INFO:root:['/opt/snap/bin/gpt', '/opt/notebooks/utils/cs_s1_pt3A_TC_db.xml', '-Pinput_tf=/tmp/data/S1_ARD/S1B_IW_GRDH_1SDV_20200131T071248_tmp/S1B_IW_GRDH_1SDV_20200131T071248_Orb_Cal_Deb_ML_TF.dim', '-Pext_dem=/tmp/data/S1_ARD/S1B_IW_GRDH_1SDV_20200131T071248_tmp/ext_dem.tif', '-Poutput_db=/tmp/data/S1_ARD/S1B_IW_GRDH_1SDV_20200131T071248_tmp/S1B_IW_GRDH_1SDV_20200131T071248_Orb_Cal_Deb_ML_TF_TC_dB.dim']\n",
      "INFO:snap_stderr:stderr:INFO: org.esa.snap.core.gpf.operators.tooladapter.ToolAdapterIO: Initializing external tool adapters\n",
      "INFO:snap_stderr:stderr:INFO: org.esa.snap.core.util.EngineVersionCheckActivator: Please check regularly for new updates for the best SNAP experience.\n",
      "INFO:snap_stdout:Executing processing graph\n",
      "INFO:snap_stderr:stderr:INFO: org.hsqldb.persist.Logger: dataFileCache open start\n",
      "INFO:snap_stdout:....10%....20%....30%....40%....50%....60%....70%....80%....90% done.\n",
      "INFO:root:S1B_IW_GRDH_1SDV_20200131T071248_20200131T071317_020057_025F57_31A8.SAFE S1B_IW_GRDH_1SDV_20200131T071248 PROCESSED to dB starting PT4\n",
      "INFO:root:['/opt/snap/bin/gpt', '/opt/notebooks/utils/cs_s1_pt4A_Sm_Bm_TC_lsm.xml', '-Pinput_tf=/tmp/data/S1_ARD/S1B_IW_GRDH_1SDV_20200131T071248_tmp/S1B_IW_GRDH_1SDV_20200131T071248_Orb_Cal_Deb_ML_TF.dim', '-Pext_dem=/tmp/data/S1_ARD/S1B_IW_GRDH_1SDV_20200131T071248_tmp/ext_dem.tif', '-Poutput_ls=/tmp/data/S1_ARD/S1B_IW_GRDH_1SDV_20200131T071248_tmp/S1B_IW_GRDH_1SDV_20200131T071248_Orb_Cal_Deb_ML_TF_TC_lsm.dim']\n",
      "INFO:snap_stderr:stderr:INFO: org.esa.snap.core.gpf.operators.tooladapter.ToolAdapterIO: Initializing external tool adapters\n",
      "INFO:snap_stderr:stderr:INFO: org.esa.snap.core.util.EngineVersionCheckActivator: Please check regularly for new updates for the best SNAP experience.\n",
      "INFO:snap_stdout:Executing processing graph\n",
      "INFO:snap_stderr:stderr:INFO: org.hsqldb.persist.Logger: dataFileCache open start\n",
      "INFO:snap_stdout:....10%....20%....30%....40%....50%....60%....70%....80%....90% done.\n",
      "INFO:root:S1B_IW_GRDH_1SDV_20200131T071248_20200131T071317_020057_025F57_31A8.SAFE S1B_IW_GRDH_1SDV_20200131T071248 PROCESSED to lsm starting COG conversion\n",
      "INFO:root:S1B_IW_GRDH_1SDV_20200131T071248_20200131T071317_020057_025F57_31A8.SAFE S1B_IW_GRDH_1SDV_20200131T071248 Converting COGs\n",
      "INFO:root:converting /tmp/data/S1_ARD/S1B_IW_GRDH_1SDV_20200131T071248_tmp/S1B_IW_GRDH_1SDV_20200131T071248_Orb_Cal_Deb_ML_TF_TC_dB.data/Gamma0_VH_db.img to cog at /tmp/data/S1_ARD/S1B_IW_GRDH_1SDV_20200131T071248_tmp/S1B_IW_GRDH_1SDV_20200131T071248/S1B_IW_GRDH_1SDV_20200131T071248_Gamma0_VH_db.tif\n",
      "INFO:botocore.credentials:Found credentials in environment variables.\n",
      "INFO:root:converting /tmp/data/S1_ARD/S1B_IW_GRDH_1SDV_20200131T071248_tmp/S1B_IW_GRDH_1SDV_20200131T071248_Orb_Cal_Deb_ML_TF_TC_dB.data/Gamma0_VV_db.img to cog at /tmp/data/S1_ARD/S1B_IW_GRDH_1SDV_20200131T071248_tmp/S1B_IW_GRDH_1SDV_20200131T071248/S1B_IW_GRDH_1SDV_20200131T071248_Gamma0_VV_db.tif\n",
      "INFO:botocore.credentials:Found credentials in environment variables.\n",
      "INFO:root:converting /tmp/data/S1_ARD/S1B_IW_GRDH_1SDV_20200131T071248_tmp/S1B_IW_GRDH_1SDV_20200131T071248_Orb_Cal_Deb_ML_TF_TC_lsm.data/LayoverShadow_MASK_VH.img to cog at /tmp/data/S1_ARD/S1B_IW_GRDH_1SDV_20200131T071248_tmp/S1B_IW_GRDH_1SDV_20200131T071248/S1B_IW_GRDH_1SDV_20200131T071248_LayoverShadow_MASK_VH.tif\n",
      "INFO:botocore.credentials:Found credentials in environment variables.\n",
      "INFO:root:S1B_IW_GRDH_1SDV_20200131T071248_20200131T071317_020057_025F57_31A8.SAFE S1B_IW_GRDH_1SDV_20200131T071248 COGGED\n",
      "INFO:root:S1B_IW_GRDH_1SDV_20200131T071248_20200131T071317_020057_025F57_31A8.SAFE S1B_IW_GRDH_1SDV_20200131T071248 Copying original METADATA\n",
      "INFO:root:Copying original metadata file to cog dir: /tmp/data/S1_ARD/S1B_IW_GRDH_1SDV_20200131T071248_tmp/S1B_IW_GRDH_1SDV_20200131T071248/S1B_IW_GRDH_1SDV_20200131T071248_S1B_IW_GRDH_1SDV_20200131T071248_Orb_Cal_Deb_ML_TF_TC_dB.dim\n",
      "INFO:root:Copying original metadata file to cog dir: /tmp/data/S1_ARD/S1B_IW_GRDH_1SDV_20200131T071248_tmp/S1B_IW_GRDH_1SDV_20200131T071248/S1B_IW_GRDH_1SDV_20200131T071248_S1B_IW_GRDH_1SDV_20200131T071248_Orb_Cal_Deb_ML_TF_TC_lsm.dim\n",
      "INFO:root:S1B_IW_GRDH_1SDV_20200131T071248_20200131T071317_020057_025F57_31A8.SAFE S1B_IW_GRDH_1SDV_20200131T071248 COPIED original METADATA\n",
      "INFO:root:S1B_IW_GRDH_1SDV_20200131T071248_20200131T071317_020057_025F57_31A8.SAFE S1B_IW_GRDH_1SDV_20200131T071248 Creating dataset YAML\n",
      "INFO:root:Preparing scene S1B_IW_GRDH_1SDV_20200131T071248_tmp\n",
      "INFO:root:Scene path /tmp/data/S1_ARD/S1B_IW_GRDH_1SDV_20200131T071248_tmp/S1B_IW_GRDH_1SDV_20200131T071248\n",
      "INFO:root:prod_path: ['/tmp/data/S1_ARD/S1B_IW_GRDH_1SDV_20200131T071248_tmp/S1B_IW_GRDH_1SDV_20200131T071248/S1B_IW_GRDH_1SDV_20200131T071248_Gamma0_VH_db.tif', '/tmp/data/S1_ARD/S1B_IW_GRDH_1SDV_20200131T071248_tmp/S1B_IW_GRDH_1SDV_20200131T071248/S1B_IW_GRDH_1SDV_20200131T071248_Gamma0_VV_db.tif', '/tmp/data/S1_ARD/S1B_IW_GRDH_1SDV_20200131T071248_tmp/S1B_IW_GRDH_1SDV_20200131T071248/S1B_IW_GRDH_1SDV_20200131T071248_LayoverShadow_MASK_VH.tif'], scene_name: S1B_IW_GRDH_1SDV_20200131T071248_tmp\n",
      "INFO:botocore.credentials:Found credentials in environment variables.\n",
      "INFO:root:S1B_IW_GRDH_1SDV_20200131T071248_20200131T071317_020057_025F57_31A8.SAFE S1B_IW_GRDH_1SDV_20200131T071248 Created original METADATA\n",
      "INFO:root:S1B_IW_GRDH_1SDV_20200131T071248_20200131T071317_020057_025F57_31A8.SAFE S1B_IW_GRDH_1SDV_20200131T071248 Uploading to S3 Bucket\n",
      "INFO:root:Local source file: /tmp/data/S1_ARD/S1B_IW_GRDH_1SDV_20200131T071248_tmp/S1B_IW_GRDH_1SDV_20200131T071248/S1B_IW_GRDH_1SDV_20200131T071248_Gamma0_VH_db.tif\n",
      "INFO:root:S3 target file: fiji/tom/sentinel1_corrections_VA/S1B_IW_GRDH_1SDV_20200131T071248/S1B_IW_GRDH_1SDV_20200131T071248_Gamma0_VH_db.tif\n",
      "INFO:root:Start: /tmp/data/S1_ARD/S1B_IW_GRDH_1SDV_20200131T071248_tmp/S1B_IW_GRDH_1SDV_20200131T071248/S1B_IW_GRDH_1SDV_20200131T071248_Gamma0_VH_db.tif 2020-05-06 14:16:21\n",
      "INFO:root:Finish: /tmp/data/S1_ARD/S1B_IW_GRDH_1SDV_20200131T071248_tmp/S1B_IW_GRDH_1SDV_20200131T071248/S1B_IW_GRDH_1SDV_20200131T071248_Gamma0_VH_db.tif 2020-05-06 14:17:17\n",
      "INFO:root:Local source file: /tmp/data/S1_ARD/S1B_IW_GRDH_1SDV_20200131T071248_tmp/S1B_IW_GRDH_1SDV_20200131T071248/S1B_IW_GRDH_1SDV_20200131T071248_Gamma0_VV_db.tif\n",
      "INFO:root:S3 target file: fiji/tom/sentinel1_corrections_VA/S1B_IW_GRDH_1SDV_20200131T071248/S1B_IW_GRDH_1SDV_20200131T071248_Gamma0_VV_db.tif\n",
      "INFO:root:Start: /tmp/data/S1_ARD/S1B_IW_GRDH_1SDV_20200131T071248_tmp/S1B_IW_GRDH_1SDV_20200131T071248/S1B_IW_GRDH_1SDV_20200131T071248_Gamma0_VV_db.tif 2020-05-06 14:17:17\n",
      "INFO:root:Finish: /tmp/data/S1_ARD/S1B_IW_GRDH_1SDV_20200131T071248_tmp/S1B_IW_GRDH_1SDV_20200131T071248/S1B_IW_GRDH_1SDV_20200131T071248_Gamma0_VV_db.tif 2020-05-06 14:18:07\n",
      "INFO:root:Local source file: /tmp/data/S1_ARD/S1B_IW_GRDH_1SDV_20200131T071248_tmp/S1B_IW_GRDH_1SDV_20200131T071248/S1B_IW_GRDH_1SDV_20200131T071248_LayoverShadow_MASK_VH.tif\n",
      "INFO:root:S3 target file: fiji/tom/sentinel1_corrections_VA/S1B_IW_GRDH_1SDV_20200131T071248/S1B_IW_GRDH_1SDV_20200131T071248_LayoverShadow_MASK_VH.tif\n",
      "INFO:root:Start: /tmp/data/S1_ARD/S1B_IW_GRDH_1SDV_20200131T071248_tmp/S1B_IW_GRDH_1SDV_20200131T071248/S1B_IW_GRDH_1SDV_20200131T071248_LayoverShadow_MASK_VH.tif 2020-05-06 14:18:07\n",
      "INFO:root:Finish: /tmp/data/S1_ARD/S1B_IW_GRDH_1SDV_20200131T071248_tmp/S1B_IW_GRDH_1SDV_20200131T071248/S1B_IW_GRDH_1SDV_20200131T071248_LayoverShadow_MASK_VH.tif 2020-05-06 14:18:07\n",
      "INFO:root:Local source file: /tmp/data/S1_ARD/S1B_IW_GRDH_1SDV_20200131T071248_tmp/S1B_IW_GRDH_1SDV_20200131T071248/S1B_IW_GRDH_1SDV_20200131T071248_S1B_IW_GRDH_1SDV_20200131T071248_Orb_Cal_Deb_ML_TF_TC_dB.dim\n",
      "INFO:root:S3 target file: fiji/tom/sentinel1_corrections_VA/S1B_IW_GRDH_1SDV_20200131T071248/S1B_IW_GRDH_1SDV_20200131T071248_S1B_IW_GRDH_1SDV_20200131T071248_Orb_Cal_Deb_ML_TF_TC_dB.dim\n",
      "INFO:root:Start: /tmp/data/S1_ARD/S1B_IW_GRDH_1SDV_20200131T071248_tmp/S1B_IW_GRDH_1SDV_20200131T071248/S1B_IW_GRDH_1SDV_20200131T071248_S1B_IW_GRDH_1SDV_20200131T071248_Orb_Cal_Deb_ML_TF_TC_dB.dim 2020-05-06 14:18:08\n",
      "INFO:root:Finish: /tmp/data/S1_ARD/S1B_IW_GRDH_1SDV_20200131T071248_tmp/S1B_IW_GRDH_1SDV_20200131T071248/S1B_IW_GRDH_1SDV_20200131T071248_S1B_IW_GRDH_1SDV_20200131T071248_Orb_Cal_Deb_ML_TF_TC_dB.dim 2020-05-06 14:18:09\n",
      "INFO:root:Local source file: /tmp/data/S1_ARD/S1B_IW_GRDH_1SDV_20200131T071248_tmp/S1B_IW_GRDH_1SDV_20200131T071248/S1B_IW_GRDH_1SDV_20200131T071248_S1B_IW_GRDH_1SDV_20200131T071248_Orb_Cal_Deb_ML_TF_TC_lsm.dim\n",
      "INFO:root:S3 target file: fiji/tom/sentinel1_corrections_VA/S1B_IW_GRDH_1SDV_20200131T071248/S1B_IW_GRDH_1SDV_20200131T071248_S1B_IW_GRDH_1SDV_20200131T071248_Orb_Cal_Deb_ML_TF_TC_lsm.dim\n",
      "INFO:root:Start: /tmp/data/S1_ARD/S1B_IW_GRDH_1SDV_20200131T071248_tmp/S1B_IW_GRDH_1SDV_20200131T071248/S1B_IW_GRDH_1SDV_20200131T071248_S1B_IW_GRDH_1SDV_20200131T071248_Orb_Cal_Deb_ML_TF_TC_lsm.dim 2020-05-06 14:18:09\n",
      "INFO:root:Finish: /tmp/data/S1_ARD/S1B_IW_GRDH_1SDV_20200131T071248_tmp/S1B_IW_GRDH_1SDV_20200131T071248/S1B_IW_GRDH_1SDV_20200131T071248_S1B_IW_GRDH_1SDV_20200131T071248_Orb_Cal_Deb_ML_TF_TC_lsm.dim 2020-05-06 14:18:12\n",
      "INFO:root:Local source file: /tmp/data/S1_ARD/S1B_IW_GRDH_1SDV_20200131T071248_tmp/S1B_IW_GRDH_1SDV_20200131T071248/datacube-metadata.yaml\n",
      "INFO:root:S3 target file: fiji/tom/sentinel1_corrections_VA/S1B_IW_GRDH_1SDV_20200131T071248/datacube-metadata.yaml\n",
      "INFO:root:Start: /tmp/data/S1_ARD/S1B_IW_GRDH_1SDV_20200131T071248_tmp/S1B_IW_GRDH_1SDV_20200131T071248/datacube-metadata.yaml 2020-05-06 14:18:12\n",
      "INFO:root:Finish: /tmp/data/S1_ARD/S1B_IW_GRDH_1SDV_20200131T071248_tmp/S1B_IW_GRDH_1SDV_20200131T071248/datacube-metadata.yaml 2020-05-06 14:18:12\n",
      "INFO:root:S1B_IW_GRDH_1SDV_20200131T071248_20200131T071317_020057_025F57_31A8.SAFE S1B_IW_GRDH_1SDV_20200131T071248 Uploaded to S3 Bucket\n"
     ]
    },
    {
     "name": "stdout",
     "output_type": "stream",
     "text": [
      "not boo\n"
     ]
    },
    {
     "name": "stderr",
     "output_type": "stream",
     "text": [
      "\n",
      "\n",
      "\n",
      "100%|██████████| 1/1 [55:27<00:00, 3327.29s/it]\u001b[A\u001b[A\u001b[A"
     ]
    },
    {
     "name": "stdout",
     "output_type": "stream",
     "text": [
      "CPU times: user 33min 9s, sys: 5min 35s, total: 38min 45s\n",
      "Wall time: 55min 27s\n"
     ]
    },
    {
     "name": "stderr",
     "output_type": "stream",
     "text": [
      "\n"
     ]
    }
   ],
   "source": [
    "%%time\n",
    "# Vanuatu\n",
    "for scene in tqdm(scenes[:]):\n",
    "    print('')\n",
    "    prepareS1(scene, \n",
    "              ext_dem='common_sensing/ancillary_products/SRTM1Sec/Vanuatu_DEM.tif',\n",
    "              s3_bucket='public-eo-data', \n",
    "              s3_dir='fiji/tom/sentinel1_corrections_VA/', \n",
    "              inter_dir='/tmp/data/S1_ARD/')"
   ]
  },
  {
   "cell_type": "code",
   "execution_count": 24,
   "metadata": {
    "collapsed": true,
    "jupyter": {
     "outputs_hidden": true
    }
   },
   "outputs": [
    {
     "name": "stderr",
     "output_type": "stream",
     "text": [
      "\n",
      "\n",
      "\n",
      "  0%|          | 0/6 [00:00<?, ?it/s]\u001b[A\u001b[A\u001b[AINFO:root:S1A_IW_GRDH_1SSV_20141020T173958_20141020T174027_002916_0034E8_DA92.SAFE S1A_IW_GRDH_1SSV_20141020T173958 Starting\n",
      "INFO:root:S1A_IW_GRDH_1SSV_20141020T173958_20141020T174027_002916_0034E8_DA92.SAFE S1A_IW_GRDH_1SSV_20141020T173958 DOWNLOADING via ASF\n",
      "INFO:root:fetching: https://api.daac.asf.alaska.edu/services/search/param?granule_list=S1A_IW_GRDH_1SSV_20141020T173958_20141020T174027_002916_0034E8_DA92&output=csv\n"
     ]
    },
    {
     "name": "stdout",
     "output_type": "stream",
     "text": [
      "\n"
     ]
    },
    {
     "name": "stderr",
     "output_type": "stream",
     "text": [
      "INFO:root:logging into asf\n",
      "INFO:root:successfully logged into asf\n",
      "INFO:root:Extracting ASF scene: /tmp/data/S1_ARD/S1A_IW_GRDH_1SSV_20141020T173958_tmp/S1A_IW_GRDH_1SSV_20141020T173958_20141020T174027_002916_0034E8_DA92.zip\n",
      "INFO:root:S1A_IW_GRDH_1SSV_20141020T173958_20141020T174027_002916_0034E8_DA92.SAFE S1A_IW_GRDH_1SSV_20141020T173958 DOWNLOADED via ASF\n",
      "INFO:root:['/opt/snap/bin/gpt', '/opt/notebooks/utils/cs_s1_pt1_bnr_Orb_Cal_ML.xml', '-Pinput_grd=/tmp/data/S1_ARD/S1A_IW_GRDH_1SSV_20141020T173958_tmp/S1A_IW_GRDH_1SSV_20141020T173958_20141020T174027_002916_0034E8_DA92.SAFE/manifest.safe', '-Poutput_ml=/tmp/data/S1_ARD/S1A_IW_GRDH_1SSV_20141020T173958_tmp/S1A_IW_GRDH_1SSV_20141020T173958_Orb_Cal_Deb_ML.dim']\n"
     ]
    },
    {
     "name": "stdout",
     "output_type": "stream",
     "text": [
      "True\n",
      "/tmp/data/S1_ARD/S1A_IW_GRDH_1SSV_20141020T173958_tmp/S1A_IW_GRDH_1SSV_20141020T173958_Orb_Cal_Deb_ML.dim\n"
     ]
    },
    {
     "name": "stderr",
     "output_type": "stream",
     "text": [
      "INFO:snap_stderr:stderr:INFO: org.esa.snap.core.gpf.operators.tooladapter.ToolAdapterIO: Initializing external tool adapters\n",
      "INFO:snap_stderr:stderr:INFO: org.esa.snap.core.util.EngineVersionCheckActivator: Please check regularly for new updates for the best SNAP experience.\n",
      "INFO:snap_stdout:Executing processing graph\n",
      "INFO:snap_stderr:stderr:INFO: org.hsqldb.persist.Logger: dataFileCache open start\n",
      "INFO:snap_stdout:version = 2.36\n",
      "INFO:snap_stdout:....10%....20%....30%....40%....50%....60%....70%....80%....90% done.\n",
      "INFO:root:S1A_IW_GRDH_1SSV_20141020T173958_20141020T174027_002916_0034E8_DA92.SAFE S1A_IW_GRDH_1SSV_20141020T173958 PROCESSED to MULTILOOK starting PT2\n",
      "INFO:root:['/opt/snap/bin/gpt', '/opt/notebooks/utils/cs_s1_pt2A_TF.xml', '-Pinput_ml=/tmp/data/S1_ARD/S1A_IW_GRDH_1SSV_20141020T173958_tmp/S1A_IW_GRDH_1SSV_20141020T173958_Orb_Cal_Deb_ML.dim', '-Pext_dem=/tmp/data/S1_ARD/S1A_IW_GRDH_1SSV_20141020T173958_tmp/ext_dem.tif', '-Poutput_tf=/tmp/data/S1_ARD/S1A_IW_GRDH_1SSV_20141020T173958_tmp/S1A_IW_GRDH_1SSV_20141020T173958_Orb_Cal_Deb_ML_TF.dim']\n",
      "INFO:snap_stderr:stderr:INFO: org.esa.snap.core.gpf.operators.tooladapter.ToolAdapterIO: Initializing external tool adapters\n",
      "INFO:snap_stderr:stderr:INFO: org.esa.snap.core.util.EngineVersionCheckActivator: Please check regularly for new updates for the best SNAP experience.\n",
      "INFO:snap_stdout:Executing processing graph\n",
      "INFO:snap_stderr:stderr:INFO: org.hsqldb.persist.Logger: dataFileCache open start\n",
      "INFO:snap_stdout:....10%....20%....30%....40%....50%....60%....70%....80%....90% done.\n",
      "INFO:root:S1A_IW_GRDH_1SSV_20141020T173958_20141020T174027_002916_0034E8_DA92.SAFE S1A_IW_GRDH_1SSV_20141020T173958 PROCESSED to TERRAIN FLATTEN starting PT3\n",
      "INFO:root:['/opt/snap/bin/gpt', '/opt/notebooks/utils/cs_s1_pt3A_TC_db.xml', '-Pinput_tf=/tmp/data/S1_ARD/S1A_IW_GRDH_1SSV_20141020T173958_tmp/S1A_IW_GRDH_1SSV_20141020T173958_Orb_Cal_Deb_ML_TF.dim', '-Pext_dem=/tmp/data/S1_ARD/S1A_IW_GRDH_1SSV_20141020T173958_tmp/ext_dem.tif', '-Poutput_db=/tmp/data/S1_ARD/S1A_IW_GRDH_1SSV_20141020T173958_tmp/S1A_IW_GRDH_1SSV_20141020T173958_Orb_Cal_Deb_ML_TF_TC_dB.dim']\n",
      "INFO:snap_stderr:stderr:INFO: org.esa.snap.core.gpf.operators.tooladapter.ToolAdapterIO: Initializing external tool adapters\n",
      "INFO:snap_stderr:stderr:INFO: org.esa.snap.core.util.EngineVersionCheckActivator: Please check regularly for new updates for the best SNAP experience.\n",
      "INFO:snap_stdout:Executing processing graph\n",
      "INFO:snap_stderr:stderr:INFO: org.hsqldb.persist.Logger: dataFileCache open start\n",
      "INFO:snap_stdout:....10%....20%....30%....40%....50%....60%....70%....80%....90% done.\n",
      "INFO:root:S1A_IW_GRDH_1SSV_20141020T173958_20141020T174027_002916_0034E8_DA92.SAFE S1A_IW_GRDH_1SSV_20141020T173958 PROCESSED to dB starting PT4\n",
      "INFO:root:['/opt/snap/bin/gpt', '/opt/notebooks/utils/cs_s1_pt4A_Sm_Bm_TC_lsm.xml', '-Pinput_tf=/tmp/data/S1_ARD/S1A_IW_GRDH_1SSV_20141020T173958_tmp/S1A_IW_GRDH_1SSV_20141020T173958_Orb_Cal_Deb_ML_TF.dim', '-Pext_dem=/tmp/data/S1_ARD/S1A_IW_GRDH_1SSV_20141020T173958_tmp/ext_dem.tif', '-Poutput_ls=/tmp/data/S1_ARD/S1A_IW_GRDH_1SSV_20141020T173958_tmp/S1A_IW_GRDH_1SSV_20141020T173958_Orb_Cal_Deb_ML_TF_TC_lsm.dim']\n",
      "INFO:snap_stderr:stderr:INFO: org.esa.snap.core.gpf.operators.tooladapter.ToolAdapterIO: Initializing external tool adapters\n",
      "INFO:snap_stderr:stderr:INFO: org.esa.snap.core.util.EngineVersionCheckActivator: Please check regularly for new updates for the best SNAP experience.\n",
      "INFO:snap_stdout:Executing processing graph\n",
      "INFO:snap_stderr:stderr:INFO: org.hsqldb.persist.Logger: dataFileCache open start\n",
      "INFO:snap_stdout:....10%....20%....30%....40%....50%....60%....70%....80%....90% done.\n",
      "INFO:root:S1A_IW_GRDH_1SSV_20141020T173958_20141020T174027_002916_0034E8_DA92.SAFE S1A_IW_GRDH_1SSV_20141020T173958 PROCESSED to lsm starting COG conversion\n",
      "INFO:root:S1A_IW_GRDH_1SSV_20141020T173958_20141020T174027_002916_0034E8_DA92.SAFE S1A_IW_GRDH_1SSV_20141020T173958 Converting COGs\n",
      "INFO:root:converting /tmp/data/S1_ARD/S1A_IW_GRDH_1SSV_20141020T173958_tmp/S1A_IW_GRDH_1SSV_20141020T173958_Orb_Cal_Deb_ML_TF_TC_dB.data/Gamma0_VV_db.img to cog at /tmp/data/S1_ARD/S1A_IW_GRDH_1SSV_20141020T173958_tmp/S1A_IW_GRDH_1SSV_20141020T173958/S1A_IW_GRDH_1SSV_20141020T173958_Gamma0_VV_db.tif\n",
      "INFO:botocore.credentials:Found credentials in environment variables.\n",
      "INFO:root:S1A_IW_GRDH_1SSV_20141020T173958_20141020T174027_002916_0034E8_DA92.SAFE S1A_IW_GRDH_1SSV_20141020T173958 COGGED\n",
      "INFO:root:S1A_IW_GRDH_1SSV_20141020T173958_20141020T174027_002916_0034E8_DA92.SAFE S1A_IW_GRDH_1SSV_20141020T173958 Copying original METADATA\n",
      "INFO:root:Copying original metadata file to cog dir: /tmp/data/S1_ARD/S1A_IW_GRDH_1SSV_20141020T173958_tmp/S1A_IW_GRDH_1SSV_20141020T173958/S1A_IW_GRDH_1SSV_20141020T173958_S1A_IW_GRDH_1SSV_20141020T173958_Orb_Cal_Deb_ML_TF_TC_dB.dim\n",
      "INFO:root:Copying original metadata file to cog dir: /tmp/data/S1_ARD/S1A_IW_GRDH_1SSV_20141020T173958_tmp/S1A_IW_GRDH_1SSV_20141020T173958/S1A_IW_GRDH_1SSV_20141020T173958_S1A_IW_GRDH_1SSV_20141020T173958_Orb_Cal_Deb_ML_TF_TC_lsm.dim\n",
      "INFO:root:S1A_IW_GRDH_1SSV_20141020T173958_20141020T174027_002916_0034E8_DA92.SAFE S1A_IW_GRDH_1SSV_20141020T173958 COPIED original METADATA\n",
      "INFO:root:S1A_IW_GRDH_1SSV_20141020T173958_20141020T174027_002916_0034E8_DA92.SAFE S1A_IW_GRDH_1SSV_20141020T173958 Creating dataset YAML\n",
      "INFO:root:Preparing scene S1A_IW_GRDH_1SSV_20141020T173958_tmp\n",
      "INFO:root:Scene path /tmp/data/S1_ARD/S1A_IW_GRDH_1SSV_20141020T173958_tmp/S1A_IW_GRDH_1SSV_20141020T173958\n",
      "INFO:root:prod_path: ['/tmp/data/S1_ARD/S1A_IW_GRDH_1SSV_20141020T173958_tmp/S1A_IW_GRDH_1SSV_20141020T173958/S1A_IW_GRDH_1SSV_20141020T173958_Gamma0_VV_db.tif'], scene_name: S1A_IW_GRDH_1SSV_20141020T173958_tmp\n",
      "INFO:botocore.credentials:Found credentials in environment variables.\n",
      "WARNING:root:no vh band available\n",
      "INFO:root:S1A_IW_GRDH_1SSV_20141020T173958_20141020T174027_002916_0034E8_DA92.SAFE S1A_IW_GRDH_1SSV_20141020T173958 Created original METADATA\n",
      "INFO:root:S1A_IW_GRDH_1SSV_20141020T173958_20141020T174027_002916_0034E8_DA92.SAFE S1A_IW_GRDH_1SSV_20141020T173958 Uploading to S3 Bucket\n",
      "INFO:root:Local source file: /tmp/data/S1_ARD/S1A_IW_GRDH_1SSV_20141020T173958_tmp/S1A_IW_GRDH_1SSV_20141020T173958/S1A_IW_GRDH_1SSV_20141020T173958_Gamma0_VV_db.tif\n",
      "INFO:root:S3 target file: fiji/tom/sentinel1_corrections/S1A_IW_GRDH_1SSV_20141020T173958/S1A_IW_GRDH_1SSV_20141020T173958_Gamma0_VV_db.tif\n",
      "INFO:root:Start: /tmp/data/S1_ARD/S1A_IW_GRDH_1SSV_20141020T173958_tmp/S1A_IW_GRDH_1SSV_20141020T173958/S1A_IW_GRDH_1SSV_20141020T173958_Gamma0_VV_db.tif 2020-05-06 05:57:37\n",
      "INFO:root:Finish: /tmp/data/S1_ARD/S1A_IW_GRDH_1SSV_20141020T173958_tmp/S1A_IW_GRDH_1SSV_20141020T173958/S1A_IW_GRDH_1SSV_20141020T173958_Gamma0_VV_db.tif 2020-05-06 05:58:27\n",
      "INFO:root:Local source file: /tmp/data/S1_ARD/S1A_IW_GRDH_1SSV_20141020T173958_tmp/S1A_IW_GRDH_1SSV_20141020T173958/S1A_IW_GRDH_1SSV_20141020T173958_S1A_IW_GRDH_1SSV_20141020T173958_Orb_Cal_Deb_ML_TF_TC_dB.dim\n",
      "INFO:root:S3 target file: fiji/tom/sentinel1_corrections/S1A_IW_GRDH_1SSV_20141020T173958/S1A_IW_GRDH_1SSV_20141020T173958_S1A_IW_GRDH_1SSV_20141020T173958_Orb_Cal_Deb_ML_TF_TC_dB.dim\n",
      "INFO:root:Start: /tmp/data/S1_ARD/S1A_IW_GRDH_1SSV_20141020T173958_tmp/S1A_IW_GRDH_1SSV_20141020T173958/S1A_IW_GRDH_1SSV_20141020T173958_S1A_IW_GRDH_1SSV_20141020T173958_Orb_Cal_Deb_ML_TF_TC_dB.dim 2020-05-06 05:58:27\n",
      "INFO:root:Finish: /tmp/data/S1_ARD/S1A_IW_GRDH_1SSV_20141020T173958_tmp/S1A_IW_GRDH_1SSV_20141020T173958/S1A_IW_GRDH_1SSV_20141020T173958_S1A_IW_GRDH_1SSV_20141020T173958_Orb_Cal_Deb_ML_TF_TC_dB.dim 2020-05-06 05:58:28\n",
      "INFO:root:Local source file: /tmp/data/S1_ARD/S1A_IW_GRDH_1SSV_20141020T173958_tmp/S1A_IW_GRDH_1SSV_20141020T173958/S1A_IW_GRDH_1SSV_20141020T173958_S1A_IW_GRDH_1SSV_20141020T173958_Orb_Cal_Deb_ML_TF_TC_lsm.dim\n",
      "INFO:root:S3 target file: fiji/tom/sentinel1_corrections/S1A_IW_GRDH_1SSV_20141020T173958/S1A_IW_GRDH_1SSV_20141020T173958_S1A_IW_GRDH_1SSV_20141020T173958_Orb_Cal_Deb_ML_TF_TC_lsm.dim\n",
      "INFO:root:Start: /tmp/data/S1_ARD/S1A_IW_GRDH_1SSV_20141020T173958_tmp/S1A_IW_GRDH_1SSV_20141020T173958/S1A_IW_GRDH_1SSV_20141020T173958_S1A_IW_GRDH_1SSV_20141020T173958_Orb_Cal_Deb_ML_TF_TC_lsm.dim 2020-05-06 05:58:28\n",
      "INFO:root:Finish: /tmp/data/S1_ARD/S1A_IW_GRDH_1SSV_20141020T173958_tmp/S1A_IW_GRDH_1SSV_20141020T173958/S1A_IW_GRDH_1SSV_20141020T173958_S1A_IW_GRDH_1SSV_20141020T173958_Orb_Cal_Deb_ML_TF_TC_lsm.dim 2020-05-06 05:58:29\n",
      "INFO:root:Local source file: /tmp/data/S1_ARD/S1A_IW_GRDH_1SSV_20141020T173958_tmp/S1A_IW_GRDH_1SSV_20141020T173958/datacube-metadata.yaml\n",
      "INFO:root:S3 target file: fiji/tom/sentinel1_corrections/S1A_IW_GRDH_1SSV_20141020T173958/datacube-metadata.yaml\n",
      "INFO:root:Start: /tmp/data/S1_ARD/S1A_IW_GRDH_1SSV_20141020T173958_tmp/S1A_IW_GRDH_1SSV_20141020T173958/datacube-metadata.yaml 2020-05-06 05:58:29\n",
      "INFO:root:Finish: /tmp/data/S1_ARD/S1A_IW_GRDH_1SSV_20141020T173958_tmp/S1A_IW_GRDH_1SSV_20141020T173958/datacube-metadata.yaml 2020-05-06 05:58:29\n",
      "INFO:root:S1A_IW_GRDH_1SSV_20141020T173958_20141020T174027_002916_0034E8_DA92.SAFE S1A_IW_GRDH_1SSV_20141020T173958 Uploaded to S3 Bucket\n"
     ]
    },
    {
     "name": "stdout",
     "output_type": "stream",
     "text": [
      "not boo\n"
     ]
    },
    {
     "name": "stderr",
     "output_type": "stream",
     "text": [
      "\n",
      "\n",
      "\n",
      " 17%|█▋        | 1/6 [27:12<2:16:00, 1632.02s/it]\u001b[A\u001b[A\u001b[AINFO:root:S1A_IW_GRDH_1SSV_20151209T063939_20151209T064015_008961_00CD77_6703.SAFE S1A_IW_GRDH_1SSV_20151209T063939 Starting\n",
      "INFO:root:S1A_IW_GRDH_1SSV_20151209T063939_20151209T064015_008961_00CD77_6703.SAFE S1A_IW_GRDH_1SSV_20151209T063939 DOWNLOADING via ASF\n",
      "INFO:root:fetching: https://api.daac.asf.alaska.edu/services/search/param?granule_list=S1A_IW_GRDH_1SSV_20151209T063939_20151209T064015_008961_00CD77_6703&output=csv\n"
     ]
    },
    {
     "name": "stdout",
     "output_type": "stream",
     "text": [
      "\n"
     ]
    },
    {
     "name": "stderr",
     "output_type": "stream",
     "text": [
      "INFO:root:Extracting ASF scene: /tmp/data/S1_ARD/S1A_IW_GRDH_1SSV_20151209T063939_tmp/S1A_IW_GRDH_1SSV_20151209T063939_20151209T064015_008961_00CD77_6703.zip\n",
      "INFO:root:S1A_IW_GRDH_1SSV_20151209T063939_20151209T064015_008961_00CD77_6703.SAFE S1A_IW_GRDH_1SSV_20151209T063939 DOWNLOADED via ASF\n",
      "INFO:root:['/opt/snap/bin/gpt', '/opt/notebooks/utils/cs_s1_pt1_bnr_Orb_Cal_ML.xml', '-Pinput_grd=/tmp/data/S1_ARD/S1A_IW_GRDH_1SSV_20151209T063939_tmp/S1A_IW_GRDH_1SSV_20151209T063939_20151209T064015_008961_00CD77_6703.SAFE/manifest.safe', '-Poutput_ml=/tmp/data/S1_ARD/S1A_IW_GRDH_1SSV_20151209T063939_tmp/S1A_IW_GRDH_1SSV_20151209T063939_Orb_Cal_Deb_ML.dim']\n"
     ]
    },
    {
     "name": "stdout",
     "output_type": "stream",
     "text": [
      "True\n",
      "/tmp/data/S1_ARD/S1A_IW_GRDH_1SSV_20151209T063939_tmp/S1A_IW_GRDH_1SSV_20151209T063939_Orb_Cal_Deb_ML.dim\n"
     ]
    },
    {
     "name": "stderr",
     "output_type": "stream",
     "text": [
      "INFO:snap_stderr:stderr:INFO: org.esa.snap.core.gpf.operators.tooladapter.ToolAdapterIO: Initializing external tool adapters\n",
      "INFO:snap_stderr:stderr:INFO: org.esa.snap.core.util.EngineVersionCheckActivator: Please check regularly for new updates for the best SNAP experience.\n",
      "INFO:snap_stdout:Executing processing graph\n",
      "INFO:snap_stderr:stderr:INFO: org.hsqldb.persist.Logger: dataFileCache open start\n",
      "INFO:snap_stdout:version = 2.6\n",
      "INFO:snap_stderr:stderr:INFO: org.esa.snap.engine_utilities.download.DownloadableContentImpl: http retrieving http://aux.sentinel1.eo.esa.int/POEORB/2015/12/29/S1A_OPER_AUX_POEORB_OPOD_20151229T121609_V20151208T225943_20151210T005943.EOF\n",
      "INFO:snap_stdout:....10%....20%....30%....40%....50%....60%....70%....80%....90% done.\n",
      "INFO:root:S1A_IW_GRDH_1SSV_20151209T063939_20151209T064015_008961_00CD77_6703.SAFE S1A_IW_GRDH_1SSV_20151209T063939 PROCESSED to MULTILOOK starting PT2\n",
      "INFO:root:['/opt/snap/bin/gpt', '/opt/notebooks/utils/cs_s1_pt2A_TF.xml', '-Pinput_ml=/tmp/data/S1_ARD/S1A_IW_GRDH_1SSV_20151209T063939_tmp/S1A_IW_GRDH_1SSV_20151209T063939_Orb_Cal_Deb_ML.dim', '-Pext_dem=/tmp/data/S1_ARD/S1A_IW_GRDH_1SSV_20151209T063939_tmp/ext_dem.tif', '-Poutput_tf=/tmp/data/S1_ARD/S1A_IW_GRDH_1SSV_20151209T063939_tmp/S1A_IW_GRDH_1SSV_20151209T063939_Orb_Cal_Deb_ML_TF.dim']\n",
      "INFO:snap_stderr:stderr:INFO: org.esa.snap.core.gpf.operators.tooladapter.ToolAdapterIO: Initializing external tool adapters\n",
      "INFO:snap_stderr:stderr:INFO: org.esa.snap.core.util.EngineVersionCheckActivator: Please check regularly for new updates for the best SNAP experience.\n",
      "INFO:snap_stdout:Executing processing graph\n",
      "INFO:snap_stderr:stderr:INFO: org.hsqldb.persist.Logger: dataFileCache open start\n",
      "INFO:snap_stdout:....10%....20%....30%....40%....50%....60%....70%....80%....90% done.\n",
      "INFO:root:S1A_IW_GRDH_1SSV_20151209T063939_20151209T064015_008961_00CD77_6703.SAFE S1A_IW_GRDH_1SSV_20151209T063939 PROCESSED to TERRAIN FLATTEN starting PT3\n",
      "INFO:root:['/opt/snap/bin/gpt', '/opt/notebooks/utils/cs_s1_pt3A_TC_db.xml', '-Pinput_tf=/tmp/data/S1_ARD/S1A_IW_GRDH_1SSV_20151209T063939_tmp/S1A_IW_GRDH_1SSV_20151209T063939_Orb_Cal_Deb_ML_TF.dim', '-Pext_dem=/tmp/data/S1_ARD/S1A_IW_GRDH_1SSV_20151209T063939_tmp/ext_dem.tif', '-Poutput_db=/tmp/data/S1_ARD/S1A_IW_GRDH_1SSV_20151209T063939_tmp/S1A_IW_GRDH_1SSV_20151209T063939_Orb_Cal_Deb_ML_TF_TC_dB.dim']\n",
      "INFO:snap_stderr:stderr:INFO: org.esa.snap.core.gpf.operators.tooladapter.ToolAdapterIO: Initializing external tool adapters\n",
      "INFO:snap_stderr:stderr:INFO: org.esa.snap.core.util.EngineVersionCheckActivator: Please check regularly for new updates for the best SNAP experience.\n",
      "INFO:snap_stdout:Executing processing graph\n",
      "INFO:snap_stderr:stderr:INFO: org.hsqldb.persist.Logger: dataFileCache open start\n",
      "INFO:snap_stdout:....10%....20%....30%....40%....50%....60%....70%....80%....90% done.\n",
      "INFO:root:S1A_IW_GRDH_1SSV_20151209T063939_20151209T064015_008961_00CD77_6703.SAFE S1A_IW_GRDH_1SSV_20151209T063939 PROCESSED to dB starting PT4\n",
      "INFO:root:['/opt/snap/bin/gpt', '/opt/notebooks/utils/cs_s1_pt4A_Sm_Bm_TC_lsm.xml', '-Pinput_tf=/tmp/data/S1_ARD/S1A_IW_GRDH_1SSV_20151209T063939_tmp/S1A_IW_GRDH_1SSV_20151209T063939_Orb_Cal_Deb_ML_TF.dim', '-Pext_dem=/tmp/data/S1_ARD/S1A_IW_GRDH_1SSV_20151209T063939_tmp/ext_dem.tif', '-Poutput_ls=/tmp/data/S1_ARD/S1A_IW_GRDH_1SSV_20151209T063939_tmp/S1A_IW_GRDH_1SSV_20151209T063939_Orb_Cal_Deb_ML_TF_TC_lsm.dim']\n",
      "INFO:snap_stderr:stderr:INFO: org.esa.snap.core.gpf.operators.tooladapter.ToolAdapterIO: Initializing external tool adapters\n",
      "INFO:snap_stderr:stderr:INFO: org.esa.snap.core.util.EngineVersionCheckActivator: Please check regularly for new updates for the best SNAP experience.\n",
      "INFO:snap_stdout:Executing processing graph\n",
      "INFO:snap_stderr:stderr:INFO: org.hsqldb.persist.Logger: dataFileCache open start\n",
      "INFO:snap_stdout:....10%....20%....30%....40%....50%....60%....70%....80%....90% done.\n",
      "INFO:root:S1A_IW_GRDH_1SSV_20151209T063939_20151209T064015_008961_00CD77_6703.SAFE S1A_IW_GRDH_1SSV_20151209T063939 PROCESSED to lsm starting COG conversion\n",
      "INFO:root:S1A_IW_GRDH_1SSV_20151209T063939_20151209T064015_008961_00CD77_6703.SAFE S1A_IW_GRDH_1SSV_20151209T063939 Converting COGs\n",
      "INFO:root:converting /tmp/data/S1_ARD/S1A_IW_GRDH_1SSV_20151209T063939_tmp/S1A_IW_GRDH_1SSV_20151209T063939_Orb_Cal_Deb_ML_TF_TC_dB.data/Gamma0_VV_db.img to cog at /tmp/data/S1_ARD/S1A_IW_GRDH_1SSV_20151209T063939_tmp/S1A_IW_GRDH_1SSV_20151209T063939/S1A_IW_GRDH_1SSV_20151209T063939_Gamma0_VV_db.tif\n",
      "INFO:botocore.credentials:Found credentials in environment variables.\n",
      "INFO:root:S1A_IW_GRDH_1SSV_20151209T063939_20151209T064015_008961_00CD77_6703.SAFE S1A_IW_GRDH_1SSV_20151209T063939 COGGED\n",
      "INFO:root:S1A_IW_GRDH_1SSV_20151209T063939_20151209T064015_008961_00CD77_6703.SAFE S1A_IW_GRDH_1SSV_20151209T063939 Copying original METADATA\n",
      "INFO:root:Copying original metadata file to cog dir: /tmp/data/S1_ARD/S1A_IW_GRDH_1SSV_20151209T063939_tmp/S1A_IW_GRDH_1SSV_20151209T063939/S1A_IW_GRDH_1SSV_20151209T063939_S1A_IW_GRDH_1SSV_20151209T063939_Orb_Cal_Deb_ML_TF_TC_dB.dim\n",
      "INFO:root:Copying original metadata file to cog dir: /tmp/data/S1_ARD/S1A_IW_GRDH_1SSV_20151209T063939_tmp/S1A_IW_GRDH_1SSV_20151209T063939/S1A_IW_GRDH_1SSV_20151209T063939_S1A_IW_GRDH_1SSV_20151209T063939_Orb_Cal_Deb_ML_TF_TC_lsm.dim\n",
      "INFO:root:S1A_IW_GRDH_1SSV_20151209T063939_20151209T064015_008961_00CD77_6703.SAFE S1A_IW_GRDH_1SSV_20151209T063939 COPIED original METADATA\n",
      "INFO:root:S1A_IW_GRDH_1SSV_20151209T063939_20151209T064015_008961_00CD77_6703.SAFE S1A_IW_GRDH_1SSV_20151209T063939 Creating dataset YAML\n",
      "INFO:root:Preparing scene S1A_IW_GRDH_1SSV_20151209T063939_tmp\n",
      "INFO:root:Scene path /tmp/data/S1_ARD/S1A_IW_GRDH_1SSV_20151209T063939_tmp/S1A_IW_GRDH_1SSV_20151209T063939\n",
      "INFO:root:prod_path: ['/tmp/data/S1_ARD/S1A_IW_GRDH_1SSV_20151209T063939_tmp/S1A_IW_GRDH_1SSV_20151209T063939/S1A_IW_GRDH_1SSV_20151209T063939_Gamma0_VV_db.tif'], scene_name: S1A_IW_GRDH_1SSV_20151209T063939_tmp\n",
      "INFO:botocore.credentials:Found credentials in environment variables.\n",
      "WARNING:root:no vh band available\n",
      "INFO:root:S1A_IW_GRDH_1SSV_20151209T063939_20151209T064015_008961_00CD77_6703.SAFE S1A_IW_GRDH_1SSV_20151209T063939 Created original METADATA\n",
      "INFO:root:S1A_IW_GRDH_1SSV_20151209T063939_20151209T064015_008961_00CD77_6703.SAFE S1A_IW_GRDH_1SSV_20151209T063939 Uploading to S3 Bucket\n",
      "INFO:root:Local source file: /tmp/data/S1_ARD/S1A_IW_GRDH_1SSV_20151209T063939_tmp/S1A_IW_GRDH_1SSV_20151209T063939/S1A_IW_GRDH_1SSV_20151209T063939_Gamma0_VV_db.tif\n",
      "INFO:root:S3 target file: fiji/tom/sentinel1_corrections/S1A_IW_GRDH_1SSV_20151209T063939/S1A_IW_GRDH_1SSV_20151209T063939_Gamma0_VV_db.tif\n",
      "INFO:root:Start: /tmp/data/S1_ARD/S1A_IW_GRDH_1SSV_20151209T063939_tmp/S1A_IW_GRDH_1SSV_20151209T063939/S1A_IW_GRDH_1SSV_20151209T063939_Gamma0_VV_db.tif 2020-05-06 06:31:33\n",
      "INFO:root:Finish: /tmp/data/S1_ARD/S1A_IW_GRDH_1SSV_20151209T063939_tmp/S1A_IW_GRDH_1SSV_20151209T063939/S1A_IW_GRDH_1SSV_20151209T063939_Gamma0_VV_db.tif 2020-05-06 06:32:33\n",
      "INFO:root:Local source file: /tmp/data/S1_ARD/S1A_IW_GRDH_1SSV_20151209T063939_tmp/S1A_IW_GRDH_1SSV_20151209T063939/S1A_IW_GRDH_1SSV_20151209T063939_S1A_IW_GRDH_1SSV_20151209T063939_Orb_Cal_Deb_ML_TF_TC_dB.dim\n",
      "INFO:root:S3 target file: fiji/tom/sentinel1_corrections/S1A_IW_GRDH_1SSV_20151209T063939/S1A_IW_GRDH_1SSV_20151209T063939_S1A_IW_GRDH_1SSV_20151209T063939_Orb_Cal_Deb_ML_TF_TC_dB.dim\n",
      "INFO:root:Start: /tmp/data/S1_ARD/S1A_IW_GRDH_1SSV_20151209T063939_tmp/S1A_IW_GRDH_1SSV_20151209T063939/S1A_IW_GRDH_1SSV_20151209T063939_S1A_IW_GRDH_1SSV_20151209T063939_Orb_Cal_Deb_ML_TF_TC_dB.dim 2020-05-06 06:32:33\n",
      "INFO:root:Finish: /tmp/data/S1_ARD/S1A_IW_GRDH_1SSV_20151209T063939_tmp/S1A_IW_GRDH_1SSV_20151209T063939/S1A_IW_GRDH_1SSV_20151209T063939_S1A_IW_GRDH_1SSV_20151209T063939_Orb_Cal_Deb_ML_TF_TC_dB.dim 2020-05-06 06:32:35\n",
      "INFO:root:Local source file: /tmp/data/S1_ARD/S1A_IW_GRDH_1SSV_20151209T063939_tmp/S1A_IW_GRDH_1SSV_20151209T063939/S1A_IW_GRDH_1SSV_20151209T063939_S1A_IW_GRDH_1SSV_20151209T063939_Orb_Cal_Deb_ML_TF_TC_lsm.dim\n",
      "INFO:root:S3 target file: fiji/tom/sentinel1_corrections/S1A_IW_GRDH_1SSV_20151209T063939/S1A_IW_GRDH_1SSV_20151209T063939_S1A_IW_GRDH_1SSV_20151209T063939_Orb_Cal_Deb_ML_TF_TC_lsm.dim\n",
      "INFO:root:Start: /tmp/data/S1_ARD/S1A_IW_GRDH_1SSV_20151209T063939_tmp/S1A_IW_GRDH_1SSV_20151209T063939/S1A_IW_GRDH_1SSV_20151209T063939_S1A_IW_GRDH_1SSV_20151209T063939_Orb_Cal_Deb_ML_TF_TC_lsm.dim 2020-05-06 06:32:35\n",
      "INFO:root:Finish: /tmp/data/S1_ARD/S1A_IW_GRDH_1SSV_20151209T063939_tmp/S1A_IW_GRDH_1SSV_20151209T063939/S1A_IW_GRDH_1SSV_20151209T063939_S1A_IW_GRDH_1SSV_20151209T063939_Orb_Cal_Deb_ML_TF_TC_lsm.dim 2020-05-06 06:32:36\n",
      "INFO:root:Local source file: /tmp/data/S1_ARD/S1A_IW_GRDH_1SSV_20151209T063939_tmp/S1A_IW_GRDH_1SSV_20151209T063939/datacube-metadata.yaml\n",
      "INFO:root:S3 target file: fiji/tom/sentinel1_corrections/S1A_IW_GRDH_1SSV_20151209T063939/datacube-metadata.yaml\n",
      "INFO:root:Start: /tmp/data/S1_ARD/S1A_IW_GRDH_1SSV_20151209T063939_tmp/S1A_IW_GRDH_1SSV_20151209T063939/datacube-metadata.yaml 2020-05-06 06:32:36\n",
      "INFO:root:Finish: /tmp/data/S1_ARD/S1A_IW_GRDH_1SSV_20151209T063939_tmp/S1A_IW_GRDH_1SSV_20151209T063939/datacube-metadata.yaml 2020-05-06 06:32:36\n",
      "INFO:root:S1A_IW_GRDH_1SSV_20151209T063939_20151209T064015_008961_00CD77_6703.SAFE S1A_IW_GRDH_1SSV_20151209T063939 Uploaded to S3 Bucket\n"
     ]
    },
    {
     "name": "stdout",
     "output_type": "stream",
     "text": [
      "not boo\n"
     ]
    },
    {
     "name": "stderr",
     "output_type": "stream",
     "text": [
      "\n",
      "\n",
      "\n",
      " 33%|███▎      | 2/6 [1:01:18<1:57:06, 1756.50s/it]\u001b[A\u001b[A\u001b[AINFO:root:S1A_IW_GRDH_1SSV_20151214T173958_20151214T174027_009041_00CF93_0E88.SAFE S1A_IW_GRDH_1SSV_20151214T173958 Starting\n",
      "INFO:root:S1A_IW_GRDH_1SSV_20151214T173958_20151214T174027_009041_00CF93_0E88.SAFE S1A_IW_GRDH_1SSV_20151214T173958 DOWNLOADING via ASF\n",
      "INFO:root:fetching: https://api.daac.asf.alaska.edu/services/search/param?granule_list=S1A_IW_GRDH_1SSV_20151214T173958_20151214T174027_009041_00CF93_0E88&output=csv\n"
     ]
    },
    {
     "name": "stdout",
     "output_type": "stream",
     "text": [
      "\n"
     ]
    },
    {
     "name": "stderr",
     "output_type": "stream",
     "text": [
      "INFO:root:Extracting ASF scene: /tmp/data/S1_ARD/S1A_IW_GRDH_1SSV_20151214T173958_tmp/S1A_IW_GRDH_1SSV_20151214T173958_20151214T174027_009041_00CF93_0E88.zip\n",
      "INFO:root:S1A_IW_GRDH_1SSV_20151214T173958_20151214T174027_009041_00CF93_0E88.SAFE S1A_IW_GRDH_1SSV_20151214T173958 DOWNLOADED via ASF\n",
      "INFO:root:['/opt/snap/bin/gpt', '/opt/notebooks/utils/cs_s1_pt1_bnr_Orb_Cal_ML.xml', '-Pinput_grd=/tmp/data/S1_ARD/S1A_IW_GRDH_1SSV_20151214T173958_tmp/S1A_IW_GRDH_1SSV_20151214T173958_20151214T174027_009041_00CF93_0E88.SAFE/manifest.safe', '-Poutput_ml=/tmp/data/S1_ARD/S1A_IW_GRDH_1SSV_20151214T173958_tmp/S1A_IW_GRDH_1SSV_20151214T173958_Orb_Cal_Deb_ML.dim']\n"
     ]
    },
    {
     "name": "stdout",
     "output_type": "stream",
     "text": [
      "True\n",
      "/tmp/data/S1_ARD/S1A_IW_GRDH_1SSV_20151214T173958_tmp/S1A_IW_GRDH_1SSV_20151214T173958_Orb_Cal_Deb_ML.dim\n"
     ]
    },
    {
     "name": "stderr",
     "output_type": "stream",
     "text": [
      "INFO:snap_stderr:stderr:INFO: org.esa.snap.core.gpf.operators.tooladapter.ToolAdapterIO: Initializing external tool adapters\n",
      "INFO:snap_stderr:stderr:INFO: org.esa.snap.core.util.EngineVersionCheckActivator: Please check regularly for new updates for the best SNAP experience.\n",
      "INFO:snap_stdout:Executing processing graph\n",
      "INFO:snap_stderr:stderr:INFO: org.hsqldb.persist.Logger: dataFileCache open start\n",
      "INFO:snap_stdout:version = 2.6\n",
      "INFO:snap_stderr:stderr:INFO: org.esa.snap.engine_utilities.download.DownloadableContentImpl: http retrieving http://aux.sentinel1.eo.esa.int/POEORB/2016/01/03/S1A_OPER_AUX_POEORB_OPOD_20160103T121623_V20151213T225943_20151215T005943.EOF\n",
      "INFO:snap_stdout:....10%....20%....30%....40%....50%....60%....70%....80%....90% done.\n",
      "INFO:root:S1A_IW_GRDH_1SSV_20151214T173958_20151214T174027_009041_00CF93_0E88.SAFE S1A_IW_GRDH_1SSV_20151214T173958 PROCESSED to MULTILOOK starting PT2\n",
      "INFO:root:['/opt/snap/bin/gpt', '/opt/notebooks/utils/cs_s1_pt2A_TF.xml', '-Pinput_ml=/tmp/data/S1_ARD/S1A_IW_GRDH_1SSV_20151214T173958_tmp/S1A_IW_GRDH_1SSV_20151214T173958_Orb_Cal_Deb_ML.dim', '-Pext_dem=/tmp/data/S1_ARD/S1A_IW_GRDH_1SSV_20151214T173958_tmp/ext_dem.tif', '-Poutput_tf=/tmp/data/S1_ARD/S1A_IW_GRDH_1SSV_20151214T173958_tmp/S1A_IW_GRDH_1SSV_20151214T173958_Orb_Cal_Deb_ML_TF.dim']\n",
      "INFO:snap_stderr:stderr:INFO: org.esa.snap.core.gpf.operators.tooladapter.ToolAdapterIO: Initializing external tool adapters\n",
      "INFO:snap_stderr:stderr:INFO: org.esa.snap.core.util.EngineVersionCheckActivator: Please check regularly for new updates for the best SNAP experience.\n",
      "INFO:snap_stdout:Executing processing graph\n",
      "INFO:snap_stderr:stderr:INFO: org.hsqldb.persist.Logger: dataFileCache open start\n",
      "INFO:snap_stdout:....10%....20%....30%....40%....50%....60%....70%....80%....90% done.\n",
      "INFO:root:S1A_IW_GRDH_1SSV_20151214T173958_20151214T174027_009041_00CF93_0E88.SAFE S1A_IW_GRDH_1SSV_20151214T173958 PROCESSED to TERRAIN FLATTEN starting PT3\n",
      "INFO:root:['/opt/snap/bin/gpt', '/opt/notebooks/utils/cs_s1_pt3A_TC_db.xml', '-Pinput_tf=/tmp/data/S1_ARD/S1A_IW_GRDH_1SSV_20151214T173958_tmp/S1A_IW_GRDH_1SSV_20151214T173958_Orb_Cal_Deb_ML_TF.dim', '-Pext_dem=/tmp/data/S1_ARD/S1A_IW_GRDH_1SSV_20151214T173958_tmp/ext_dem.tif', '-Poutput_db=/tmp/data/S1_ARD/S1A_IW_GRDH_1SSV_20151214T173958_tmp/S1A_IW_GRDH_1SSV_20151214T173958_Orb_Cal_Deb_ML_TF_TC_dB.dim']\n",
      "INFO:snap_stderr:stderr:INFO: org.esa.snap.core.gpf.operators.tooladapter.ToolAdapterIO: Initializing external tool adapters\n",
      "INFO:snap_stderr:stderr:INFO: org.esa.snap.core.util.EngineVersionCheckActivator: Please check regularly for new updates for the best SNAP experience.\n",
      "INFO:snap_stdout:Executing processing graph\n",
      "INFO:snap_stderr:stderr:INFO: org.hsqldb.persist.Logger: dataFileCache open start\n",
      "INFO:snap_stdout:....10%....20%....30%....40%....50%....60%....70%....80%....90% done.\n",
      "INFO:root:S1A_IW_GRDH_1SSV_20151214T173958_20151214T174027_009041_00CF93_0E88.SAFE S1A_IW_GRDH_1SSV_20151214T173958 PROCESSED to dB starting PT4\n",
      "INFO:root:['/opt/snap/bin/gpt', '/opt/notebooks/utils/cs_s1_pt4A_Sm_Bm_TC_lsm.xml', '-Pinput_tf=/tmp/data/S1_ARD/S1A_IW_GRDH_1SSV_20151214T173958_tmp/S1A_IW_GRDH_1SSV_20151214T173958_Orb_Cal_Deb_ML_TF.dim', '-Pext_dem=/tmp/data/S1_ARD/S1A_IW_GRDH_1SSV_20151214T173958_tmp/ext_dem.tif', '-Poutput_ls=/tmp/data/S1_ARD/S1A_IW_GRDH_1SSV_20151214T173958_tmp/S1A_IW_GRDH_1SSV_20151214T173958_Orb_Cal_Deb_ML_TF_TC_lsm.dim']\n",
      "INFO:snap_stderr:stderr:INFO: org.esa.snap.core.gpf.operators.tooladapter.ToolAdapterIO: Initializing external tool adapters\n",
      "INFO:snap_stderr:stderr:INFO: org.esa.snap.core.util.EngineVersionCheckActivator: Please check regularly for new updates for the best SNAP experience.\n",
      "INFO:snap_stdout:Executing processing graph\n",
      "INFO:snap_stderr:stderr:INFO: org.hsqldb.persist.Logger: dataFileCache open start\n",
      "INFO:snap_stdout:....10%....20%....30%....40%....50%....60%....70%....80%....90% done.\n",
      "INFO:root:S1A_IW_GRDH_1SSV_20151214T173958_20151214T174027_009041_00CF93_0E88.SAFE S1A_IW_GRDH_1SSV_20151214T173958 PROCESSED to lsm starting COG conversion\n",
      "INFO:root:S1A_IW_GRDH_1SSV_20151214T173958_20151214T174027_009041_00CF93_0E88.SAFE S1A_IW_GRDH_1SSV_20151214T173958 Converting COGs\n",
      "INFO:root:converting /tmp/data/S1_ARD/S1A_IW_GRDH_1SSV_20151214T173958_tmp/S1A_IW_GRDH_1SSV_20151214T173958_Orb_Cal_Deb_ML_TF_TC_dB.data/Gamma0_VV_db.img to cog at /tmp/data/S1_ARD/S1A_IW_GRDH_1SSV_20151214T173958_tmp/S1A_IW_GRDH_1SSV_20151214T173958/S1A_IW_GRDH_1SSV_20151214T173958_Gamma0_VV_db.tif\n",
      "INFO:botocore.credentials:Found credentials in environment variables.\n",
      "INFO:root:S1A_IW_GRDH_1SSV_20151214T173958_20151214T174027_009041_00CF93_0E88.SAFE S1A_IW_GRDH_1SSV_20151214T173958 COGGED\n",
      "INFO:root:S1A_IW_GRDH_1SSV_20151214T173958_20151214T174027_009041_00CF93_0E88.SAFE S1A_IW_GRDH_1SSV_20151214T173958 Copying original METADATA\n",
      "INFO:root:Copying original metadata file to cog dir: /tmp/data/S1_ARD/S1A_IW_GRDH_1SSV_20151214T173958_tmp/S1A_IW_GRDH_1SSV_20151214T173958/S1A_IW_GRDH_1SSV_20151214T173958_S1A_IW_GRDH_1SSV_20151214T173958_Orb_Cal_Deb_ML_TF_TC_dB.dim\n",
      "INFO:root:Copying original metadata file to cog dir: /tmp/data/S1_ARD/S1A_IW_GRDH_1SSV_20151214T173958_tmp/S1A_IW_GRDH_1SSV_20151214T173958/S1A_IW_GRDH_1SSV_20151214T173958_S1A_IW_GRDH_1SSV_20151214T173958_Orb_Cal_Deb_ML_TF_TC_lsm.dim\n",
      "INFO:root:S1A_IW_GRDH_1SSV_20151214T173958_20151214T174027_009041_00CF93_0E88.SAFE S1A_IW_GRDH_1SSV_20151214T173958 COPIED original METADATA\n",
      "INFO:root:S1A_IW_GRDH_1SSV_20151214T173958_20151214T174027_009041_00CF93_0E88.SAFE S1A_IW_GRDH_1SSV_20151214T173958 Creating dataset YAML\n",
      "INFO:root:Preparing scene S1A_IW_GRDH_1SSV_20151214T173958_tmp\n",
      "INFO:root:Scene path /tmp/data/S1_ARD/S1A_IW_GRDH_1SSV_20151214T173958_tmp/S1A_IW_GRDH_1SSV_20151214T173958\n",
      "INFO:root:prod_path: ['/tmp/data/S1_ARD/S1A_IW_GRDH_1SSV_20151214T173958_tmp/S1A_IW_GRDH_1SSV_20151214T173958/S1A_IW_GRDH_1SSV_20151214T173958_Gamma0_VV_db.tif'], scene_name: S1A_IW_GRDH_1SSV_20151214T173958_tmp\n",
      "INFO:botocore.credentials:Found credentials in environment variables.\n",
      "WARNING:root:no vh band available\n",
      "INFO:root:S1A_IW_GRDH_1SSV_20151214T173958_20151214T174027_009041_00CF93_0E88.SAFE S1A_IW_GRDH_1SSV_20151214T173958 Created original METADATA\n",
      "INFO:root:S1A_IW_GRDH_1SSV_20151214T173958_20151214T174027_009041_00CF93_0E88.SAFE S1A_IW_GRDH_1SSV_20151214T173958 Uploading to S3 Bucket\n",
      "INFO:root:Local source file: /tmp/data/S1_ARD/S1A_IW_GRDH_1SSV_20151214T173958_tmp/S1A_IW_GRDH_1SSV_20151214T173958/S1A_IW_GRDH_1SSV_20151214T173958_Gamma0_VV_db.tif\n",
      "INFO:root:S3 target file: fiji/tom/sentinel1_corrections/S1A_IW_GRDH_1SSV_20151214T173958/S1A_IW_GRDH_1SSV_20151214T173958_Gamma0_VV_db.tif\n",
      "INFO:root:Start: /tmp/data/S1_ARD/S1A_IW_GRDH_1SSV_20151214T173958_tmp/S1A_IW_GRDH_1SSV_20151214T173958/S1A_IW_GRDH_1SSV_20151214T173958_Gamma0_VV_db.tif 2020-05-06 06:58:50\n",
      "INFO:root:Finish: /tmp/data/S1_ARD/S1A_IW_GRDH_1SSV_20151214T173958_tmp/S1A_IW_GRDH_1SSV_20151214T173958/S1A_IW_GRDH_1SSV_20151214T173958_Gamma0_VV_db.tif 2020-05-06 06:59:38\n",
      "INFO:root:Local source file: /tmp/data/S1_ARD/S1A_IW_GRDH_1SSV_20151214T173958_tmp/S1A_IW_GRDH_1SSV_20151214T173958/S1A_IW_GRDH_1SSV_20151214T173958_S1A_IW_GRDH_1SSV_20151214T173958_Orb_Cal_Deb_ML_TF_TC_dB.dim\n",
      "INFO:root:S3 target file: fiji/tom/sentinel1_corrections/S1A_IW_GRDH_1SSV_20151214T173958/S1A_IW_GRDH_1SSV_20151214T173958_S1A_IW_GRDH_1SSV_20151214T173958_Orb_Cal_Deb_ML_TF_TC_dB.dim\n",
      "INFO:root:Start: /tmp/data/S1_ARD/S1A_IW_GRDH_1SSV_20151214T173958_tmp/S1A_IW_GRDH_1SSV_20151214T173958/S1A_IW_GRDH_1SSV_20151214T173958_S1A_IW_GRDH_1SSV_20151214T173958_Orb_Cal_Deb_ML_TF_TC_dB.dim 2020-05-06 06:59:39\n",
      "INFO:root:Finish: /tmp/data/S1_ARD/S1A_IW_GRDH_1SSV_20151214T173958_tmp/S1A_IW_GRDH_1SSV_20151214T173958/S1A_IW_GRDH_1SSV_20151214T173958_S1A_IW_GRDH_1SSV_20151214T173958_Orb_Cal_Deb_ML_TF_TC_dB.dim 2020-05-06 06:59:39\n",
      "INFO:root:Local source file: /tmp/data/S1_ARD/S1A_IW_GRDH_1SSV_20151214T173958_tmp/S1A_IW_GRDH_1SSV_20151214T173958/S1A_IW_GRDH_1SSV_20151214T173958_S1A_IW_GRDH_1SSV_20151214T173958_Orb_Cal_Deb_ML_TF_TC_lsm.dim\n",
      "INFO:root:S3 target file: fiji/tom/sentinel1_corrections/S1A_IW_GRDH_1SSV_20151214T173958/S1A_IW_GRDH_1SSV_20151214T173958_S1A_IW_GRDH_1SSV_20151214T173958_Orb_Cal_Deb_ML_TF_TC_lsm.dim\n",
      "INFO:root:Start: /tmp/data/S1_ARD/S1A_IW_GRDH_1SSV_20151214T173958_tmp/S1A_IW_GRDH_1SSV_20151214T173958/S1A_IW_GRDH_1SSV_20151214T173958_S1A_IW_GRDH_1SSV_20151214T173958_Orb_Cal_Deb_ML_TF_TC_lsm.dim 2020-05-06 06:59:39\n",
      "INFO:root:Finish: /tmp/data/S1_ARD/S1A_IW_GRDH_1SSV_20151214T173958_tmp/S1A_IW_GRDH_1SSV_20151214T173958/S1A_IW_GRDH_1SSV_20151214T173958_S1A_IW_GRDH_1SSV_20151214T173958_Orb_Cal_Deb_ML_TF_TC_lsm.dim 2020-05-06 06:59:40\n",
      "INFO:root:Local source file: /tmp/data/S1_ARD/S1A_IW_GRDH_1SSV_20151214T173958_tmp/S1A_IW_GRDH_1SSV_20151214T173958/datacube-metadata.yaml\n",
      "INFO:root:S3 target file: fiji/tom/sentinel1_corrections/S1A_IW_GRDH_1SSV_20151214T173958/datacube-metadata.yaml\n",
      "INFO:root:Start: /tmp/data/S1_ARD/S1A_IW_GRDH_1SSV_20151214T173958_tmp/S1A_IW_GRDH_1SSV_20151214T173958/datacube-metadata.yaml 2020-05-06 06:59:40\n",
      "INFO:root:Finish: /tmp/data/S1_ARD/S1A_IW_GRDH_1SSV_20151214T173958_tmp/S1A_IW_GRDH_1SSV_20151214T173958/datacube-metadata.yaml 2020-05-06 06:59:40\n",
      "INFO:root:S1A_IW_GRDH_1SSV_20151214T173958_20151214T174027_009041_00CF93_0E88.SAFE S1A_IW_GRDH_1SSV_20151214T173958 Uploaded to S3 Bucket\n"
     ]
    },
    {
     "name": "stdout",
     "output_type": "stream",
     "text": [
      "not boo\n"
     ]
    },
    {
     "name": "stderr",
     "output_type": "stream",
     "text": [
      "\n",
      "\n",
      "\n",
      " 50%|█████     | 3/6 [1:28:22<1:25:50, 1716.70s/it]\u001b[A\u001b[A\u001b[AINFO:root:S1A_IW_GRDH_1SSV_20150217T173955_20150217T174024_004666_005C26_68DA.SAFE S1A_IW_GRDH_1SSV_20150217T173955 Starting\n",
      "INFO:root:S1A_IW_GRDH_1SSV_20150217T173955_20150217T174024_004666_005C26_68DA.SAFE S1A_IW_GRDH_1SSV_20150217T173955 DOWNLOADING via ASF\n",
      "INFO:root:fetching: https://api.daac.asf.alaska.edu/services/search/param?granule_list=S1A_IW_GRDH_1SSV_20150217T173955_20150217T174024_004666_005C26_68DA&output=csv\n"
     ]
    },
    {
     "name": "stdout",
     "output_type": "stream",
     "text": [
      "\n"
     ]
    },
    {
     "name": "stderr",
     "output_type": "stream",
     "text": [
      "INFO:root:Extracting ASF scene: /tmp/data/S1_ARD/S1A_IW_GRDH_1SSV_20150217T173955_tmp/S1A_IW_GRDH_1SSV_20150217T173955_20150217T174024_004666_005C26_68DA.zip\n",
      "INFO:root:S1A_IW_GRDH_1SSV_20150217T173955_20150217T174024_004666_005C26_68DA.SAFE S1A_IW_GRDH_1SSV_20150217T173955 DOWNLOADED via ASF\n",
      "INFO:root:['/opt/snap/bin/gpt', '/opt/notebooks/utils/cs_s1_pt1_bnr_Orb_Cal_ML.xml', '-Pinput_grd=/tmp/data/S1_ARD/S1A_IW_GRDH_1SSV_20150217T173955_tmp/S1A_IW_GRDH_1SSV_20150217T173955_20150217T174024_004666_005C26_68DA.SAFE/manifest.safe', '-Poutput_ml=/tmp/data/S1_ARD/S1A_IW_GRDH_1SSV_20150217T173955_tmp/S1A_IW_GRDH_1SSV_20150217T173955_Orb_Cal_Deb_ML.dim']\n"
     ]
    },
    {
     "name": "stdout",
     "output_type": "stream",
     "text": [
      "True\n",
      "/tmp/data/S1_ARD/S1A_IW_GRDH_1SSV_20150217T173955_tmp/S1A_IW_GRDH_1SSV_20150217T173955_Orb_Cal_Deb_ML.dim\n"
     ]
    },
    {
     "name": "stderr",
     "output_type": "stream",
     "text": [
      "INFO:snap_stderr:stderr:INFO: org.esa.snap.core.gpf.operators.tooladapter.ToolAdapterIO: Initializing external tool adapters\n",
      "INFO:snap_stderr:stderr:INFO: org.esa.snap.core.util.EngineVersionCheckActivator: Please check regularly for new updates for the best SNAP experience.\n",
      "INFO:snap_stdout:Executing processing graph\n",
      "INFO:snap_stderr:stderr:INFO: org.hsqldb.persist.Logger: dataFileCache open start\n",
      "INFO:snap_stdout:version = 2.36\n",
      "INFO:snap_stderr:stderr:INFO: org.esa.snap.engine_utilities.download.DownloadableContentImpl: http retrieving http://aux.sentinel1.eo.esa.int/POEORB/2015/03/10/S1A_OPER_AUX_POEORB_OPOD_20150310T122954_V20150216T225944_20150218T005944.EOF\n",
      "INFO:snap_stdout:....10%....20%....30%....40%....50%....60%....70%....80%....90% done.\n",
      "INFO:root:S1A_IW_GRDH_1SSV_20150217T173955_20150217T174024_004666_005C26_68DA.SAFE S1A_IW_GRDH_1SSV_20150217T173955 PROCESSED to MULTILOOK starting PT2\n",
      "INFO:root:['/opt/snap/bin/gpt', '/opt/notebooks/utils/cs_s1_pt2A_TF.xml', '-Pinput_ml=/tmp/data/S1_ARD/S1A_IW_GRDH_1SSV_20150217T173955_tmp/S1A_IW_GRDH_1SSV_20150217T173955_Orb_Cal_Deb_ML.dim', '-Pext_dem=/tmp/data/S1_ARD/S1A_IW_GRDH_1SSV_20150217T173955_tmp/ext_dem.tif', '-Poutput_tf=/tmp/data/S1_ARD/S1A_IW_GRDH_1SSV_20150217T173955_tmp/S1A_IW_GRDH_1SSV_20150217T173955_Orb_Cal_Deb_ML_TF.dim']\n",
      "INFO:snap_stderr:stderr:INFO: org.esa.snap.core.gpf.operators.tooladapter.ToolAdapterIO: Initializing external tool adapters\n",
      "INFO:snap_stderr:stderr:INFO: org.esa.snap.core.util.EngineVersionCheckActivator: Please check regularly for new updates for the best SNAP experience.\n",
      "INFO:snap_stdout:Executing processing graph\n",
      "INFO:snap_stderr:stderr:INFO: org.hsqldb.persist.Logger: dataFileCache open start\n",
      "INFO:snap_stdout:....10%....20%....30%....40%....50%....60%....70%....80%....90% done.\n",
      "INFO:root:S1A_IW_GRDH_1SSV_20150217T173955_20150217T174024_004666_005C26_68DA.SAFE S1A_IW_GRDH_1SSV_20150217T173955 PROCESSED to TERRAIN FLATTEN starting PT3\n",
      "INFO:root:['/opt/snap/bin/gpt', '/opt/notebooks/utils/cs_s1_pt3A_TC_db.xml', '-Pinput_tf=/tmp/data/S1_ARD/S1A_IW_GRDH_1SSV_20150217T173955_tmp/S1A_IW_GRDH_1SSV_20150217T173955_Orb_Cal_Deb_ML_TF.dim', '-Pext_dem=/tmp/data/S1_ARD/S1A_IW_GRDH_1SSV_20150217T173955_tmp/ext_dem.tif', '-Poutput_db=/tmp/data/S1_ARD/S1A_IW_GRDH_1SSV_20150217T173955_tmp/S1A_IW_GRDH_1SSV_20150217T173955_Orb_Cal_Deb_ML_TF_TC_dB.dim']\n",
      "INFO:snap_stderr:stderr:INFO: org.esa.snap.core.gpf.operators.tooladapter.ToolAdapterIO: Initializing external tool adapters\n",
      "INFO:snap_stderr:stderr:INFO: org.esa.snap.core.util.EngineVersionCheckActivator: Please check regularly for new updates for the best SNAP experience.\n",
      "INFO:snap_stdout:Executing processing graph\n",
      "INFO:snap_stderr:stderr:INFO: org.hsqldb.persist.Logger: dataFileCache open start\n",
      "INFO:snap_stdout:....10%....20%....30%....40%....50%....60%....70%....80%....90% done.\n",
      "INFO:root:S1A_IW_GRDH_1SSV_20150217T173955_20150217T174024_004666_005C26_68DA.SAFE S1A_IW_GRDH_1SSV_20150217T173955 PROCESSED to dB starting PT4\n",
      "INFO:root:['/opt/snap/bin/gpt', '/opt/notebooks/utils/cs_s1_pt4A_Sm_Bm_TC_lsm.xml', '-Pinput_tf=/tmp/data/S1_ARD/S1A_IW_GRDH_1SSV_20150217T173955_tmp/S1A_IW_GRDH_1SSV_20150217T173955_Orb_Cal_Deb_ML_TF.dim', '-Pext_dem=/tmp/data/S1_ARD/S1A_IW_GRDH_1SSV_20150217T173955_tmp/ext_dem.tif', '-Poutput_ls=/tmp/data/S1_ARD/S1A_IW_GRDH_1SSV_20150217T173955_tmp/S1A_IW_GRDH_1SSV_20150217T173955_Orb_Cal_Deb_ML_TF_TC_lsm.dim']\n",
      "INFO:snap_stderr:stderr:INFO: org.esa.snap.core.gpf.operators.tooladapter.ToolAdapterIO: Initializing external tool adapters\n",
      "INFO:snap_stderr:stderr:INFO: org.esa.snap.core.util.EngineVersionCheckActivator: Please check regularly for new updates for the best SNAP experience.\n",
      "INFO:snap_stdout:Executing processing graph\n",
      "INFO:snap_stderr:stderr:INFO: org.hsqldb.persist.Logger: dataFileCache open start\n",
      "INFO:snap_stdout:....10%....20%....30%....40%....50%....60%....70%....80%....90% done.\n",
      "INFO:root:S1A_IW_GRDH_1SSV_20150217T173955_20150217T174024_004666_005C26_68DA.SAFE S1A_IW_GRDH_1SSV_20150217T173955 PROCESSED to lsm starting COG conversion\n",
      "INFO:root:S1A_IW_GRDH_1SSV_20150217T173955_20150217T174024_004666_005C26_68DA.SAFE S1A_IW_GRDH_1SSV_20150217T173955 Converting COGs\n",
      "INFO:root:converting /tmp/data/S1_ARD/S1A_IW_GRDH_1SSV_20150217T173955_tmp/S1A_IW_GRDH_1SSV_20150217T173955_Orb_Cal_Deb_ML_TF_TC_dB.data/Gamma0_VV_db.img to cog at /tmp/data/S1_ARD/S1A_IW_GRDH_1SSV_20150217T173955_tmp/S1A_IW_GRDH_1SSV_20150217T173955/S1A_IW_GRDH_1SSV_20150217T173955_Gamma0_VV_db.tif\n",
      "INFO:botocore.credentials:Found credentials in environment variables.\n",
      "INFO:root:S1A_IW_GRDH_1SSV_20150217T173955_20150217T174024_004666_005C26_68DA.SAFE S1A_IW_GRDH_1SSV_20150217T173955 COGGED\n",
      "INFO:root:S1A_IW_GRDH_1SSV_20150217T173955_20150217T174024_004666_005C26_68DA.SAFE S1A_IW_GRDH_1SSV_20150217T173955 Copying original METADATA\n",
      "INFO:root:Copying original metadata file to cog dir: /tmp/data/S1_ARD/S1A_IW_GRDH_1SSV_20150217T173955_tmp/S1A_IW_GRDH_1SSV_20150217T173955/S1A_IW_GRDH_1SSV_20150217T173955_S1A_IW_GRDH_1SSV_20150217T173955_Orb_Cal_Deb_ML_TF_TC_dB.dim\n",
      "INFO:root:Copying original metadata file to cog dir: /tmp/data/S1_ARD/S1A_IW_GRDH_1SSV_20150217T173955_tmp/S1A_IW_GRDH_1SSV_20150217T173955/S1A_IW_GRDH_1SSV_20150217T173955_S1A_IW_GRDH_1SSV_20150217T173955_Orb_Cal_Deb_ML_TF_TC_lsm.dim\n",
      "INFO:root:S1A_IW_GRDH_1SSV_20150217T173955_20150217T174024_004666_005C26_68DA.SAFE S1A_IW_GRDH_1SSV_20150217T173955 COPIED original METADATA\n",
      "INFO:root:S1A_IW_GRDH_1SSV_20150217T173955_20150217T174024_004666_005C26_68DA.SAFE S1A_IW_GRDH_1SSV_20150217T173955 Creating dataset YAML\n",
      "INFO:root:Preparing scene S1A_IW_GRDH_1SSV_20150217T173955_tmp\n",
      "INFO:root:Scene path /tmp/data/S1_ARD/S1A_IW_GRDH_1SSV_20150217T173955_tmp/S1A_IW_GRDH_1SSV_20150217T173955\n",
      "INFO:root:prod_path: ['/tmp/data/S1_ARD/S1A_IW_GRDH_1SSV_20150217T173955_tmp/S1A_IW_GRDH_1SSV_20150217T173955/S1A_IW_GRDH_1SSV_20150217T173955_Gamma0_VV_db.tif'], scene_name: S1A_IW_GRDH_1SSV_20150217T173955_tmp\n",
      "INFO:botocore.credentials:Found credentials in environment variables.\n",
      "WARNING:root:no vh band available\n",
      "INFO:root:S1A_IW_GRDH_1SSV_20150217T173955_20150217T174024_004666_005C26_68DA.SAFE S1A_IW_GRDH_1SSV_20150217T173955 Created original METADATA\n",
      "INFO:root:S1A_IW_GRDH_1SSV_20150217T173955_20150217T174024_004666_005C26_68DA.SAFE S1A_IW_GRDH_1SSV_20150217T173955 Uploading to S3 Bucket\n",
      "INFO:root:Local source file: /tmp/data/S1_ARD/S1A_IW_GRDH_1SSV_20150217T173955_tmp/S1A_IW_GRDH_1SSV_20150217T173955/S1A_IW_GRDH_1SSV_20150217T173955_Gamma0_VV_db.tif\n",
      "INFO:root:S3 target file: fiji/tom/sentinel1_corrections/S1A_IW_GRDH_1SSV_20150217T173955/S1A_IW_GRDH_1SSV_20150217T173955_Gamma0_VV_db.tif\n",
      "INFO:root:Start: /tmp/data/S1_ARD/S1A_IW_GRDH_1SSV_20150217T173955_tmp/S1A_IW_GRDH_1SSV_20150217T173955/S1A_IW_GRDH_1SSV_20150217T173955_Gamma0_VV_db.tif 2020-05-06 07:25:22\n",
      "INFO:root:Finish: /tmp/data/S1_ARD/S1A_IW_GRDH_1SSV_20150217T173955_tmp/S1A_IW_GRDH_1SSV_20150217T173955/S1A_IW_GRDH_1SSV_20150217T173955_Gamma0_VV_db.tif 2020-05-06 07:26:12\n",
      "INFO:root:Local source file: /tmp/data/S1_ARD/S1A_IW_GRDH_1SSV_20150217T173955_tmp/S1A_IW_GRDH_1SSV_20150217T173955/S1A_IW_GRDH_1SSV_20150217T173955_S1A_IW_GRDH_1SSV_20150217T173955_Orb_Cal_Deb_ML_TF_TC_dB.dim\n",
      "INFO:root:S3 target file: fiji/tom/sentinel1_corrections/S1A_IW_GRDH_1SSV_20150217T173955/S1A_IW_GRDH_1SSV_20150217T173955_S1A_IW_GRDH_1SSV_20150217T173955_Orb_Cal_Deb_ML_TF_TC_dB.dim\n",
      "INFO:root:Start: /tmp/data/S1_ARD/S1A_IW_GRDH_1SSV_20150217T173955_tmp/S1A_IW_GRDH_1SSV_20150217T173955/S1A_IW_GRDH_1SSV_20150217T173955_S1A_IW_GRDH_1SSV_20150217T173955_Orb_Cal_Deb_ML_TF_TC_dB.dim 2020-05-06 07:26:12\n",
      "INFO:root:Finish: /tmp/data/S1_ARD/S1A_IW_GRDH_1SSV_20150217T173955_tmp/S1A_IW_GRDH_1SSV_20150217T173955/S1A_IW_GRDH_1SSV_20150217T173955_S1A_IW_GRDH_1SSV_20150217T173955_Orb_Cal_Deb_ML_TF_TC_dB.dim 2020-05-06 07:26:13\n",
      "INFO:root:Local source file: /tmp/data/S1_ARD/S1A_IW_GRDH_1SSV_20150217T173955_tmp/S1A_IW_GRDH_1SSV_20150217T173955/S1A_IW_GRDH_1SSV_20150217T173955_S1A_IW_GRDH_1SSV_20150217T173955_Orb_Cal_Deb_ML_TF_TC_lsm.dim\n",
      "INFO:root:S3 target file: fiji/tom/sentinel1_corrections/S1A_IW_GRDH_1SSV_20150217T173955/S1A_IW_GRDH_1SSV_20150217T173955_S1A_IW_GRDH_1SSV_20150217T173955_Orb_Cal_Deb_ML_TF_TC_lsm.dim\n",
      "INFO:root:Start: /tmp/data/S1_ARD/S1A_IW_GRDH_1SSV_20150217T173955_tmp/S1A_IW_GRDH_1SSV_20150217T173955/S1A_IW_GRDH_1SSV_20150217T173955_S1A_IW_GRDH_1SSV_20150217T173955_Orb_Cal_Deb_ML_TF_TC_lsm.dim 2020-05-06 07:26:13\n",
      "INFO:root:Finish: /tmp/data/S1_ARD/S1A_IW_GRDH_1SSV_20150217T173955_tmp/S1A_IW_GRDH_1SSV_20150217T173955/S1A_IW_GRDH_1SSV_20150217T173955_S1A_IW_GRDH_1SSV_20150217T173955_Orb_Cal_Deb_ML_TF_TC_lsm.dim 2020-05-06 07:26:14\n",
      "INFO:root:Local source file: /tmp/data/S1_ARD/S1A_IW_GRDH_1SSV_20150217T173955_tmp/S1A_IW_GRDH_1SSV_20150217T173955/datacube-metadata.yaml\n",
      "INFO:root:S3 target file: fiji/tom/sentinel1_corrections/S1A_IW_GRDH_1SSV_20150217T173955/datacube-metadata.yaml\n",
      "INFO:root:Start: /tmp/data/S1_ARD/S1A_IW_GRDH_1SSV_20150217T173955_tmp/S1A_IW_GRDH_1SSV_20150217T173955/datacube-metadata.yaml 2020-05-06 07:26:14\n",
      "INFO:root:Finish: /tmp/data/S1_ARD/S1A_IW_GRDH_1SSV_20150217T173955_tmp/S1A_IW_GRDH_1SSV_20150217T173955/datacube-metadata.yaml 2020-05-06 07:26:14\n",
      "INFO:root:S1A_IW_GRDH_1SSV_20150217T173955_20150217T174024_004666_005C26_68DA.SAFE S1A_IW_GRDH_1SSV_20150217T173955 Uploaded to S3 Bucket\n"
     ]
    },
    {
     "name": "stdout",
     "output_type": "stream",
     "text": [
      "not boo\n"
     ]
    },
    {
     "name": "stderr",
     "output_type": "stream",
     "text": [
      "\n",
      "\n",
      "\n",
      " 67%|██████▋   | 4/6 [1:54:56<55:59, 1679.78s/it]  \u001b[A\u001b[A\u001b[AINFO:root:S1A_IW_GRDH_1SSV_20170101T174003_20170101T174032_014641_017CE8_8CC3.SAFE S1A_IW_GRDH_1SSV_20170101T174003 Starting\n",
      "INFO:root:S1A_IW_GRDH_1SSV_20170101T174003_20170101T174032_014641_017CE8_8CC3.SAFE S1A_IW_GRDH_1SSV_20170101T174003 DOWNLOADING via ASF\n",
      "INFO:root:fetching: https://api.daac.asf.alaska.edu/services/search/param?granule_list=S1A_IW_GRDH_1SSV_20170101T174003_20170101T174032_014641_017CE8_8CC3&output=csv\n"
     ]
    },
    {
     "name": "stdout",
     "output_type": "stream",
     "text": [
      "\n"
     ]
    },
    {
     "name": "stderr",
     "output_type": "stream",
     "text": [
      "INFO:root:Extracting ASF scene: /tmp/data/S1_ARD/S1A_IW_GRDH_1SSV_20170101T174003_tmp/S1A_IW_GRDH_1SSV_20170101T174003_20170101T174032_014641_017CE8_8CC3.zip\n",
      "INFO:root:S1A_IW_GRDH_1SSV_20170101T174003_20170101T174032_014641_017CE8_8CC3.SAFE S1A_IW_GRDH_1SSV_20170101T174003 DOWNLOADED via ASF\n",
      "INFO:root:['/opt/snap/bin/gpt', '/opt/notebooks/utils/cs_s1_pt1_bnr_Orb_Cal_ML.xml', '-Pinput_grd=/tmp/data/S1_ARD/S1A_IW_GRDH_1SSV_20170101T174003_tmp/S1A_IW_GRDH_1SSV_20170101T174003_20170101T174032_014641_017CE8_8CC3.SAFE/manifest.safe', '-Poutput_ml=/tmp/data/S1_ARD/S1A_IW_GRDH_1SSV_20170101T174003_tmp/S1A_IW_GRDH_1SSV_20170101T174003_Orb_Cal_Deb_ML.dim']\n"
     ]
    },
    {
     "name": "stdout",
     "output_type": "stream",
     "text": [
      "True\n",
      "/tmp/data/S1_ARD/S1A_IW_GRDH_1SSV_20170101T174003_tmp/S1A_IW_GRDH_1SSV_20170101T174003_Orb_Cal_Deb_ML.dim\n"
     ]
    },
    {
     "name": "stderr",
     "output_type": "stream",
     "text": [
      "INFO:snap_stderr:stderr:INFO: org.esa.snap.core.gpf.operators.tooladapter.ToolAdapterIO: Initializing external tool adapters\n",
      "INFO:snap_stderr:stderr:INFO: org.esa.snap.core.util.EngineVersionCheckActivator: Please check regularly for new updates for the best SNAP experience.\n",
      "INFO:snap_stdout:Executing processing graph\n",
      "INFO:snap_stderr:stderr:INFO: org.hsqldb.persist.Logger: dataFileCache open start\n",
      "INFO:snap_stdout:version = 2.72\n",
      "INFO:snap_stderr:stderr:INFO: org.esa.snap.engine_utilities.download.DownloadableContentImpl: http retrieving http://aux.sentinel1.eo.esa.int/POEORB/2017/01/21/S1A_OPER_AUX_POEORB_OPOD_20170121T121401_V20161231T225943_20170102T005942.EOF\n",
      "INFO:snap_stdout:....10%....20%....30%....40%....50%....60%....70%....80%....90% done.\n",
      "INFO:root:S1A_IW_GRDH_1SSV_20170101T174003_20170101T174032_014641_017CE8_8CC3.SAFE S1A_IW_GRDH_1SSV_20170101T174003 PROCESSED to MULTILOOK starting PT2\n",
      "INFO:root:['/opt/snap/bin/gpt', '/opt/notebooks/utils/cs_s1_pt2A_TF.xml', '-Pinput_ml=/tmp/data/S1_ARD/S1A_IW_GRDH_1SSV_20170101T174003_tmp/S1A_IW_GRDH_1SSV_20170101T174003_Orb_Cal_Deb_ML.dim', '-Pext_dem=/tmp/data/S1_ARD/S1A_IW_GRDH_1SSV_20170101T174003_tmp/ext_dem.tif', '-Poutput_tf=/tmp/data/S1_ARD/S1A_IW_GRDH_1SSV_20170101T174003_tmp/S1A_IW_GRDH_1SSV_20170101T174003_Orb_Cal_Deb_ML_TF.dim']\n",
      "INFO:snap_stderr:stderr:INFO: org.esa.snap.core.gpf.operators.tooladapter.ToolAdapterIO: Initializing external tool adapters\n",
      "INFO:snap_stderr:stderr:INFO: org.esa.snap.core.util.EngineVersionCheckActivator: Please check regularly for new updates for the best SNAP experience.\n",
      "INFO:snap_stdout:Executing processing graph\n",
      "INFO:snap_stderr:stderr:INFO: org.hsqldb.persist.Logger: dataFileCache open start\n",
      "INFO:snap_stdout:....10%....20%....30%....40%....50%....60%....70%....80%....90% done.\n",
      "INFO:root:S1A_IW_GRDH_1SSV_20170101T174003_20170101T174032_014641_017CE8_8CC3.SAFE S1A_IW_GRDH_1SSV_20170101T174003 PROCESSED to TERRAIN FLATTEN starting PT3\n",
      "INFO:root:['/opt/snap/bin/gpt', '/opt/notebooks/utils/cs_s1_pt3A_TC_db.xml', '-Pinput_tf=/tmp/data/S1_ARD/S1A_IW_GRDH_1SSV_20170101T174003_tmp/S1A_IW_GRDH_1SSV_20170101T174003_Orb_Cal_Deb_ML_TF.dim', '-Pext_dem=/tmp/data/S1_ARD/S1A_IW_GRDH_1SSV_20170101T174003_tmp/ext_dem.tif', '-Poutput_db=/tmp/data/S1_ARD/S1A_IW_GRDH_1SSV_20170101T174003_tmp/S1A_IW_GRDH_1SSV_20170101T174003_Orb_Cal_Deb_ML_TF_TC_dB.dim']\n",
      "INFO:snap_stderr:stderr:INFO: org.esa.snap.core.gpf.operators.tooladapter.ToolAdapterIO: Initializing external tool adapters\n",
      "INFO:snap_stderr:stderr:INFO: org.esa.snap.core.util.EngineVersionCheckActivator: Please check regularly for new updates for the best SNAP experience.\n",
      "INFO:snap_stdout:Executing processing graph\n",
      "INFO:snap_stderr:stderr:INFO: org.hsqldb.persist.Logger: dataFileCache open start\n",
      "INFO:snap_stdout:....10%....20%....30%....40%....50%....60%....70%....80%....90% done.\n",
      "INFO:root:S1A_IW_GRDH_1SSV_20170101T174003_20170101T174032_014641_017CE8_8CC3.SAFE S1A_IW_GRDH_1SSV_20170101T174003 PROCESSED to dB starting PT4\n",
      "INFO:root:['/opt/snap/bin/gpt', '/opt/notebooks/utils/cs_s1_pt4A_Sm_Bm_TC_lsm.xml', '-Pinput_tf=/tmp/data/S1_ARD/S1A_IW_GRDH_1SSV_20170101T174003_tmp/S1A_IW_GRDH_1SSV_20170101T174003_Orb_Cal_Deb_ML_TF.dim', '-Pext_dem=/tmp/data/S1_ARD/S1A_IW_GRDH_1SSV_20170101T174003_tmp/ext_dem.tif', '-Poutput_ls=/tmp/data/S1_ARD/S1A_IW_GRDH_1SSV_20170101T174003_tmp/S1A_IW_GRDH_1SSV_20170101T174003_Orb_Cal_Deb_ML_TF_TC_lsm.dim']\n",
      "INFO:snap_stderr:stderr:INFO: org.esa.snap.core.gpf.operators.tooladapter.ToolAdapterIO: Initializing external tool adapters\n",
      "INFO:snap_stderr:stderr:INFO: org.esa.snap.core.util.EngineVersionCheckActivator: Please check regularly for new updates for the best SNAP experience.\n",
      "INFO:snap_stdout:Executing processing graph\n",
      "INFO:snap_stderr:stderr:INFO: org.hsqldb.persist.Logger: dataFileCache open start\n",
      "INFO:snap_stdout:....10%....20%....30%....40%....50%....60%....70%....80%....90% done.\n",
      "INFO:root:S1A_IW_GRDH_1SSV_20170101T174003_20170101T174032_014641_017CE8_8CC3.SAFE S1A_IW_GRDH_1SSV_20170101T174003 PROCESSED to lsm starting COG conversion\n",
      "INFO:root:S1A_IW_GRDH_1SSV_20170101T174003_20170101T174032_014641_017CE8_8CC3.SAFE S1A_IW_GRDH_1SSV_20170101T174003 Converting COGs\n",
      "INFO:root:converting /tmp/data/S1_ARD/S1A_IW_GRDH_1SSV_20170101T174003_tmp/S1A_IW_GRDH_1SSV_20170101T174003_Orb_Cal_Deb_ML_TF_TC_dB.data/Gamma0_VV_db.img to cog at /tmp/data/S1_ARD/S1A_IW_GRDH_1SSV_20170101T174003_tmp/S1A_IW_GRDH_1SSV_20170101T174003/S1A_IW_GRDH_1SSV_20170101T174003_Gamma0_VV_db.tif\n",
      "INFO:botocore.credentials:Found credentials in environment variables.\n",
      "INFO:root:S1A_IW_GRDH_1SSV_20170101T174003_20170101T174032_014641_017CE8_8CC3.SAFE S1A_IW_GRDH_1SSV_20170101T174003 COGGED\n",
      "INFO:root:S1A_IW_GRDH_1SSV_20170101T174003_20170101T174032_014641_017CE8_8CC3.SAFE S1A_IW_GRDH_1SSV_20170101T174003 Copying original METADATA\n",
      "INFO:root:Copying original metadata file to cog dir: /tmp/data/S1_ARD/S1A_IW_GRDH_1SSV_20170101T174003_tmp/S1A_IW_GRDH_1SSV_20170101T174003/S1A_IW_GRDH_1SSV_20170101T174003_S1A_IW_GRDH_1SSV_20170101T174003_Orb_Cal_Deb_ML_TF_TC_dB.dim\n",
      "INFO:root:Copying original metadata file to cog dir: /tmp/data/S1_ARD/S1A_IW_GRDH_1SSV_20170101T174003_tmp/S1A_IW_GRDH_1SSV_20170101T174003/S1A_IW_GRDH_1SSV_20170101T174003_S1A_IW_GRDH_1SSV_20170101T174003_Orb_Cal_Deb_ML_TF_TC_lsm.dim\n",
      "INFO:root:S1A_IW_GRDH_1SSV_20170101T174003_20170101T174032_014641_017CE8_8CC3.SAFE S1A_IW_GRDH_1SSV_20170101T174003 COPIED original METADATA\n",
      "INFO:root:S1A_IW_GRDH_1SSV_20170101T174003_20170101T174032_014641_017CE8_8CC3.SAFE S1A_IW_GRDH_1SSV_20170101T174003 Creating dataset YAML\n",
      "INFO:root:Preparing scene S1A_IW_GRDH_1SSV_20170101T174003_tmp\n",
      "INFO:root:Scene path /tmp/data/S1_ARD/S1A_IW_GRDH_1SSV_20170101T174003_tmp/S1A_IW_GRDH_1SSV_20170101T174003\n",
      "INFO:root:prod_path: ['/tmp/data/S1_ARD/S1A_IW_GRDH_1SSV_20170101T174003_tmp/S1A_IW_GRDH_1SSV_20170101T174003/S1A_IW_GRDH_1SSV_20170101T174003_Gamma0_VV_db.tif'], scene_name: S1A_IW_GRDH_1SSV_20170101T174003_tmp\n",
      "INFO:botocore.credentials:Found credentials in environment variables.\n",
      "WARNING:root:no vh band available\n",
      "INFO:root:S1A_IW_GRDH_1SSV_20170101T174003_20170101T174032_014641_017CE8_8CC3.SAFE S1A_IW_GRDH_1SSV_20170101T174003 Created original METADATA\n",
      "INFO:root:S1A_IW_GRDH_1SSV_20170101T174003_20170101T174032_014641_017CE8_8CC3.SAFE S1A_IW_GRDH_1SSV_20170101T174003 Uploading to S3 Bucket\n",
      "INFO:root:Local source file: /tmp/data/S1_ARD/S1A_IW_GRDH_1SSV_20170101T174003_tmp/S1A_IW_GRDH_1SSV_20170101T174003/S1A_IW_GRDH_1SSV_20170101T174003_Gamma0_VV_db.tif\n",
      "INFO:root:S3 target file: fiji/tom/sentinel1_corrections/S1A_IW_GRDH_1SSV_20170101T174003/S1A_IW_GRDH_1SSV_20170101T174003_Gamma0_VV_db.tif\n",
      "INFO:root:Start: /tmp/data/S1_ARD/S1A_IW_GRDH_1SSV_20170101T174003_tmp/S1A_IW_GRDH_1SSV_20170101T174003/S1A_IW_GRDH_1SSV_20170101T174003_Gamma0_VV_db.tif 2020-05-06 07:51:36\n",
      "INFO:root:Finish: /tmp/data/S1_ARD/S1A_IW_GRDH_1SSV_20170101T174003_tmp/S1A_IW_GRDH_1SSV_20170101T174003/S1A_IW_GRDH_1SSV_20170101T174003_Gamma0_VV_db.tif 2020-05-06 07:52:24\n",
      "INFO:root:Local source file: /tmp/data/S1_ARD/S1A_IW_GRDH_1SSV_20170101T174003_tmp/S1A_IW_GRDH_1SSV_20170101T174003/S1A_IW_GRDH_1SSV_20170101T174003_S1A_IW_GRDH_1SSV_20170101T174003_Orb_Cal_Deb_ML_TF_TC_dB.dim\n",
      "INFO:root:S3 target file: fiji/tom/sentinel1_corrections/S1A_IW_GRDH_1SSV_20170101T174003/S1A_IW_GRDH_1SSV_20170101T174003_S1A_IW_GRDH_1SSV_20170101T174003_Orb_Cal_Deb_ML_TF_TC_dB.dim\n",
      "INFO:root:Start: /tmp/data/S1_ARD/S1A_IW_GRDH_1SSV_20170101T174003_tmp/S1A_IW_GRDH_1SSV_20170101T174003/S1A_IW_GRDH_1SSV_20170101T174003_S1A_IW_GRDH_1SSV_20170101T174003_Orb_Cal_Deb_ML_TF_TC_dB.dim 2020-05-06 07:52:24\n",
      "INFO:root:Finish: /tmp/data/S1_ARD/S1A_IW_GRDH_1SSV_20170101T174003_tmp/S1A_IW_GRDH_1SSV_20170101T174003/S1A_IW_GRDH_1SSV_20170101T174003_S1A_IW_GRDH_1SSV_20170101T174003_Orb_Cal_Deb_ML_TF_TC_dB.dim 2020-05-06 07:52:25\n",
      "INFO:root:Local source file: /tmp/data/S1_ARD/S1A_IW_GRDH_1SSV_20170101T174003_tmp/S1A_IW_GRDH_1SSV_20170101T174003/S1A_IW_GRDH_1SSV_20170101T174003_S1A_IW_GRDH_1SSV_20170101T174003_Orb_Cal_Deb_ML_TF_TC_lsm.dim\n",
      "INFO:root:S3 target file: fiji/tom/sentinel1_corrections/S1A_IW_GRDH_1SSV_20170101T174003/S1A_IW_GRDH_1SSV_20170101T174003_S1A_IW_GRDH_1SSV_20170101T174003_Orb_Cal_Deb_ML_TF_TC_lsm.dim\n",
      "INFO:root:Start: /tmp/data/S1_ARD/S1A_IW_GRDH_1SSV_20170101T174003_tmp/S1A_IW_GRDH_1SSV_20170101T174003/S1A_IW_GRDH_1SSV_20170101T174003_S1A_IW_GRDH_1SSV_20170101T174003_Orb_Cal_Deb_ML_TF_TC_lsm.dim 2020-05-06 07:52:25\n",
      "INFO:root:Finish: /tmp/data/S1_ARD/S1A_IW_GRDH_1SSV_20170101T174003_tmp/S1A_IW_GRDH_1SSV_20170101T174003/S1A_IW_GRDH_1SSV_20170101T174003_S1A_IW_GRDH_1SSV_20170101T174003_Orb_Cal_Deb_ML_TF_TC_lsm.dim 2020-05-06 07:52:26\n",
      "INFO:root:Local source file: /tmp/data/S1_ARD/S1A_IW_GRDH_1SSV_20170101T174003_tmp/S1A_IW_GRDH_1SSV_20170101T174003/datacube-metadata.yaml\n",
      "INFO:root:S3 target file: fiji/tom/sentinel1_corrections/S1A_IW_GRDH_1SSV_20170101T174003/datacube-metadata.yaml\n",
      "INFO:root:Start: /tmp/data/S1_ARD/S1A_IW_GRDH_1SSV_20170101T174003_tmp/S1A_IW_GRDH_1SSV_20170101T174003/datacube-metadata.yaml 2020-05-06 07:52:26\n",
      "INFO:root:Finish: /tmp/data/S1_ARD/S1A_IW_GRDH_1SSV_20170101T174003_tmp/S1A_IW_GRDH_1SSV_20170101T174003/datacube-metadata.yaml 2020-05-06 07:52:27\n",
      "INFO:root:S1A_IW_GRDH_1SSV_20170101T174003_20170101T174032_014641_017CE8_8CC3.SAFE S1A_IW_GRDH_1SSV_20170101T174003 Uploaded to S3 Bucket\n"
     ]
    },
    {
     "name": "stdout",
     "output_type": "stream",
     "text": [
      "not boo\n"
     ]
    },
    {
     "name": "stderr",
     "output_type": "stream",
     "text": [
      "\n",
      "\n",
      "\n",
      " 83%|████████▎ | 5/6 [2:21:09<27:27, 1647.65s/it]\u001b[A\u001b[A\u001b[AINFO:root:S1A_IW_GRDH_1SDV_20200415T174051_20200415T174114_032141_03B737_97F2.SAFE S1A_IW_GRDH_1SDV_20200415T174051 Starting\n",
      "INFO:root:S1A_IW_GRDH_1SDV_20200415T174051_20200415T174114_032141_03B737_97F2.SAFE S1A_IW_GRDH_1SDV_20200415T174051 DOWNLOADING via ASF\n",
      "INFO:root:fetching: https://api.daac.asf.alaska.edu/services/search/param?granule_list=S1A_IW_GRDH_1SDV_20200415T174051_20200415T174114_032141_03B737_97F2&output=csv\n"
     ]
    },
    {
     "name": "stdout",
     "output_type": "stream",
     "text": [
      "\n"
     ]
    },
    {
     "name": "stderr",
     "output_type": "stream",
     "text": [
      "INFO:root:Extracting ASF scene: /tmp/data/S1_ARD/S1A_IW_GRDH_1SDV_20200415T174051_tmp/S1A_IW_GRDH_1SDV_20200415T174051_20200415T174114_032141_03B737_97F2.zip\n",
      "INFO:root:S1A_IW_GRDH_1SDV_20200415T174051_20200415T174114_032141_03B737_97F2.SAFE S1A_IW_GRDH_1SDV_20200415T174051 DOWNLOADED via ASF\n",
      "INFO:root:['/opt/snap/bin/gpt', '/opt/notebooks/utils/cs_s1_pt1_bnr_Orb_Cal_ML.xml', '-Pinput_grd=/tmp/data/S1_ARD/S1A_IW_GRDH_1SDV_20200415T174051_tmp/S1A_IW_GRDH_1SDV_20200415T174051_20200415T174114_032141_03B737_97F2.SAFE/manifest.safe', '-Poutput_ml=/tmp/data/S1_ARD/S1A_IW_GRDH_1SDV_20200415T174051_tmp/S1A_IW_GRDH_1SDV_20200415T174051_Orb_Cal_Deb_ML.dim']\n"
     ]
    },
    {
     "name": "stdout",
     "output_type": "stream",
     "text": [
      "True\n",
      "/tmp/data/S1_ARD/S1A_IW_GRDH_1SDV_20200415T174051_tmp/S1A_IW_GRDH_1SDV_20200415T174051_Orb_Cal_Deb_ML.dim\n"
     ]
    },
    {
     "name": "stderr",
     "output_type": "stream",
     "text": [
      "INFO:snap_stderr:stderr:INFO: org.esa.snap.core.gpf.operators.tooladapter.ToolAdapterIO: Initializing external tool adapters\n",
      "INFO:snap_stderr:stderr:INFO: org.esa.snap.core.util.EngineVersionCheckActivator: Please check regularly for new updates for the best SNAP experience.\n",
      "INFO:snap_stdout:Executing processing graph\n",
      "INFO:snap_stderr:stderr:INFO: org.hsqldb.persist.Logger: dataFileCache open start\n",
      "INFO:snap_stdout:version = 3.2\n",
      "INFO:snap_stderr:stderr:INFO: org.esa.snap.engine_utilities.download.DownloadableContentImpl: http retrieving http://aux.sentinel1.eo.esa.int/POEORB/2020/05/05/S1A_OPER_AUX_POEORB_OPOD_20200505T120837_V20200414T225942_20200416T005942.EOF\n",
      "INFO:snap_stdout:....10%....20%....30%....40%....50%....60%....70%....80%....90% done.\n",
      "INFO:root:S1A_IW_GRDH_1SDV_20200415T174051_20200415T174114_032141_03B737_97F2.SAFE S1A_IW_GRDH_1SDV_20200415T174051 PROCESSED to MULTILOOK starting PT2\n",
      "INFO:root:['/opt/snap/bin/gpt', '/opt/notebooks/utils/cs_s1_pt2A_TF.xml', '-Pinput_ml=/tmp/data/S1_ARD/S1A_IW_GRDH_1SDV_20200415T174051_tmp/S1A_IW_GRDH_1SDV_20200415T174051_Orb_Cal_Deb_ML.dim', '-Pext_dem=/tmp/data/S1_ARD/S1A_IW_GRDH_1SDV_20200415T174051_tmp/ext_dem.tif', '-Poutput_tf=/tmp/data/S1_ARD/S1A_IW_GRDH_1SDV_20200415T174051_tmp/S1A_IW_GRDH_1SDV_20200415T174051_Orb_Cal_Deb_ML_TF.dim']\n",
      "INFO:snap_stderr:stderr:INFO: org.esa.snap.core.gpf.operators.tooladapter.ToolAdapterIO: Initializing external tool adapters\n",
      "INFO:snap_stderr:stderr:INFO: org.esa.snap.core.util.EngineVersionCheckActivator: Please check regularly for new updates for the best SNAP experience.\n",
      "INFO:snap_stdout:Executing processing graph\n",
      "INFO:snap_stderr:stderr:INFO: org.hsqldb.persist.Logger: dataFileCache open start\n",
      "INFO:snap_stdout:....10%....20%....30%....40%....50%....60%....70%....80%....90% done.\n",
      "INFO:root:S1A_IW_GRDH_1SDV_20200415T174051_20200415T174114_032141_03B737_97F2.SAFE S1A_IW_GRDH_1SDV_20200415T174051 PROCESSED to TERRAIN FLATTEN starting PT3\n",
      "INFO:root:['/opt/snap/bin/gpt', '/opt/notebooks/utils/cs_s1_pt3A_TC_db.xml', '-Pinput_tf=/tmp/data/S1_ARD/S1A_IW_GRDH_1SDV_20200415T174051_tmp/S1A_IW_GRDH_1SDV_20200415T174051_Orb_Cal_Deb_ML_TF.dim', '-Pext_dem=/tmp/data/S1_ARD/S1A_IW_GRDH_1SDV_20200415T174051_tmp/ext_dem.tif', '-Poutput_db=/tmp/data/S1_ARD/S1A_IW_GRDH_1SDV_20200415T174051_tmp/S1A_IW_GRDH_1SDV_20200415T174051_Orb_Cal_Deb_ML_TF_TC_dB.dim']\n",
      "INFO:snap_stderr:stderr:INFO: org.esa.snap.core.gpf.operators.tooladapter.ToolAdapterIO: Initializing external tool adapters\n",
      "INFO:snap_stderr:stderr:INFO: org.esa.snap.core.util.EngineVersionCheckActivator: Please check regularly for new updates for the best SNAP experience.\n",
      "INFO:snap_stdout:Executing processing graph\n",
      "INFO:snap_stderr:stderr:INFO: org.hsqldb.persist.Logger: dataFileCache open start\n",
      "INFO:snap_stdout:....10%....20%....30%....40%....50%....60%....70%....80%....90% done.\n",
      "INFO:root:S1A_IW_GRDH_1SDV_20200415T174051_20200415T174114_032141_03B737_97F2.SAFE S1A_IW_GRDH_1SDV_20200415T174051 PROCESSED to dB starting PT4\n",
      "INFO:root:['/opt/snap/bin/gpt', '/opt/notebooks/utils/cs_s1_pt4A_Sm_Bm_TC_lsm.xml', '-Pinput_tf=/tmp/data/S1_ARD/S1A_IW_GRDH_1SDV_20200415T174051_tmp/S1A_IW_GRDH_1SDV_20200415T174051_Orb_Cal_Deb_ML_TF.dim', '-Pext_dem=/tmp/data/S1_ARD/S1A_IW_GRDH_1SDV_20200415T174051_tmp/ext_dem.tif', '-Poutput_ls=/tmp/data/S1_ARD/S1A_IW_GRDH_1SDV_20200415T174051_tmp/S1A_IW_GRDH_1SDV_20200415T174051_Orb_Cal_Deb_ML_TF_TC_lsm.dim']\n",
      "INFO:snap_stderr:stderr:INFO: org.esa.snap.core.gpf.operators.tooladapter.ToolAdapterIO: Initializing external tool adapters\n",
      "INFO:snap_stderr:stderr:INFO: org.esa.snap.core.util.EngineVersionCheckActivator: Please check regularly for new updates for the best SNAP experience.\n",
      "INFO:snap_stdout:Executing processing graph\n",
      "INFO:snap_stderr:stderr:INFO: org.hsqldb.persist.Logger: dataFileCache open start\n",
      "INFO:snap_stdout:....10%....20%....30%....40%....50%....60%....70%....80%....90% done.\n",
      "INFO:root:S1A_IW_GRDH_1SDV_20200415T174051_20200415T174114_032141_03B737_97F2.SAFE S1A_IW_GRDH_1SDV_20200415T174051 PROCESSED to lsm starting COG conversion\n",
      "INFO:root:S1A_IW_GRDH_1SDV_20200415T174051_20200415T174114_032141_03B737_97F2.SAFE S1A_IW_GRDH_1SDV_20200415T174051 Converting COGs\n",
      "INFO:root:converting /tmp/data/S1_ARD/S1A_IW_GRDH_1SDV_20200415T174051_tmp/S1A_IW_GRDH_1SDV_20200415T174051_Orb_Cal_Deb_ML_TF_TC_dB.data/Gamma0_VH_db.img to cog at /tmp/data/S1_ARD/S1A_IW_GRDH_1SDV_20200415T174051_tmp/S1A_IW_GRDH_1SDV_20200415T174051/S1A_IW_GRDH_1SDV_20200415T174051_Gamma0_VH_db.tif\n",
      "INFO:botocore.credentials:Found credentials in environment variables.\n",
      "INFO:root:converting /tmp/data/S1_ARD/S1A_IW_GRDH_1SDV_20200415T174051_tmp/S1A_IW_GRDH_1SDV_20200415T174051_Orb_Cal_Deb_ML_TF_TC_dB.data/Gamma0_VV_db.img to cog at /tmp/data/S1_ARD/S1A_IW_GRDH_1SDV_20200415T174051_tmp/S1A_IW_GRDH_1SDV_20200415T174051/S1A_IW_GRDH_1SDV_20200415T174051_Gamma0_VV_db.tif\n",
      "INFO:botocore.credentials:Found credentials in environment variables.\n",
      "INFO:root:converting /tmp/data/S1_ARD/S1A_IW_GRDH_1SDV_20200415T174051_tmp/S1A_IW_GRDH_1SDV_20200415T174051_Orb_Cal_Deb_ML_TF_TC_lsm.data/LayoverShadow_MASK_VH.img to cog at /tmp/data/S1_ARD/S1A_IW_GRDH_1SDV_20200415T174051_tmp/S1A_IW_GRDH_1SDV_20200415T174051/S1A_IW_GRDH_1SDV_20200415T174051_LayoverShadow_MASK_VH.tif\n",
      "INFO:botocore.credentials:Found credentials in environment variables.\n",
      "INFO:root:S1A_IW_GRDH_1SDV_20200415T174051_20200415T174114_032141_03B737_97F2.SAFE S1A_IW_GRDH_1SDV_20200415T174051 COGGED\n",
      "INFO:root:S1A_IW_GRDH_1SDV_20200415T174051_20200415T174114_032141_03B737_97F2.SAFE S1A_IW_GRDH_1SDV_20200415T174051 Copying original METADATA\n",
      "INFO:root:Copying original metadata file to cog dir: /tmp/data/S1_ARD/S1A_IW_GRDH_1SDV_20200415T174051_tmp/S1A_IW_GRDH_1SDV_20200415T174051/S1A_IW_GRDH_1SDV_20200415T174051_S1A_IW_GRDH_1SDV_20200415T174051_Orb_Cal_Deb_ML_TF_TC_dB.dim\n",
      "INFO:root:Copying original metadata file to cog dir: /tmp/data/S1_ARD/S1A_IW_GRDH_1SDV_20200415T174051_tmp/S1A_IW_GRDH_1SDV_20200415T174051/S1A_IW_GRDH_1SDV_20200415T174051_S1A_IW_GRDH_1SDV_20200415T174051_Orb_Cal_Deb_ML_TF_TC_lsm.dim\n",
      "INFO:root:S1A_IW_GRDH_1SDV_20200415T174051_20200415T174114_032141_03B737_97F2.SAFE S1A_IW_GRDH_1SDV_20200415T174051 COPIED original METADATA\n",
      "INFO:root:S1A_IW_GRDH_1SDV_20200415T174051_20200415T174114_032141_03B737_97F2.SAFE S1A_IW_GRDH_1SDV_20200415T174051 Creating dataset YAML\n",
      "INFO:root:Preparing scene S1A_IW_GRDH_1SDV_20200415T174051_tmp\n",
      "INFO:root:Scene path /tmp/data/S1_ARD/S1A_IW_GRDH_1SDV_20200415T174051_tmp/S1A_IW_GRDH_1SDV_20200415T174051\n",
      "INFO:root:prod_path: ['/tmp/data/S1_ARD/S1A_IW_GRDH_1SDV_20200415T174051_tmp/S1A_IW_GRDH_1SDV_20200415T174051/S1A_IW_GRDH_1SDV_20200415T174051_Gamma0_VH_db.tif', '/tmp/data/S1_ARD/S1A_IW_GRDH_1SDV_20200415T174051_tmp/S1A_IW_GRDH_1SDV_20200415T174051/S1A_IW_GRDH_1SDV_20200415T174051_Gamma0_VV_db.tif', '/tmp/data/S1_ARD/S1A_IW_GRDH_1SDV_20200415T174051_tmp/S1A_IW_GRDH_1SDV_20200415T174051/S1A_IW_GRDH_1SDV_20200415T174051_LayoverShadow_MASK_VH.tif'], scene_name: S1A_IW_GRDH_1SDV_20200415T174051_tmp\n",
      "INFO:botocore.credentials:Found credentials in environment variables.\n",
      "INFO:root:S1A_IW_GRDH_1SDV_20200415T174051_20200415T174114_032141_03B737_97F2.SAFE S1A_IW_GRDH_1SDV_20200415T174051 Created original METADATA\n",
      "INFO:root:S1A_IW_GRDH_1SDV_20200415T174051_20200415T174114_032141_03B737_97F2.SAFE S1A_IW_GRDH_1SDV_20200415T174051 Uploading to S3 Bucket\n",
      "INFO:root:Local source file: /tmp/data/S1_ARD/S1A_IW_GRDH_1SDV_20200415T174051_tmp/S1A_IW_GRDH_1SDV_20200415T174051/S1A_IW_GRDH_1SDV_20200415T174051_Gamma0_VH_db.tif\n",
      "INFO:root:S3 target file: fiji/tom/sentinel1_corrections/S1A_IW_GRDH_1SDV_20200415T174051/S1A_IW_GRDH_1SDV_20200415T174051_Gamma0_VH_db.tif\n",
      "INFO:root:Start: /tmp/data/S1_ARD/S1A_IW_GRDH_1SDV_20200415T174051_tmp/S1A_IW_GRDH_1SDV_20200415T174051/S1A_IW_GRDH_1SDV_20200415T174051_Gamma0_VH_db.tif 2020-05-06 08:23:39\n",
      "INFO:root:Finish: /tmp/data/S1_ARD/S1A_IW_GRDH_1SDV_20200415T174051_tmp/S1A_IW_GRDH_1SDV_20200415T174051/S1A_IW_GRDH_1SDV_20200415T174051_Gamma0_VH_db.tif 2020-05-06 08:24:17\n",
      "INFO:root:Local source file: /tmp/data/S1_ARD/S1A_IW_GRDH_1SDV_20200415T174051_tmp/S1A_IW_GRDH_1SDV_20200415T174051/S1A_IW_GRDH_1SDV_20200415T174051_Gamma0_VV_db.tif\n",
      "INFO:root:S3 target file: fiji/tom/sentinel1_corrections/S1A_IW_GRDH_1SDV_20200415T174051/S1A_IW_GRDH_1SDV_20200415T174051_Gamma0_VV_db.tif\n",
      "INFO:root:Start: /tmp/data/S1_ARD/S1A_IW_GRDH_1SDV_20200415T174051_tmp/S1A_IW_GRDH_1SDV_20200415T174051/S1A_IW_GRDH_1SDV_20200415T174051_Gamma0_VV_db.tif 2020-05-06 08:24:17\n",
      "INFO:root:Finish: /tmp/data/S1_ARD/S1A_IW_GRDH_1SDV_20200415T174051_tmp/S1A_IW_GRDH_1SDV_20200415T174051/S1A_IW_GRDH_1SDV_20200415T174051_Gamma0_VV_db.tif 2020-05-06 08:24:56\n",
      "INFO:root:Local source file: /tmp/data/S1_ARD/S1A_IW_GRDH_1SDV_20200415T174051_tmp/S1A_IW_GRDH_1SDV_20200415T174051/S1A_IW_GRDH_1SDV_20200415T174051_LayoverShadow_MASK_VH.tif\n",
      "INFO:root:S3 target file: fiji/tom/sentinel1_corrections/S1A_IW_GRDH_1SDV_20200415T174051/S1A_IW_GRDH_1SDV_20200415T174051_LayoverShadow_MASK_VH.tif\n",
      "INFO:root:Start: /tmp/data/S1_ARD/S1A_IW_GRDH_1SDV_20200415T174051_tmp/S1A_IW_GRDH_1SDV_20200415T174051/S1A_IW_GRDH_1SDV_20200415T174051_LayoverShadow_MASK_VH.tif 2020-05-06 08:24:56\n",
      "INFO:root:Finish: /tmp/data/S1_ARD/S1A_IW_GRDH_1SDV_20200415T174051_tmp/S1A_IW_GRDH_1SDV_20200415T174051/S1A_IW_GRDH_1SDV_20200415T174051_LayoverShadow_MASK_VH.tif 2020-05-06 08:24:58\n",
      "INFO:root:Local source file: /tmp/data/S1_ARD/S1A_IW_GRDH_1SDV_20200415T174051_tmp/S1A_IW_GRDH_1SDV_20200415T174051/S1A_IW_GRDH_1SDV_20200415T174051_S1A_IW_GRDH_1SDV_20200415T174051_Orb_Cal_Deb_ML_TF_TC_dB.dim\n",
      "INFO:root:S3 target file: fiji/tom/sentinel1_corrections/S1A_IW_GRDH_1SDV_20200415T174051/S1A_IW_GRDH_1SDV_20200415T174051_S1A_IW_GRDH_1SDV_20200415T174051_Orb_Cal_Deb_ML_TF_TC_dB.dim\n",
      "INFO:root:Start: /tmp/data/S1_ARD/S1A_IW_GRDH_1SDV_20200415T174051_tmp/S1A_IW_GRDH_1SDV_20200415T174051/S1A_IW_GRDH_1SDV_20200415T174051_S1A_IW_GRDH_1SDV_20200415T174051_Orb_Cal_Deb_ML_TF_TC_dB.dim 2020-05-06 08:24:58\n",
      "INFO:root:Finish: /tmp/data/S1_ARD/S1A_IW_GRDH_1SDV_20200415T174051_tmp/S1A_IW_GRDH_1SDV_20200415T174051/S1A_IW_GRDH_1SDV_20200415T174051_S1A_IW_GRDH_1SDV_20200415T174051_Orb_Cal_Deb_ML_TF_TC_dB.dim 2020-05-06 08:24:59\n",
      "INFO:root:Local source file: /tmp/data/S1_ARD/S1A_IW_GRDH_1SDV_20200415T174051_tmp/S1A_IW_GRDH_1SDV_20200415T174051/S1A_IW_GRDH_1SDV_20200415T174051_S1A_IW_GRDH_1SDV_20200415T174051_Orb_Cal_Deb_ML_TF_TC_lsm.dim\n",
      "INFO:root:S3 target file: fiji/tom/sentinel1_corrections/S1A_IW_GRDH_1SDV_20200415T174051/S1A_IW_GRDH_1SDV_20200415T174051_S1A_IW_GRDH_1SDV_20200415T174051_Orb_Cal_Deb_ML_TF_TC_lsm.dim\n",
      "INFO:root:Start: /tmp/data/S1_ARD/S1A_IW_GRDH_1SDV_20200415T174051_tmp/S1A_IW_GRDH_1SDV_20200415T174051/S1A_IW_GRDH_1SDV_20200415T174051_S1A_IW_GRDH_1SDV_20200415T174051_Orb_Cal_Deb_ML_TF_TC_lsm.dim 2020-05-06 08:24:59\n",
      "INFO:root:Finish: /tmp/data/S1_ARD/S1A_IW_GRDH_1SDV_20200415T174051_tmp/S1A_IW_GRDH_1SDV_20200415T174051/S1A_IW_GRDH_1SDV_20200415T174051_S1A_IW_GRDH_1SDV_20200415T174051_Orb_Cal_Deb_ML_TF_TC_lsm.dim 2020-05-06 08:25:00\n",
      "INFO:root:Local source file: /tmp/data/S1_ARD/S1A_IW_GRDH_1SDV_20200415T174051_tmp/S1A_IW_GRDH_1SDV_20200415T174051/datacube-metadata.yaml\n",
      "INFO:root:S3 target file: fiji/tom/sentinel1_corrections/S1A_IW_GRDH_1SDV_20200415T174051/datacube-metadata.yaml\n",
      "INFO:root:Start: /tmp/data/S1_ARD/S1A_IW_GRDH_1SDV_20200415T174051_tmp/S1A_IW_GRDH_1SDV_20200415T174051/datacube-metadata.yaml 2020-05-06 08:25:00\n",
      "INFO:root:Finish: /tmp/data/S1_ARD/S1A_IW_GRDH_1SDV_20200415T174051_tmp/S1A_IW_GRDH_1SDV_20200415T174051/datacube-metadata.yaml 2020-05-06 08:25:00\n",
      "INFO:root:S1A_IW_GRDH_1SDV_20200415T174051_20200415T174114_032141_03B737_97F2.SAFE S1A_IW_GRDH_1SDV_20200415T174051 Uploaded to S3 Bucket\n"
     ]
    },
    {
     "name": "stdout",
     "output_type": "stream",
     "text": [
      "not boo\n"
     ]
    },
    {
     "name": "stderr",
     "output_type": "stream",
     "text": [
      "\n",
      "\n",
      "\n",
      "100%|██████████| 6/6 [2:53:43<00:00, 1737.28s/it]\u001b[A\u001b[A\u001b[A"
     ]
    },
    {
     "name": "stdout",
     "output_type": "stream",
     "text": [
      "CPU times: user 1h 57min 50s, sys: 17min 10s, total: 2h 15min\n",
      "Wall time: 2h 53min 43s\n"
     ]
    },
    {
     "name": "stderr",
     "output_type": "stream",
     "text": [
      "\n"
     ]
    }
   ],
   "source": [
    "%%time\n",
    "# Fiji\n",
    "for scene in tqdm(scenes[:]):\n",
    "    print('')\n",
    "    prepareS1(scene, \n",
    "              ext_dem='common_sensing/ancillary_products/SRTM1Sec/SRTM30_Fiji_E.tif',\n",
    "              s3_bucket='public-eo-data', \n",
    "              s3_dir='fiji/tom/sentinel1_corrections/', \n",
    "              inter_dir='/tmp/data/S1_ARD/')"
   ]
  },
  {
   "cell_type": "code",
   "execution_count": null,
   "metadata": {},
   "outputs": [],
   "source": []
  }
 ],
 "metadata": {
  "kernelspec": {
   "display_name": "Python 3",
   "language": "python",
   "name": "python3"
  },
  "language_info": {
   "codemirror_mode": {
    "name": "ipython",
    "version": 3
   },
   "file_extension": ".py",
   "mimetype": "text/x-python",
   "name": "python",
   "nbconvert_exporter": "python",
   "pygments_lexer": "ipython3",
   "version": "3.7.4"
  }
 },
 "nbformat": 4,
 "nbformat_minor": 4
}
