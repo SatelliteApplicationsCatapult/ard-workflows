{
 "cells": [
  {
   "cell_type": "markdown",
   "metadata": {},
   "source": [
    "# Debug notebook\n",
    "This notebook is only used to troubleshoot the S1 ARD workflow processor."
   ]
  },
  {
   "cell_type": "markdown",
   "metadata": {},
   "source": [
    "## S1 ARD workflow for scenes overlapping AM"
   ]
  },
  {
   "cell_type": "code",
   "execution_count": 1,
   "metadata": {},
   "outputs": [],
   "source": [
    "import timeout_decorator\n",
    "import json\n",
    "from utils.prepS1AM import prepareS1AM\n",
    "\n",
    "@timeout_decorator.timeout(10800, use_signals=False)\n",
    "def process_scene(json_data):\n",
    "    loaded_json = json.loads(json_data)\n",
    "    #for x in loaded_json:\n",
    "    #    logging.info(\"%s: %s\" % (x, loaded_json[x]))\n",
    "    prepareS1AM(**loaded_json)"
   ]
  },
  {
   "cell_type": "markdown",
   "metadata": {},
   "source": [
    "## S1 ARD job queue processor"
   ]
  },
  {
   "cell_type": "code",
   "execution_count": 2,
   "metadata": {},
   "outputs": [
    {
     "name": "stderr",
     "output_type": "stream",
     "text": [
      "2020-10-16 10:54:59 INFO     Worker with sessionID: 7f4443d9-f854-4970-b96d-15d520268102\n",
      "2020-10-16 10:54:59 INFO     Initial queue state: empty=False\n"
     ]
    }
   ],
   "source": [
    "import os\n",
    "import logging\n",
    "import rediswq\n",
    "\n",
    "level = os.getenv(\"LOGLEVEL\", \"INFO\").upper()\n",
    "logging.basicConfig(format=\"%(asctime)s %(levelname)-8s %(message)s\", datefmt=\"%Y-%m-%d %H:%M:%S\", level=level)\n",
    "\n",
    "host = os.getenv(\"REDIS_SERVICE_HOST\", \"redis-master\")\n",
    "q = rediswq.RedisWQ(name=\"jobS1AM\", host=host)\n",
    "\n",
    "logging.info(\"Worker with sessionID: \" +  q.sessionID())\n",
    "logging.info(\"Initial queue state: empty=\" + str(q.empty()))"
   ]
  },
  {
   "cell_type": "code",
   "execution_count": null,
   "metadata": {},
   "outputs": [
    {
     "name": "stderr",
     "output_type": "stream",
     "text": [
      "2020-10-16 10:56:32 INFO     Working on {\"in_scene\": \"S1A_IW_GRDH_1SDV_20201007T173247_20201007T173304_034693_040A80_8403\", \"s3_bucket\": \"public-eo-data\", \"s3_dir\": \"luigi/fiji/sentinel_1/\"}\n",
      "2020-10-16 10:56:32 INFO     S1A_IW_GRDH_1SDV_20201007T173247_20201007T173304_034693_040A80_8403.SAFE S1A_IW_GRDH_1SDV_20201007T173247 Starting\n",
      "2020-10-16 10:56:32 INFO     S1A_IW_GRDH_1SDV_20201007T173247_20201007T173304_034693_040A80_8403.SAFE S1A_IW_GRDH_1SDV_20201007T173247 DOWNLOADING via ASF\n",
      "2020-10-16 10:56:32 INFO     fetching: https://api.daac.asf.alaska.edu/services/search/param?granule_list=S1A_IW_GRDH_1SDV_20201007T173247_20201007T173304_034693_040A80_8403&output=csv\n",
      "2020-10-16 10:56:33 INFO     logging into asf\n",
      "2020-10-16 10:56:37 INFO     successfully logged into asf\n",
      "2020-10-16 10:57:10 INFO     S1A_IW_GRDH_1SDV_20201007T173247_20201007T173304_034693_040A80_8403.SAFE S1A_IW_GRDH_1SDV_20201007T173247 DOWNLOADED via ASF\n",
      "2020-10-16 10:57:10 INFO     S1A_IW_GRDH_1SDV_20201007T173247_20201007T173304_034693_040A80_8403.SAFE S1A_IW_GRDH_1SDV_20201007T173247 DOWNLOADING External DEMs\n",
      "2020-10-16 10:57:10 DEBUG    Endpoint URL: http://s3-uk-1.sa-catapult.co.uk\n",
      "2020-10-16 10:57:18 DEBUG    Endpoint URL: http://s3-uk-1.sa-catapult.co.uk\n",
      "2020-10-16 10:57:19 INFO     S1A_IW_GRDH_1SDV_20201007T173247_20201007T173304_034693_040A80_8403.SAFE S1A_IW_GRDH_1SDV_20201007T173247 DOWNLOADED E+W DEMs\n",
      "2020-10-16 10:57:19 INFO     S1A_IW_GRDH_1SDV_20201007T173247_20201007T173304_034693_040A80_8403.SAFE S1A_IW_GRDH_1SDV_20201007T173247 Staring AM SNAP processing\n",
      "2020-10-16 10:58:32 INFO     Timed out while working on {\"in_scene\": \"S1A_IW_GRDH_1SDV_20201007T173247_20201007T173304_034693_040A80_8403\", \"s3_bucket\": \"public-eo-data\", \"s3_dir\": \"luigi/fiji/sentinel_1/\"}\n",
      "2020-10-16 10:58:32 INFO     Working on {\"in_scene\": \"S1A_IW_GRDH_1SDV_20201007T173218_20201007T173247_034693_040A80_C292\", \"s3_bucket\": \"public-eo-data\", \"s3_dir\": \"luigi/fiji/sentinel_1/\"}\n",
      "2020-10-16 10:58:32 INFO     S1A_IW_GRDH_1SDV_20201007T173218_20201007T173247_034693_040A80_C292.SAFE S1A_IW_GRDH_1SDV_20201007T173218 Starting\n",
      "2020-10-16 10:58:32 INFO     S1A_IW_GRDH_1SDV_20201007T173218_20201007T173247_034693_040A80_C292.SAFE S1A_IW_GRDH_1SDV_20201007T173218 DOWNLOADING via ASF\n",
      "2020-10-16 10:58:32 INFO     fetching: https://api.daac.asf.alaska.edu/services/search/param?granule_list=S1A_IW_GRDH_1SDV_20201007T173218_20201007T173247_034693_040A80_C292&output=csv\n",
      "2020-10-16 10:58:33 INFO     logging into asf\n",
      "2020-10-16 10:58:36 INFO     successfully logged into asf\n",
      "2020-10-16 10:58:36 INFO     S1A_IW_GRDH_1SDV_20201007T173218_20201007T173247_034693_040A80_C292.SAFE S1A_IW_GRDH_1SDV_20201007T173218 DOWNLOADED via ASF\n",
      "2020-10-16 10:58:36 INFO     S1A_IW_GRDH_1SDV_20201007T173218_20201007T173247_034693_040A80_C292.SAFE S1A_IW_GRDH_1SDV_20201007T173218 DOWNLOADING External DEMs\n",
      "2020-10-16 10:58:36 DEBUG    Endpoint URL: http://s3-uk-1.sa-catapult.co.uk\n",
      "2020-10-16 10:58:44 DEBUG    Endpoint URL: http://s3-uk-1.sa-catapult.co.uk\n",
      "2020-10-16 10:58:46 INFO     S1A_IW_GRDH_1SDV_20201007T173218_20201007T173247_034693_040A80_C292.SAFE S1A_IW_GRDH_1SDV_20201007T173218 DOWNLOADED E+W DEMs\n",
      "2020-10-16 10:58:46 INFO     S1A_IW_GRDH_1SDV_20201007T173218_20201007T173247_034693_040A80_C292.SAFE S1A_IW_GRDH_1SDV_20201007T173218 Staring AM SNAP processing\n",
      "2020-10-16 11:00:32 INFO     Timed out while working on {\"in_scene\": \"S1A_IW_GRDH_1SDV_20201007T173218_20201007T173247_034693_040A80_C292\", \"s3_bucket\": \"public-eo-data\", \"s3_dir\": \"luigi/fiji/sentinel_1/\"}\n"
     ]
    }
   ],
   "source": [
    "while not q.empty():\n",
    "    item = q.lease(lease_secs=1800, block=True, timeout=600)\n",
    "    if item is not None:\n",
    "        itemstr = item.decode(\"utf=8\")\n",
    "        logging.info(\"Working on \" + itemstr)\n",
    "        #time.sleep(10) # Put your actual work here instead of sleep.\n",
    "        try:\n",
    "            process_scene(itemstr)\n",
    "        except timeout_decorator.TimeoutError:\n",
    "            logging.info(\"Timed out while working on \" + itemstr)\n",
    "            pass\n",
    "        q.complete(item)\n",
    "    else:\n",
    "        logging.info(\"Waiting for work\")"
   ]
  },
  {
   "cell_type": "code",
   "execution_count": null,
   "metadata": {},
   "outputs": [],
   "source": [
    "print(\"Queue empty!\")"
   ]
  },
  {
   "cell_type": "markdown",
   "metadata": {},
   "source": [
    "---"
   ]
  }
 ],
 "metadata": {
  "kernelspec": {
   "display_name": "Python 3",
   "language": "python",
   "name": "python3"
  },
  "language_info": {
   "codemirror_mode": {
    "name": "ipython",
    "version": 3
   },
   "file_extension": ".py",
   "mimetype": "text/x-python",
   "name": "python",
   "nbconvert_exporter": "python",
   "pygments_lexer": "ipython3",
   "version": "3.7.4"
  }
 },
 "nbformat": 4,
 "nbformat_minor": 4
}
