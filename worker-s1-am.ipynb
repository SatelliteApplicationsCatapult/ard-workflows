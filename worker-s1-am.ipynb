{
 "cells": [
  {
   "cell_type": "markdown",
   "metadata": {},
   "source": [
    "# Debug notebook\n",
    "This notebook is only used to troubleshoot the S1 ARD workflow processor."
   ]
  },
  {
   "cell_type": "markdown",
   "metadata": {},
   "source": [
    "## S1 ARD workflow for scenes overlapping AM"
   ]
  },
  {
   "cell_type": "code",
   "execution_count": 1,
   "metadata": {},
   "outputs": [],
   "source": [
    "import timeout_decorator\n",
    "import json\n",
    "from utils.prepS1AM import prepareS1AM\n",
    "\n",
    "@timeout_decorator.timeout(10800, use_signals=False)\n",
    "def process_scene(json_data):\n",
    "    loaded_json = json.loads(json_data)\n",
    "    #for x in loaded_json:\n",
    "    #    logging.info(\"%s: %s\" % (x, loaded_json[x]))\n",
    "    prepareS1AM(**loaded_json)"
   ]
  },
  {
   "cell_type": "markdown",
   "metadata": {},
   "source": [
    "## S1 ARD job queue processor"
   ]
  },
  {
   "cell_type": "code",
   "execution_count": 2,
   "metadata": {},
   "outputs": [
    {
     "name": "stderr",
     "output_type": "stream",
     "text": [
      "2020-10-17 11:12:51 INFO     Worker with sessionID: 7810206b-c1b4-4404-b823-e6af438a5f0c\n",
      "2020-10-17 11:12:51 INFO     Initial queue state: empty=False\n"
     ]
    }
   ],
   "source": [
    "import os\n",
    "import logging\n",
    "import rediswq\n",
    "\n",
    "level = os.getenv(\"LOGLEVEL\", \"INFO\").upper()\n",
    "logging.basicConfig(format=\"%(asctime)s %(levelname)-8s %(message)s\", datefmt=\"%Y-%m-%d %H:%M:%S\", level=level)\n",
    "\n",
    "host = os.getenv(\"REDIS_SERVICE_HOST\", \"redis-master\")\n",
    "q = rediswq.RedisWQ(name=\"jobS1AM\", host=host)\n",
    "\n",
    "logging.info(\"Worker with sessionID: \" +  q.sessionID())\n",
    "logging.info(\"Initial queue state: empty=\" + str(q.empty()))"
   ]
  },
  {
   "cell_type": "code",
   "execution_count": 3,
   "metadata": {},
   "outputs": [
    {
     "name": "stderr",
     "output_type": "stream",
     "text": [
      "2020-10-17 11:12:54 INFO     Working on {\"in_scene\": \"S1A_IW_GRDH_1SSV_20161215T173221_20161215T173249_014393_017542_45B6\", \"s3_bucket\": \"public-eo-data\", \"s3_dir\": \"luigi/fiji/sentinel_1/\"}\n",
      "2020-10-17 11:12:54 INFO     S1A_IW_GRDH_1SSV_20161215T173221_20161215T173249_014393_017542_45B6.SAFE S1A_IW_GRDH_1SSV_20161215T173221 Starting\n",
      "2020-10-17 11:12:54 INFO     S1A_IW_GRDH_1SSV_20161215T173221_20161215T173249_014393_017542_45B6.SAFE S1A_IW_GRDH_1SSV_20161215T173221 DOWNLOADING via ASF\n",
      "2020-10-17 11:12:54 INFO     fetching: https://api.daac.asf.alaska.edu/services/search/param?granule_list=S1A_IW_GRDH_1SSV_20161215T173221_20161215T173249_014393_017542_45B6&output=csv\n",
      "2020-10-17 11:12:55 INFO     logging into asf\n",
      "2020-10-17 11:12:58 INFO     successfully logged into asf\n",
      "2020-10-17 11:13:31 INFO     S1A_IW_GRDH_1SSV_20161215T173221_20161215T173249_014393_017542_45B6.SAFE S1A_IW_GRDH_1SSV_20161215T173221 DOWNLOADED via ASF\n",
      "2020-10-17 11:13:31 INFO     S1A_IW_GRDH_1SSV_20161215T173221_20161215T173249_014393_017542_45B6.SAFE S1A_IW_GRDH_1SSV_20161215T173221 DOWNLOADING External DEMs\n",
      "2020-10-17 11:13:31 DEBUG    Endpoint URL: http://s3-uk-1.sa-catapult.co.uk\n",
      "2020-10-17 11:13:39 DEBUG    Endpoint URL: http://s3-uk-1.sa-catapult.co.uk\n",
      "2020-10-17 11:13:40 INFO     S1A_IW_GRDH_1SSV_20161215T173221_20161215T173249_014393_017542_45B6.SAFE S1A_IW_GRDH_1SSV_20161215T173221 DOWNLOADED E+W DEMs\n",
      "2020-10-17 11:13:40 INFO     S1A_IW_GRDH_1SSV_20161215T173221_20161215T173249_014393_017542_45B6.SAFE S1A_IW_GRDH_1SSV_20161215T173221 Staring AM SNAP processing\n",
      "2020-10-17 12:08:37 INFO     S1A_IW_GRDH_1SSV_20161215T173221_20161215T173249_014393_017542_45B6.SAFE S1A_IW_GRDH_1SSV_20161215T173221 Converting COGs\n",
      "2020-10-17 12:08:37 INFO     converting /tmp/data/intermediate/S1A_IW_GRDH_1SSV_20161215T173221_tmp/S1A_IW_GRDH_1SSV_20161215T173221_20161215T173249_014393_017542_45B6Orb_Cal_Deb_ML_TF_TC_dB/Gamma0_VV_db.tif to cog at /tmp/data/intermediate/S1A_IW_GRDH_1SSV_20161215T173221_tmp/S1A_IW_GRDH_1SSV_20161215T173221/S1A_IW_GRDH_1SSV_20161215T173221_Gamma0_VV_db.tif\n",
      "2020-10-17 12:08:37 INFO     Found credentials in environment variables.\n",
      "2020-10-17 14:12:54 INFO     Timed out while working on {\"in_scene\": \"S1A_IW_GRDH_1SSV_20161215T173221_20161215T173249_014393_017542_45B6\", \"s3_bucket\": \"public-eo-data\", \"s3_dir\": \"luigi/fiji/sentinel_1/\"}\n",
      "2020-10-17 14:12:54 INFO     S1A_IW_GRDH_1SSV_20161215T173221_20161215T173249_014393_017542_45B6.SAFE S1A_IW_GRDH_1SSV_20161215T173221 Starting\n",
      "2020-10-17 14:12:54 INFO     S1A_IW_GRDH_1SSV_20161215T173221_20161215T173249_014393_017542_45B6.SAFE S1A_IW_GRDH_1SSV_20161215T173221 DOWNLOADING via ASF\n",
      "2020-10-17 14:12:54 INFO     fetching: https://api.daac.asf.alaska.edu/services/search/param?granule_list=S1A_IW_GRDH_1SSV_20161215T173221_20161215T173249_014393_017542_45B6&output=csv\n",
      "2020-10-17 14:12:55 INFO     logging into asf\n",
      "2020-10-17 14:12:58 INFO     successfully logged into asf\n",
      "2020-10-17 14:12:58 INFO     S1A_IW_GRDH_1SSV_20161215T173221_20161215T173249_014393_017542_45B6.SAFE S1A_IW_GRDH_1SSV_20161215T173221 DOWNLOADED via ASF\n",
      "2020-10-17 14:12:58 INFO     S1A_IW_GRDH_1SSV_20161215T173221_20161215T173249_014393_017542_45B6.SAFE S1A_IW_GRDH_1SSV_20161215T173221 DOWNLOADING External DEMs\n",
      "2020-10-17 14:12:58 DEBUG    Endpoint URL: http://s3-uk-1.sa-catapult.co.uk\n",
      "2020-10-17 14:13:07 DEBUG    Endpoint URL: http://s3-uk-1.sa-catapult.co.uk\n",
      "2020-10-17 14:13:08 INFO     S1A_IW_GRDH_1SSV_20161215T173221_20161215T173249_014393_017542_45B6.SAFE S1A_IW_GRDH_1SSV_20161215T173221 DOWNLOADED E+W DEMs\n",
      "2020-10-17 14:13:08 INFO     S1A_IW_GRDH_1SSV_20161215T173221_20161215T173249_014393_017542_45B6.SAFE S1A_IW_GRDH_1SSV_20161215T173221 Staring AM SNAP processing\n",
      "2020-10-17 15:08:29 INFO     S1A_IW_GRDH_1SSV_20161215T173221_20161215T173249_014393_017542_45B6.SAFE S1A_IW_GRDH_1SSV_20161215T173221 Converting COGs\n",
      "2020-10-17 15:08:29 INFO     converting /tmp/data/intermediate/S1A_IW_GRDH_1SSV_20161215T173221_tmp/S1A_IW_GRDH_1SSV_20161215T173221_20161215T173249_014393_017542_45B6Orb_Cal_Deb_ML_TF_TC_dB/Gamma0_VV_db.tif to cog at /tmp/data/intermediate/S1A_IW_GRDH_1SSV_20161215T173221_tmp/S1A_IW_GRDH_1SSV_20161215T173221/S1A_IW_GRDH_1SSV_20161215T173221_Gamma0_VV_db.tif\n",
      "2020-10-17 15:08:29 INFO     cog already exists: /tmp/data/intermediate/S1A_IW_GRDH_1SSV_20161215T173221_tmp/S1A_IW_GRDH_1SSV_20161215T173221/S1A_IW_GRDH_1SSV_20161215T173221_Gamma0_VV_db.tif\n",
      "2020-10-17 15:08:29 INFO     S1A_IW_GRDH_1SSV_20161215T173221_20161215T173249_014393_017542_45B6.SAFE S1A_IW_GRDH_1SSV_20161215T173221 COGGED\n",
      "2020-10-17 15:08:29 INFO     S1A_IW_GRDH_1SSV_20161215T173221_20161215T173249_014393_017542_45B6.SAFE S1A_IW_GRDH_1SSV_20161215T173221 Creating dataset YAML\n",
      "2020-10-17 15:08:29 INFO     Preparing scene S1A_IW_GRDH_1SSV_20161215T173221_tmp\n",
      "2020-10-17 15:08:29 INFO     Scene path /tmp/data/intermediate/S1A_IW_GRDH_1SSV_20161215T173221_tmp/S1A_IW_GRDH_1SSV_20161215T173221\n",
      "2020-10-17 15:08:29 INFO     prod_path: ['/tmp/data/intermediate/S1A_IW_GRDH_1SSV_20161215T173221_tmp/S1A_IW_GRDH_1SSV_20161215T173221/S1A_IW_GRDH_1SSV_20161215T173221_Gamma0_VV_db.tif'], scene_name: S1A_IW_GRDH_1SSV_20161215T173221_tmp\n",
      "2020-10-17 15:08:29 DEBUG    {'vv': {'path': 'S1A_IW_GRDH_1SSV_20161215T173221_Gamma0_VV_db.tif'}}\n",
      "2020-10-17 15:08:29 DEBUG    in get geometry /tmp/data/intermediate/S1A_IW_GRDH_1SSV_20161215T173221_tmp/S1A_IW_GRDH_1SSV_20161215T173221/S1A_IW_GRDH_1SSV_20161215T173221_Gamma0_VV_db.tif\n",
      "2020-10-17 15:08:29 INFO     Found credentials in environment variables.\n",
      "2020-10-17 15:08:29 WARNING  no vh band available\n",
      "2020-10-17 15:08:29 DEBUG    Created yaml: /tmp/data/intermediate/S1A_IW_GRDH_1SSV_20161215T173221_tmp/S1A_IW_GRDH_1SSV_20161215T173221/datacube-metadata.yaml\n",
      "2020-10-17 15:08:29 INFO     S1A_IW_GRDH_1SSV_20161215T173221_20161215T173249_014393_017542_45B6.SAFE S1A_IW_GRDH_1SSV_20161215T173221 Created original METADATA\n",
      "2020-10-17 15:08:29 INFO     S1A_IW_GRDH_1SSV_20161215T173221_20161215T173249_014393_017542_45B6.SAFE S1A_IW_GRDH_1SSV_20161215T173221 Uploading to S3 Bucket\n",
      "2020-10-17 15:08:29 DEBUG    Endpoint URL: http://s3-uk-1.sa-catapult.co.uk\n",
      "2020-10-17 15:08:29 INFO     Local source file: /tmp/data/intermediate/S1A_IW_GRDH_1SSV_20161215T173221_tmp/S1A_IW_GRDH_1SSV_20161215T173221/datacube-metadata.yaml\n",
      "2020-10-17 15:08:29 INFO     S3 target file: luigi/fiji/sentinel_1/S1A_IW_GRDH_1SSV_20161215T173221/datacube-metadata.yaml\n",
      "2020-10-17 15:08:29 INFO     Start: /tmp/data/intermediate/S1A_IW_GRDH_1SSV_20161215T173221_tmp/S1A_IW_GRDH_1SSV_20161215T173221/datacube-metadata.yaml 2020-10-17 15:08:29\n",
      "2020-10-17 15:08:29 INFO     Finish: /tmp/data/intermediate/S1A_IW_GRDH_1SSV_20161215T173221_tmp/S1A_IW_GRDH_1SSV_20161215T173221/datacube-metadata.yaml 2020-10-17 15:08:29\n",
      "2020-10-17 15:08:29 DEBUG    Endpoint URL: http://s3-uk-1.sa-catapult.co.uk\n",
      "2020-10-17 15:08:29 INFO     Local source file: /tmp/data/intermediate/S1A_IW_GRDH_1SSV_20161215T173221_tmp/S1A_IW_GRDH_1SSV_20161215T173221/S1A_IW_GRDH_1SSV_20161215T173221_Gamma0_VV_db.tif\n",
      "2020-10-17 15:08:29 INFO     S3 target file: luigi/fiji/sentinel_1/S1A_IW_GRDH_1SSV_20161215T173221/S1A_IW_GRDH_1SSV_20161215T173221_Gamma0_VV_db.tif\n",
      "2020-10-17 15:08:29 INFO     Start: /tmp/data/intermediate/S1A_IW_GRDH_1SSV_20161215T173221_tmp/S1A_IW_GRDH_1SSV_20161215T173221/S1A_IW_GRDH_1SSV_20161215T173221_Gamma0_VV_db.tif 2020-10-17 15:08:29\n",
      "2020-10-17 15:08:42 INFO     Finish: /tmp/data/intermediate/S1A_IW_GRDH_1SSV_20161215T173221_tmp/S1A_IW_GRDH_1SSV_20161215T173221/S1A_IW_GRDH_1SSV_20161215T173221_Gamma0_VV_db.tif 2020-10-17 15:08:42\n",
      "2020-10-17 15:08:42 INFO     S1A_IW_GRDH_1SSV_20161215T173221_20161215T173249_014393_017542_45B6.SAFE S1A_IW_GRDH_1SSV_20161215T173221 Uploaded to S3 Bucket\n"
     ]
    },
    {
     "name": "stdout",
     "output_type": "stream",
     "text": [
      "not boo\n"
     ]
    }
   ],
   "source": [
    "while not q.empty():\n",
    "    item = q.lease(lease_secs=1800, block=True, timeout=600)\n",
    "    if item is not None:\n",
    "        itemstr = item.decode(\"utf=8\")\n",
    "        logging.info(\"Working on \" + itemstr)\n",
    "\n",
    "        # In case COG conversion gets stuck, a TimeoutError is raised and we try again: the existance of a COG from an earlier iteration is enough to progress upon retrying\n",
    "        for x in range(0, 2):  # try 2 times\n",
    "            e = False\n",
    "            try:\n",
    "                process_scene(itemstr)\n",
    "                e = True\n",
    "            except timeout_decorator.TimeoutError:\n",
    "                logging.info(\"Timed out while working on \" + itemstr)\n",
    "                e = False\n",
    "                pass\n",
    "            if e:\n",
    "                break\n",
    "\n",
    "        q.complete(item)\n",
    "    else:\n",
    "        logging.info(\"Waiting for work\")"
   ]
  },
  {
   "cell_type": "code",
   "execution_count": 4,
   "metadata": {},
   "outputs": [
    {
     "name": "stdout",
     "output_type": "stream",
     "text": [
      "Queue empty!\n"
     ]
    }
   ],
   "source": [
    "print(\"Queue empty!\")"
   ]
  },
  {
   "cell_type": "markdown",
   "metadata": {},
   "source": [
    "---"
   ]
  }
 ],
 "metadata": {
  "kernelspec": {
   "display_name": "Python 3",
   "language": "python",
   "name": "python3"
  },
  "language_info": {
   "codemirror_mode": {
    "name": "ipython",
    "version": 3
   },
   "file_extension": ".py",
   "mimetype": "text/x-python",
   "name": "python",
   "nbconvert_exporter": "python",
   "pygments_lexer": "ipython3",
   "version": "3.7.4"
  }
 },
 "nbformat": 4,
 "nbformat_minor": 4
}
