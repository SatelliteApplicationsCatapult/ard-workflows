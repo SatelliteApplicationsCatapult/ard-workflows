{
 "cells": [
  {
   "cell_type": "markdown",
   "metadata": {},
   "source": [
    "# Debug notebook\n",
    "This notebook is only used to troubleshoot the S1 ARD workflow processor."
   ]
  },
  {
   "cell_type": "markdown",
   "metadata": {},
   "source": [
    "## S1 ARD workflow for scenes overlapping AM"
   ]
  },
  {
   "cell_type": "code",
   "execution_count": 1,
   "metadata": {},
   "outputs": [],
   "source": [
    "import timeout_decorator\n",
    "import json\n",
    "from utils.prepS1AM import prepareS1AM\n",
    "\n",
    "@timeout_decorator.timeout(10800, use_signals=False)\n",
    "def process_scene(json_data):\n",
    "    loaded_json = json.loads(json_data)\n",
    "    #for x in loaded_json:\n",
    "    #    logger.info(f\"{x}: {loaded_json[x]}\")\n",
    "    prepareS1AM(**loaded_json)"
   ]
  },
  {
   "cell_type": "markdown",
   "metadata": {},
   "source": [
    "## S1 ARD job queue processor"
   ]
  },
  {
   "cell_type": "code",
   "execution_count": 2,
   "metadata": {},
   "outputs": [
    {
     "name": "stderr",
     "output_type": "stream",
     "text": [
      "2020-10-19 08:22:01 INFO     worker Worker with sessionID: d0425aea-3e7e-4329-a4fd-020279d8e8a1\n",
      "2020-10-19 08:22:01 INFO     worker Initial queue state: empty=False\n"
     ]
    }
   ],
   "source": [
    "import os\n",
    "import logging\n",
    "import rediswq\n",
    "\n",
    "level = os.getenv(\"LOGLEVEL\", \"INFO\").upper()\n",
    "logging.basicConfig(format=\"%(asctime)s %(levelname)-8s %(name)s %(message)s\", datefmt=\"%Y-%m-%d %H:%M:%S\", level=level)\n",
    "\n",
    "host = os.getenv(\"REDIS_SERVICE_HOST\", \"redis-master\")\n",
    "q = rediswq.RedisWQ(name=\"jobS1AM\", host=host)\n",
    "\n",
    "logger = logging.getLogger(\"worker\")\n",
    "logger.info(f\"Worker with sessionID: {q.sessionID()}\")\n",
    "logger.info(f\"Initial queue state: empty={q.empty()}\")"
   ]
  },
  {
   "cell_type": "code",
   "execution_count": 3,
   "metadata": {},
   "outputs": [
    {
     "name": "stderr",
     "output_type": "stream",
     "text": [
      "2020-10-19 08:23:00 INFO     worker Working on {\"in_scene\": \"S1A_IW_GRDH_1SSV_20161215T173221_20161215T173249_014393_017542_45B6\", \"s3_bucket\": \"public-eo-data\", \"s3_dir\": \"luigi/fiji/sentinel_1/\"}\n",
      "2020-10-19 08:23:00 INFO     root S1A_IW_GRDH_1SSV_20161215T173221_20161215T173249_014393_017542_45B6.SAFE S1A_IW_GRDH_1SSV_20161215T173221 Starting\n",
      "2020-10-19 08:23:00 INFO     root S1A_IW_GRDH_1SSV_20161215T173221_20161215T173249_014393_017542_45B6.SAFE S1A_IW_GRDH_1SSV_20161215T173221 DOWNLOADING via ASF\n",
      "2020-10-19 08:23:00 INFO     root fetching: https://api.daac.asf.alaska.edu/services/search/param?granule_list=S1A_IW_GRDH_1SSV_20161215T173221_20161215T173249_014393_017542_45B6&output=csv\n",
      "2020-10-19 08:23:01 INFO     root logging into asf\n",
      "2020-10-19 08:23:04 INFO     root successfully logged into asf\n",
      "2020-10-19 08:23:04 INFO     root S1A_IW_GRDH_1SSV_20161215T173221_20161215T173249_014393_017542_45B6.SAFE S1A_IW_GRDH_1SSV_20161215T173221 DOWNLOADED via ASF\n",
      "2020-10-19 08:23:04 INFO     root S1A_IW_GRDH_1SSV_20161215T173221_20161215T173249_014393_017542_45B6.SAFE S1A_IW_GRDH_1SSV_20161215T173221 DOWNLOADING External DEMs\n",
      "2020-10-19 08:23:04 DEBUG    root Endpoint URL: http://s3-uk-1.sa-catapult.co.uk\n",
      "2020-10-19 08:23:13 DEBUG    root Endpoint URL: http://s3-uk-1.sa-catapult.co.uk\n",
      "2020-10-19 08:23:14 INFO     root S1A_IW_GRDH_1SSV_20161215T173221_20161215T173249_014393_017542_45B6.SAFE S1A_IW_GRDH_1SSV_20161215T173221 DOWNLOADED E+W DEMs\n",
      "2020-10-19 08:23:14 INFO     root S1A_IW_GRDH_1SSV_20161215T173221_20161215T173249_014393_017542_45B6.SAFE S1A_IW_GRDH_1SSV_20161215T173221 Starting AM SNAP processing\n",
      "2020-10-19 09:18:02 INFO     root S1A_IW_GRDH_1SSV_20161215T173221_20161215T173249_014393_017542_45B6.SAFE S1A_IW_GRDH_1SSV_20161215T173221 Converting COGs\n",
      "2020-10-19 09:18:02 INFO     root converting /tmp/data/intermediate/S1A_IW_GRDH_1SSV_20161215T173221_tmp/S1A_IW_GRDH_1SSV_20161215T173221_20161215T173249_014393_017542_45B6Orb_Cal_Deb_ML_TF_TC_dB/Gamma0_VV_db.tif to cog at /tmp/data/intermediate/S1A_IW_GRDH_1SSV_20161215T173221_tmp/S1A_IW_GRDH_1SSV_20161215T173221/S1A_IW_GRDH_1SSV_20161215T173221_Gamma0_VV_db.tif\n",
      "2020-10-19 09:18:02 INFO     botocore.credentials Found credentials in environment variables.\n",
      "2020-10-19 11:23:00 INFO     worker Timed out while working on {\"in_scene\": \"S1A_IW_GRDH_1SSV_20161215T173221_20161215T173249_014393_017542_45B6\", \"s3_bucket\": \"public-eo-data\", \"s3_dir\": \"luigi/fiji/sentinel_1/\"}\n",
      "2020-10-19 11:23:00 INFO     root S1A_IW_GRDH_1SSV_20161215T173221_20161215T173249_014393_017542_45B6.SAFE S1A_IW_GRDH_1SSV_20161215T173221 Starting\n",
      "2020-10-19 11:23:00 INFO     root S1A_IW_GRDH_1SSV_20161215T173221_20161215T173249_014393_017542_45B6.SAFE S1A_IW_GRDH_1SSV_20161215T173221 DOWNLOADING via ASF\n",
      "2020-10-19 11:23:00 INFO     root fetching: https://api.daac.asf.alaska.edu/services/search/param?granule_list=S1A_IW_GRDH_1SSV_20161215T173221_20161215T173249_014393_017542_45B6&output=csv\n",
      "2020-10-19 11:23:01 INFO     root logging into asf\n",
      "2020-10-19 11:23:04 INFO     root successfully logged into asf\n",
      "2020-10-19 11:23:04 INFO     root S1A_IW_GRDH_1SSV_20161215T173221_20161215T173249_014393_017542_45B6.SAFE S1A_IW_GRDH_1SSV_20161215T173221 DOWNLOADED via ASF\n",
      "2020-10-19 11:23:04 INFO     root S1A_IW_GRDH_1SSV_20161215T173221_20161215T173249_014393_017542_45B6.SAFE S1A_IW_GRDH_1SSV_20161215T173221 DOWNLOADING External DEMs\n",
      "2020-10-19 11:23:04 DEBUG    root Endpoint URL: http://s3-uk-1.sa-catapult.co.uk\n",
      "2020-10-19 11:23:13 DEBUG    root Endpoint URL: http://s3-uk-1.sa-catapult.co.uk\n",
      "2020-10-19 11:23:14 INFO     root S1A_IW_GRDH_1SSV_20161215T173221_20161215T173249_014393_017542_45B6.SAFE S1A_IW_GRDH_1SSV_20161215T173221 DOWNLOADED E+W DEMs\n",
      "2020-10-19 11:23:14 INFO     root S1A_IW_GRDH_1SSV_20161215T173221_20161215T173249_014393_017542_45B6.SAFE S1A_IW_GRDH_1SSV_20161215T173221 Starting AM SNAP processing\n",
      "2020-10-19 12:18:22 INFO     root S1A_IW_GRDH_1SSV_20161215T173221_20161215T173249_014393_017542_45B6.SAFE S1A_IW_GRDH_1SSV_20161215T173221 Converting COGs\n",
      "2020-10-19 12:18:22 INFO     root converting /tmp/data/intermediate/S1A_IW_GRDH_1SSV_20161215T173221_tmp/S1A_IW_GRDH_1SSV_20161215T173221_20161215T173249_014393_017542_45B6Orb_Cal_Deb_ML_TF_TC_dB/Gamma0_VV_db.tif to cog at /tmp/data/intermediate/S1A_IW_GRDH_1SSV_20161215T173221_tmp/S1A_IW_GRDH_1SSV_20161215T173221/S1A_IW_GRDH_1SSV_20161215T173221_Gamma0_VV_db.tif\n",
      "2020-10-19 12:18:22 INFO     root cog already exists: /tmp/data/intermediate/S1A_IW_GRDH_1SSV_20161215T173221_tmp/S1A_IW_GRDH_1SSV_20161215T173221/S1A_IW_GRDH_1SSV_20161215T173221_Gamma0_VV_db.tif\n",
      "2020-10-19 12:18:22 INFO     root S1A_IW_GRDH_1SSV_20161215T173221_20161215T173249_014393_017542_45B6.SAFE S1A_IW_GRDH_1SSV_20161215T173221 COGGED\n",
      "2020-10-19 12:18:22 INFO     root S1A_IW_GRDH_1SSV_20161215T173221_20161215T173249_014393_017542_45B6.SAFE S1A_IW_GRDH_1SSV_20161215T173221 Creating dataset YAML\n",
      "2020-10-19 12:18:22 INFO     root Preparing scene S1A_IW_GRDH_1SSV_20161215T173221_tmp\n",
      "2020-10-19 12:18:22 INFO     root Scene path /tmp/data/intermediate/S1A_IW_GRDH_1SSV_20161215T173221_tmp/S1A_IW_GRDH_1SSV_20161215T173221\n",
      "2020-10-19 12:18:22 INFO     root prod_path: ['/tmp/data/intermediate/S1A_IW_GRDH_1SSV_20161215T173221_tmp/S1A_IW_GRDH_1SSV_20161215T173221/S1A_IW_GRDH_1SSV_20161215T173221_Gamma0_VV_db.tif'], scene_name: S1A_IW_GRDH_1SSV_20161215T173221_tmp\n",
      "2020-10-19 12:18:22 DEBUG    root {'vv': {'path': 'S1A_IW_GRDH_1SSV_20161215T173221_Gamma0_VV_db.tif'}}\n",
      "2020-10-19 12:18:22 DEBUG    root in get geometry /tmp/data/intermediate/S1A_IW_GRDH_1SSV_20161215T173221_tmp/S1A_IW_GRDH_1SSV_20161215T173221/S1A_IW_GRDH_1SSV_20161215T173221_Gamma0_VV_db.tif\n",
      "2020-10-19 12:18:22 INFO     botocore.credentials Found credentials in environment variables.\n",
      "2020-10-19 12:18:22 WARNING  root no vh band available\n",
      "2020-10-19 12:18:22 DEBUG    root Created yaml: /tmp/data/intermediate/S1A_IW_GRDH_1SSV_20161215T173221_tmp/S1A_IW_GRDH_1SSV_20161215T173221/datacube-metadata.yaml\n",
      "2020-10-19 12:18:22 INFO     root S1A_IW_GRDH_1SSV_20161215T173221_20161215T173249_014393_017542_45B6.SAFE S1A_IW_GRDH_1SSV_20161215T173221 Created original METADATA\n",
      "2020-10-19 12:18:22 INFO     root S1A_IW_GRDH_1SSV_20161215T173221_20161215T173249_014393_017542_45B6.SAFE S1A_IW_GRDH_1SSV_20161215T173221 Uploading to S3 Bucket\n",
      "2020-10-19 12:18:22 DEBUG    root Endpoint URL: http://s3-uk-1.sa-catapult.co.uk\n",
      "2020-10-19 12:18:23 INFO     root Local source file: /tmp/data/intermediate/S1A_IW_GRDH_1SSV_20161215T173221_tmp/S1A_IW_GRDH_1SSV_20161215T173221/datacube-metadata.yaml\n",
      "2020-10-19 12:18:23 INFO     root S3 target file: luigi/fiji/sentinel_1/S1A_IW_GRDH_1SSV_20161215T173221/datacube-metadata.yaml\n",
      "2020-10-19 12:18:23 INFO     root Start: /tmp/data/intermediate/S1A_IW_GRDH_1SSV_20161215T173221_tmp/S1A_IW_GRDH_1SSV_20161215T173221/datacube-metadata.yaml 2020-10-19 12:18:23\n",
      "2020-10-19 12:18:23 INFO     root Finish: /tmp/data/intermediate/S1A_IW_GRDH_1SSV_20161215T173221_tmp/S1A_IW_GRDH_1SSV_20161215T173221/datacube-metadata.yaml 2020-10-19 12:18:23\n",
      "2020-10-19 12:18:23 DEBUG    root Endpoint URL: http://s3-uk-1.sa-catapult.co.uk\n",
      "2020-10-19 12:18:23 INFO     root Local source file: /tmp/data/intermediate/S1A_IW_GRDH_1SSV_20161215T173221_tmp/S1A_IW_GRDH_1SSV_20161215T173221/S1A_IW_GRDH_1SSV_20161215T173221_Gamma0_VV_db.tif\n",
      "2020-10-19 12:18:23 INFO     root S3 target file: luigi/fiji/sentinel_1/S1A_IW_GRDH_1SSV_20161215T173221/S1A_IW_GRDH_1SSV_20161215T173221_Gamma0_VV_db.tif\n",
      "2020-10-19 12:18:23 INFO     root Start: /tmp/data/intermediate/S1A_IW_GRDH_1SSV_20161215T173221_tmp/S1A_IW_GRDH_1SSV_20161215T173221/S1A_IW_GRDH_1SSV_20161215T173221_Gamma0_VV_db.tif 2020-10-19 12:18:23\n",
      "2020-10-19 12:18:37 INFO     root Finish: /tmp/data/intermediate/S1A_IW_GRDH_1SSV_20161215T173221_tmp/S1A_IW_GRDH_1SSV_20161215T173221/S1A_IW_GRDH_1SSV_20161215T173221_Gamma0_VV_db.tif 2020-10-19 12:18:37\n",
      "2020-10-19 12:18:37 INFO     root S1A_IW_GRDH_1SSV_20161215T173221_20161215T173249_014393_017542_45B6.SAFE S1A_IW_GRDH_1SSV_20161215T173221 Uploaded to S3 Bucket\n"
     ]
    },
    {
     "name": "stdout",
     "output_type": "stream",
     "text": [
      "not boo\n"
     ]
    },
    {
     "name": "stderr",
     "output_type": "stream",
     "text": [
      "2020-10-19 12:18:38 INFO     worker Total processing time 3:55:38\n"
     ]
    }
   ],
   "source": [
    "import datetime\n",
    "\n",
    "while not q.empty():\n",
    "    item = q.lease(lease_secs=1800, block=True, timeout=600)\n",
    "    if item is not None:\n",
    "        itemstr = item.decode(\"utf=8\")\n",
    "        logger.info(f\"Working on {itemstr}\")\n",
    "        start = datetime.datetime.now().replace(microsecond=0)\n",
    "\n",
    "        # In case the COG conversion gets stuck, a TimeoutError is raised and we try again: the existance of a COG from an earlier iteration is often enough to progress upon retrying\n",
    "        for x in range(0, 2):  # try 2 times\n",
    "            e = False\n",
    "            try:\n",
    "                process_scene(itemstr)\n",
    "                e = True\n",
    "            except timeout_decorator.TimeoutError:\n",
    "                logger.info(f\"Timed out while working on {itemstr}\")\n",
    "                e = False\n",
    "                pass\n",
    "            if e:\n",
    "                break\n",
    "\n",
    "        q.complete(item)\n",
    "\n",
    "        end = datetime.datetime.now().replace(microsecond=0)\n",
    "        logger.info(f\"Total processing time {end - start}\")\n",
    "    else:\n",
    "        logger.info(\"Waiting for work\")"
   ]
  },
  {
   "cell_type": "code",
   "execution_count": 4,
   "metadata": {},
   "outputs": [
    {
     "name": "stdout",
     "output_type": "stream",
     "text": [
      "Queue empty!\n"
     ]
    }
   ],
   "source": [
    "print(\"Queue empty!\")"
   ]
  },
  {
   "cell_type": "markdown",
   "metadata": {},
   "source": [
    "---"
   ]
  }
 ],
 "metadata": {
  "kernelspec": {
   "display_name": "Python 3",
   "language": "python",
   "name": "python3"
  },
  "language_info": {
   "codemirror_mode": {
    "name": "ipython",
    "version": 3
   },
   "file_extension": ".py",
   "mimetype": "text/x-python",
   "name": "python",
   "nbconvert_exporter": "python",
   "pygments_lexer": "ipython3",
   "version": "3.7.4"
  }
 },
 "nbformat": 4,
 "nbformat_minor": 4
}
