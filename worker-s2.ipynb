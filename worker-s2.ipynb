{
 "cells": [
  {
   "cell_type": "markdown",
   "metadata": {},
   "source": [
    "# Debug notebook\n",
    "This notebook is only used to troubleshoot the S2 ARD workflow processor."
   ]
  },
  {
   "cell_type": "markdown",
   "metadata": {},
   "source": [
    "## S2 ARD workflow"
   ]
  },
  {
   "cell_type": "code",
   "execution_count": 1,
   "metadata": {},
   "outputs": [],
   "source": [
    "import json\n",
    "from utils.prepS2 import prepareS2\n",
    "\n",
    "def process_scene(json_data):\n",
    "    loaded_json = json.loads(json_data)\n",
    "    #for x in loaded_json:\n",
    "    #    logger.info(f\"{x}: {loaded_json[x]}\")\n",
    "    prepareS2(**loaded_json)"
   ]
  },
  {
   "cell_type": "markdown",
   "metadata": {},
   "source": [
    "## S2 ARD job queue processor"
   ]
  },
  {
   "cell_type": "code",
   "execution_count": 2,
   "metadata": {},
   "outputs": [
    {
     "name": "stderr",
     "output_type": "stream",
     "text": [
      "2020-10-26 13:32:09 INFO     worker Worker with sessionID: 1549e71f-4517-47da-87d8-596af4ecceb2\n",
      "2020-10-26 13:32:09 INFO     worker Initial queue state: empty=False\n"
     ]
    }
   ],
   "source": [
    "import os\n",
    "import logging\n",
    "import rediswq\n",
    "\n",
    "level = os.getenv(\"LOGLEVEL\", \"INFO\").upper()\n",
    "logging.basicConfig(format=\"%(asctime)s %(levelname)-8s %(name)s %(message)s\", datefmt=\"%Y-%m-%d %H:%M:%S\", level=level)\n",
    "\n",
    "host = os.getenv(\"REDIS_SERVICE_HOST\", \"redis-master\")\n",
    "q = rediswq.RedisWQ(name=\"jobS2\", host=host)\n",
    "\n",
    "logger = logging.getLogger(\"worker\")\n",
    "logger.info(f\"Worker with sessionID: {q.sessionID()}\")\n",
    "logger.info(f\"Initial queue state: empty={q.empty()}\")"
   ]
  },
  {
   "cell_type": "code",
   "execution_count": 3,
   "metadata": {},
   "outputs": [
    {
     "name": "stderr",
     "output_type": "stream",
     "text": [
      "2020-10-26 13:32:10 INFO     worker Working on {\"in_scene\": \"S2B_MSIL2A_20200725T223009_N0214_R072_T60KWD_20200726T001511\", \"s3_bucket\": \"public-eo-data\", \"s3_dir\": \"luigi/fiji/sentinel_2/\"}\n",
      "2020-10-26 13:32:10 INFO     root S2B_MSIL2A_20200725T223009_N0214_R072_T60KWD_20200726T001511.SAFE S2B_MSIL2A_20200725T223009_T60KWD Starting\n",
      "2020-10-26 13:32:10 INFO     root S2B_MSIL2A_20200725T223009_N0214_R072_T60KWD_20200726T001511.SAFE S2B_MSIL2A_20200725T223009_T60KWD DOWNLOADING via GCloud\n",
      "2020-10-26 13:32:10 DEBUG    google.auth.transport.requests Making request: POST https://oauth2.googleapis.com/token\n",
      "2020-10-26 13:32:47 INFO     root S2B_MSIL2A_20200725T223009_N0214_R072_T60KWD_20200726T001511.SAFE S2B_MSIL2A_20200725T223009_T60KWD DOWNLOADED via GCloud\n",
      "2020-10-26 13:32:47 INFO     root S2B_MSIL2A_20200725T223009_N0214_R072_T60KWD_20200726T001511.SAFE S2B_MSIL2A_20200725T223009_T60KWD Converting COGs\n",
      "2020-10-26 13:32:47 INFO     botocore.utils IMDS ENDPOINT: http://169.254.169.254/\n",
      "2020-10-26 13:32:47 INFO     botocore.credentials Found credentials in environment variables.\n",
      "2020-10-26 13:32:48 INFO     botocore.utils IMDS ENDPOINT: http://169.254.169.254/\n",
      "2020-10-26 13:32:48 INFO     botocore.credentials Found credentials in environment variables.\n",
      "2020-10-26 13:32:51 INFO     botocore.utils IMDS ENDPOINT: http://169.254.169.254/\n",
      "2020-10-26 13:32:51 INFO     botocore.credentials Found credentials in environment variables.\n",
      "2020-10-26 13:33:00 INFO     botocore.utils IMDS ENDPOINT: http://169.254.169.254/\n",
      "2020-10-26 13:33:00 INFO     botocore.credentials Found credentials in environment variables.\n",
      "2020-10-26 13:34:02 INFO     botocore.utils IMDS ENDPOINT: http://169.254.169.254/\n",
      "2020-10-26 13:34:02 INFO     botocore.credentials Found credentials in environment variables.\n",
      "2020-10-26 13:35:02 INFO     botocore.utils IMDS ENDPOINT: http://169.254.169.254/\n",
      "2020-10-26 13:35:02 INFO     botocore.credentials Found credentials in environment variables.\n",
      "2020-10-26 13:36:02 INFO     botocore.utils IMDS ENDPOINT: http://169.254.169.254/\n",
      "2020-10-26 13:36:02 INFO     botocore.credentials Found credentials in environment variables.\n",
      "2020-10-26 13:36:11 INFO     botocore.utils IMDS ENDPOINT: http://169.254.169.254/\n",
      "2020-10-26 13:36:11 INFO     botocore.credentials Found credentials in environment variables.\n",
      "2020-10-26 13:37:10 INFO     botocore.utils IMDS ENDPOINT: http://169.254.169.254/\n",
      "2020-10-26 13:37:10 INFO     botocore.credentials Found credentials in environment variables.\n",
      "2020-10-26 13:37:23 INFO     botocore.utils IMDS ENDPOINT: http://169.254.169.254/\n",
      "2020-10-26 13:37:23 INFO     botocore.credentials Found credentials in environment variables.\n",
      "2020-10-26 13:37:35 INFO     botocore.utils IMDS ENDPOINT: http://169.254.169.254/\n",
      "2020-10-26 13:37:35 INFO     botocore.credentials Found credentials in environment variables.\n",
      "2020-10-26 13:37:46 INFO     botocore.utils IMDS ENDPOINT: http://169.254.169.254/\n",
      "2020-10-26 13:37:46 INFO     botocore.credentials Found credentials in environment variables.\n",
      "2020-10-26 13:37:59 INFO     botocore.utils IMDS ENDPOINT: http://169.254.169.254/\n",
      "2020-10-26 13:37:59 INFO     botocore.credentials Found credentials in environment variables.\n",
      "2020-10-26 13:38:15 INFO     botocore.utils IMDS ENDPOINT: http://169.254.169.254/\n",
      "2020-10-26 13:38:15 INFO     botocore.credentials Found credentials in environment variables.\n",
      "2020-10-26 13:38:27 INFO     botocore.utils IMDS ENDPOINT: http://169.254.169.254/\n",
      "2020-10-26 13:38:27 INFO     botocore.credentials Found credentials in environment variables.\n",
      "2020-10-26 13:38:40 INFO     root S2B_MSIL2A_20200725T223009_N0214_R072_T60KWD_20200726T001511.SAFE S2B_MSIL2A_20200725T223009_T60KWD COGGED\n",
      "2020-10-26 13:38:40 INFO     root S2B_MSIL2A_20200725T223009_N0214_R072_T60KWD_20200726T001511.SAFE S2B_MSIL2A_20200725T223009_T60KWD Copying original METADATA\n",
      "2020-10-26 13:38:40 INFO     root Copying original metadata file to cog dir: /tmp/data/intermediate/S2B_MSIL2A_20200725T223009_T60KWD_tmp/S2B_MSIL2A_20200725T223009_T60KWD/S2B_MSIL2A_20200725T223009_T60KWD_MTD_MSIL2A.xml\n",
      "2020-10-26 13:38:40 INFO     root S2B_MSIL2A_20200725T223009_N0214_R072_T60KWD_20200726T001511.SAFE S2B_MSIL2A_20200725T223009_T60KWD COPIED original METADATA\n",
      "2020-10-26 13:38:40 INFO     root S2B_MSIL2A_20200725T223009_N0214_R072_T60KWD_20200726T001511.SAFE S2B_MSIL2A_20200725T223009_T60KWD Creating dataset YAML\n",
      "2020-10-26 13:38:40 INFO     root Preparing scene S2B_MSIL2A_20200725T223009_T60KWD\n",
      "2020-10-26 13:38:40 INFO     root Scene path /tmp/data/intermediate/S2B_MSIL2A_20200725T223009_T60KWD_tmp/S2B_MSIL2A_20200725T223009_T60KWD/\n",
      "2020-10-26 13:38:40 DEBUG    root in get geometry /tmp/data/intermediate/S2B_MSIL2A_20200725T223009_T60KWD_tmp/S2B_MSIL2A_20200725T223009_T60KWD/S2B_MSIL2A_20200725T223009_T60KWD_B02_10m.tif\n",
      "2020-10-26 13:38:40 INFO     botocore.utils IMDS ENDPOINT: http://169.254.169.254/\n",
      "2020-10-26 13:38:40 INFO     botocore.credentials Found credentials in environment variables.\n",
      "2020-10-26 13:38:40 DEBUG    root Created yaml: /tmp/data/intermediate/S2B_MSIL2A_20200725T223009_T60KWD_tmp/S2B_MSIL2A_20200725T223009_T60KWD/datacube-metadata.yaml\n",
      "2020-10-26 13:38:40 INFO     root S2B_MSIL2A_20200725T223009_N0214_R072_T60KWD_20200726T001511.SAFE S2B_MSIL2A_20200725T223009_T60KWD Created original METADATA\n",
      "2020-10-26 13:38:40 INFO     root S2B_MSIL2A_20200725T223009_N0214_R072_T60KWD_20200726T001511.SAFE S2B_MSIL2A_20200725T223009_T60KWD Uploading to S3 Bucket\n",
      "2020-10-26 13:38:40 DEBUG    root Endpoint URL: http://s3-uk-1.sa-catapult.co.uk\n",
      "2020-10-26 13:38:41 INFO     root Local source file: /tmp/data/intermediate/S2B_MSIL2A_20200725T223009_T60KWD_tmp/S2B_MSIL2A_20200725T223009_T60KWD/S2B_MSIL2A_20200725T223009_T60KWD_B05_20m.tif\n",
      "2020-10-26 13:38:41 INFO     root S3 target file: luigi/fiji/sentinel_2/S2B_MSIL2A_20200725T223009_T60KWD/S2B_MSIL2A_20200725T223009_T60KWD_B05_20m.tif\n",
      "2020-10-26 13:38:41 INFO     root Start: /tmp/data/intermediate/S2B_MSIL2A_20200725T223009_T60KWD_tmp/S2B_MSIL2A_20200725T223009_T60KWD/S2B_MSIL2A_20200725T223009_T60KWD_B05_20m.tif 2020-10-26 13:38:41\n",
      "2020-10-26 13:38:42 INFO     root Finish: /tmp/data/intermediate/S2B_MSIL2A_20200725T223009_T60KWD_tmp/S2B_MSIL2A_20200725T223009_T60KWD/S2B_MSIL2A_20200725T223009_T60KWD_B05_20m.tif 2020-10-26 13:38:42\n",
      "2020-10-26 13:38:42 DEBUG    root Endpoint URL: http://s3-uk-1.sa-catapult.co.uk\n",
      "2020-10-26 13:38:42 INFO     root Local source file: /tmp/data/intermediate/S2B_MSIL2A_20200725T223009_T60KWD_tmp/S2B_MSIL2A_20200725T223009_T60KWD/S2B_MSIL2A_20200725T223009_T60KWD_B04_10m.tif\n",
      "2020-10-26 13:38:42 INFO     root S3 target file: luigi/fiji/sentinel_2/S2B_MSIL2A_20200725T223009_T60KWD/S2B_MSIL2A_20200725T223009_T60KWD_B04_10m.tif\n",
      "2020-10-26 13:38:42 INFO     root Start: /tmp/data/intermediate/S2B_MSIL2A_20200725T223009_T60KWD_tmp/S2B_MSIL2A_20200725T223009_T60KWD/S2B_MSIL2A_20200725T223009_T60KWD_B04_10m.tif 2020-10-26 13:38:42\n",
      "2020-10-26 13:38:47 INFO     root Finish: /tmp/data/intermediate/S2B_MSIL2A_20200725T223009_T60KWD_tmp/S2B_MSIL2A_20200725T223009_T60KWD/S2B_MSIL2A_20200725T223009_T60KWD_B04_10m.tif 2020-10-26 13:38:47\n",
      "2020-10-26 13:38:47 DEBUG    root Endpoint URL: http://s3-uk-1.sa-catapult.co.uk\n",
      "2020-10-26 13:38:47 INFO     root Local source file: /tmp/data/intermediate/S2B_MSIL2A_20200725T223009_T60KWD_tmp/S2B_MSIL2A_20200725T223009_T60KWD/S2B_MSIL2A_20200725T223009_T60KWD_SCL_20m.tif\n",
      "2020-10-26 13:38:47 INFO     root S3 target file: luigi/fiji/sentinel_2/S2B_MSIL2A_20200725T223009_T60KWD/S2B_MSIL2A_20200725T223009_T60KWD_SCL_20m.tif\n",
      "2020-10-26 13:38:47 INFO     root Start: /tmp/data/intermediate/S2B_MSIL2A_20200725T223009_T60KWD_tmp/S2B_MSIL2A_20200725T223009_T60KWD/S2B_MSIL2A_20200725T223009_T60KWD_SCL_20m.tif 2020-10-26 13:38:47\n",
      "2020-10-26 13:38:47 INFO     root Finish: /tmp/data/intermediate/S2B_MSIL2A_20200725T223009_T60KWD_tmp/S2B_MSIL2A_20200725T223009_T60KWD/S2B_MSIL2A_20200725T223009_T60KWD_SCL_20m.tif 2020-10-26 13:38:47\n",
      "2020-10-26 13:38:47 DEBUG    root Endpoint URL: http://s3-uk-1.sa-catapult.co.uk\n",
      "2020-10-26 13:38:47 INFO     root Local source file: /tmp/data/intermediate/S2B_MSIL2A_20200725T223009_T60KWD_tmp/S2B_MSIL2A_20200725T223009_T60KWD/S2B_MSIL2A_20200725T223009_T60KWD_B01_60m.tif\n",
      "2020-10-26 13:38:47 INFO     root S3 target file: luigi/fiji/sentinel_2/S2B_MSIL2A_20200725T223009_T60KWD/S2B_MSIL2A_20200725T223009_T60KWD_B01_60m.tif\n",
      "2020-10-26 13:38:47 INFO     root Start: /tmp/data/intermediate/S2B_MSIL2A_20200725T223009_T60KWD_tmp/S2B_MSIL2A_20200725T223009_T60KWD/S2B_MSIL2A_20200725T223009_T60KWD_B01_60m.tif 2020-10-26 13:38:47\n",
      "2020-10-26 13:38:48 INFO     root Finish: /tmp/data/intermediate/S2B_MSIL2A_20200725T223009_T60KWD_tmp/S2B_MSIL2A_20200725T223009_T60KWD/S2B_MSIL2A_20200725T223009_T60KWD_B01_60m.tif 2020-10-26 13:38:48\n",
      "2020-10-26 13:38:48 DEBUG    root Endpoint URL: http://s3-uk-1.sa-catapult.co.uk\n",
      "2020-10-26 13:38:48 INFO     root Local source file: /tmp/data/intermediate/S2B_MSIL2A_20200725T223009_T60KWD_tmp/S2B_MSIL2A_20200725T223009_T60KWD/S2B_MSIL2A_20200725T223009_T60KWD_B07_20m.tif\n",
      "2020-10-26 13:38:48 INFO     root S3 target file: luigi/fiji/sentinel_2/S2B_MSIL2A_20200725T223009_T60KWD/S2B_MSIL2A_20200725T223009_T60KWD_B07_20m.tif\n",
      "2020-10-26 13:38:48 INFO     root Start: /tmp/data/intermediate/S2B_MSIL2A_20200725T223009_T60KWD_tmp/S2B_MSIL2A_20200725T223009_T60KWD/S2B_MSIL2A_20200725T223009_T60KWD_B07_20m.tif 2020-10-26 13:38:48\n",
      "2020-10-26 13:38:49 INFO     root Finish: /tmp/data/intermediate/S2B_MSIL2A_20200725T223009_T60KWD_tmp/S2B_MSIL2A_20200725T223009_T60KWD/S2B_MSIL2A_20200725T223009_T60KWD_B07_20m.tif 2020-10-26 13:38:49\n",
      "2020-10-26 13:38:49 DEBUG    root Endpoint URL: http://s3-uk-1.sa-catapult.co.uk\n",
      "2020-10-26 13:38:50 INFO     root Local source file: /tmp/data/intermediate/S2B_MSIL2A_20200725T223009_T60KWD_tmp/S2B_MSIL2A_20200725T223009_T60KWD/S2B_MSIL2A_20200725T223009_T60KWD_B03_10m.tif\n",
      "2020-10-26 13:38:50 INFO     root S3 target file: luigi/fiji/sentinel_2/S2B_MSIL2A_20200725T223009_T60KWD/S2B_MSIL2A_20200725T223009_T60KWD_B03_10m.tif\n",
      "2020-10-26 13:38:50 INFO     root Start: /tmp/data/intermediate/S2B_MSIL2A_20200725T223009_T60KWD_tmp/S2B_MSIL2A_20200725T223009_T60KWD/S2B_MSIL2A_20200725T223009_T60KWD_B03_10m.tif 2020-10-26 13:38:50\n",
      "2020-10-26 13:38:54 INFO     root Finish: /tmp/data/intermediate/S2B_MSIL2A_20200725T223009_T60KWD_tmp/S2B_MSIL2A_20200725T223009_T60KWD/S2B_MSIL2A_20200725T223009_T60KWD_B03_10m.tif 2020-10-26 13:38:54\n",
      "2020-10-26 13:38:54 DEBUG    root Endpoint URL: http://s3-uk-1.sa-catapult.co.uk\n",
      "2020-10-26 13:38:54 INFO     root Local source file: /tmp/data/intermediate/S2B_MSIL2A_20200725T223009_T60KWD_tmp/S2B_MSIL2A_20200725T223009_T60KWD/S2B_MSIL2A_20200725T223009_T60KWD_B8A_20m.tif\n",
      "2020-10-26 13:38:54 INFO     root S3 target file: luigi/fiji/sentinel_2/S2B_MSIL2A_20200725T223009_T60KWD/S2B_MSIL2A_20200725T223009_T60KWD_B8A_20m.tif\n",
      "2020-10-26 13:38:54 INFO     root Start: /tmp/data/intermediate/S2B_MSIL2A_20200725T223009_T60KWD_tmp/S2B_MSIL2A_20200725T223009_T60KWD/S2B_MSIL2A_20200725T223009_T60KWD_B8A_20m.tif 2020-10-26 13:38:54\n",
      "2020-10-26 13:38:56 INFO     root Finish: /tmp/data/intermediate/S2B_MSIL2A_20200725T223009_T60KWD_tmp/S2B_MSIL2A_20200725T223009_T60KWD/S2B_MSIL2A_20200725T223009_T60KWD_B8A_20m.tif 2020-10-26 13:38:56\n",
      "2020-10-26 13:38:56 DEBUG    root Endpoint URL: http://s3-uk-1.sa-catapult.co.uk\n",
      "2020-10-26 13:38:56 INFO     root Local source file: /tmp/data/intermediate/S2B_MSIL2A_20200725T223009_T60KWD_tmp/S2B_MSIL2A_20200725T223009_T60KWD/S2B_MSIL2A_20200725T223009_T60KWD_WVP_10m.tif\n",
      "2020-10-26 13:38:56 INFO     root S3 target file: luigi/fiji/sentinel_2/S2B_MSIL2A_20200725T223009_T60KWD/S2B_MSIL2A_20200725T223009_T60KWD_WVP_10m.tif\n",
      "2020-10-26 13:38:56 INFO     root Start: /tmp/data/intermediate/S2B_MSIL2A_20200725T223009_T60KWD_tmp/S2B_MSIL2A_20200725T223009_T60KWD/S2B_MSIL2A_20200725T223009_T60KWD_WVP_10m.tif 2020-10-26 13:38:56\n",
      "2020-10-26 13:38:56 INFO     root Finish: /tmp/data/intermediate/S2B_MSIL2A_20200725T223009_T60KWD_tmp/S2B_MSIL2A_20200725T223009_T60KWD/S2B_MSIL2A_20200725T223009_T60KWD_WVP_10m.tif 2020-10-26 13:38:56\n",
      "2020-10-26 13:38:56 DEBUG    root Endpoint URL: http://s3-uk-1.sa-catapult.co.uk\n",
      "2020-10-26 13:38:57 INFO     root Local source file: /tmp/data/intermediate/S2B_MSIL2A_20200725T223009_T60KWD_tmp/S2B_MSIL2A_20200725T223009_T60KWD/datacube-metadata.yaml\n",
      "2020-10-26 13:38:57 INFO     root S3 target file: luigi/fiji/sentinel_2/S2B_MSIL2A_20200725T223009_T60KWD/datacube-metadata.yaml\n",
      "2020-10-26 13:38:57 INFO     root Start: /tmp/data/intermediate/S2B_MSIL2A_20200725T223009_T60KWD_tmp/S2B_MSIL2A_20200725T223009_T60KWD/datacube-metadata.yaml 2020-10-26 13:38:57\n",
      "2020-10-26 13:38:57 INFO     root Finish: /tmp/data/intermediate/S2B_MSIL2A_20200725T223009_T60KWD_tmp/S2B_MSIL2A_20200725T223009_T60KWD/datacube-metadata.yaml 2020-10-26 13:38:57\n",
      "2020-10-26 13:38:57 DEBUG    root Endpoint URL: http://s3-uk-1.sa-catapult.co.uk\n",
      "2020-10-26 13:38:57 INFO     root Local source file: /tmp/data/intermediate/S2B_MSIL2A_20200725T223009_T60KWD_tmp/S2B_MSIL2A_20200725T223009_T60KWD/S2B_MSIL2A_20200725T223009_T60KWD_MTD_MSIL2A.xml\n",
      "2020-10-26 13:38:57 INFO     root S3 target file: luigi/fiji/sentinel_2/S2B_MSIL2A_20200725T223009_T60KWD/S2B_MSIL2A_20200725T223009_T60KWD_MTD_MSIL2A.xml\n",
      "2020-10-26 13:38:57 INFO     root Start: /tmp/data/intermediate/S2B_MSIL2A_20200725T223009_T60KWD_tmp/S2B_MSIL2A_20200725T223009_T60KWD/S2B_MSIL2A_20200725T223009_T60KWD_MTD_MSIL2A.xml 2020-10-26 13:38:57\n",
      "2020-10-26 13:38:57 INFO     root Finish: /tmp/data/intermediate/S2B_MSIL2A_20200725T223009_T60KWD_tmp/S2B_MSIL2A_20200725T223009_T60KWD/S2B_MSIL2A_20200725T223009_T60KWD_MTD_MSIL2A.xml 2020-10-26 13:38:57\n",
      "2020-10-26 13:38:57 DEBUG    root Endpoint URL: http://s3-uk-1.sa-catapult.co.uk\n",
      "2020-10-26 13:38:57 INFO     root Local source file: /tmp/data/intermediate/S2B_MSIL2A_20200725T223009_T60KWD_tmp/S2B_MSIL2A_20200725T223009_T60KWD/S2B_MSIL2A_20200725T223009_T60KWD_AOT_10m.tif\n",
      "2020-10-26 13:38:57 INFO     root S3 target file: luigi/fiji/sentinel_2/S2B_MSIL2A_20200725T223009_T60KWD/S2B_MSIL2A_20200725T223009_T60KWD_AOT_10m.tif\n",
      "2020-10-26 13:38:57 INFO     root Start: /tmp/data/intermediate/S2B_MSIL2A_20200725T223009_T60KWD_tmp/S2B_MSIL2A_20200725T223009_T60KWD/S2B_MSIL2A_20200725T223009_T60KWD_AOT_10m.tif 2020-10-26 13:38:57\n",
      "2020-10-26 13:38:57 INFO     root Finish: /tmp/data/intermediate/S2B_MSIL2A_20200725T223009_T60KWD_tmp/S2B_MSIL2A_20200725T223009_T60KWD/S2B_MSIL2A_20200725T223009_T60KWD_AOT_10m.tif 2020-10-26 13:38:57\n",
      "2020-10-26 13:38:57 DEBUG    root Endpoint URL: http://s3-uk-1.sa-catapult.co.uk\n",
      "2020-10-26 13:38:57 INFO     root Local source file: /tmp/data/intermediate/S2B_MSIL2A_20200725T223009_T60KWD_tmp/S2B_MSIL2A_20200725T223009_T60KWD/S2B_MSIL2A_20200725T223009_T60KWD_B09_60m.tif\n",
      "2020-10-26 13:38:57 INFO     root S3 target file: luigi/fiji/sentinel_2/S2B_MSIL2A_20200725T223009_T60KWD/S2B_MSIL2A_20200725T223009_T60KWD_B09_60m.tif\n",
      "2020-10-26 13:38:57 INFO     root Start: /tmp/data/intermediate/S2B_MSIL2A_20200725T223009_T60KWD_tmp/S2B_MSIL2A_20200725T223009_T60KWD/S2B_MSIL2A_20200725T223009_T60KWD_B09_60m.tif 2020-10-26 13:38:57\n",
      "2020-10-26 13:38:57 INFO     root Finish: /tmp/data/intermediate/S2B_MSIL2A_20200725T223009_T60KWD_tmp/S2B_MSIL2A_20200725T223009_T60KWD/S2B_MSIL2A_20200725T223009_T60KWD_B09_60m.tif 2020-10-26 13:38:57\n",
      "2020-10-26 13:38:58 DEBUG    root Endpoint URL: http://s3-uk-1.sa-catapult.co.uk\n",
      "2020-10-26 13:38:58 INFO     root Local source file: /tmp/data/intermediate/S2B_MSIL2A_20200725T223009_T60KWD_tmp/S2B_MSIL2A_20200725T223009_T60KWD/S2B_MSIL2A_20200725T223009_T60KWD_B08_10m.tif\n",
      "2020-10-26 13:38:58 INFO     root S3 target file: luigi/fiji/sentinel_2/S2B_MSIL2A_20200725T223009_T60KWD/S2B_MSIL2A_20200725T223009_T60KWD_B08_10m.tif\n",
      "2020-10-26 13:38:58 INFO     root Start: /tmp/data/intermediate/S2B_MSIL2A_20200725T223009_T60KWD_tmp/S2B_MSIL2A_20200725T223009_T60KWD/S2B_MSIL2A_20200725T223009_T60KWD_B08_10m.tif 2020-10-26 13:38:58\n",
      "2020-10-26 13:39:02 INFO     root Finish: /tmp/data/intermediate/S2B_MSIL2A_20200725T223009_T60KWD_tmp/S2B_MSIL2A_20200725T223009_T60KWD/S2B_MSIL2A_20200725T223009_T60KWD_B08_10m.tif 2020-10-26 13:39:02\n",
      "2020-10-26 13:39:02 DEBUG    root Endpoint URL: http://s3-uk-1.sa-catapult.co.uk\n",
      "2020-10-26 13:39:02 INFO     root Local source file: /tmp/data/intermediate/S2B_MSIL2A_20200725T223009_T60KWD_tmp/S2B_MSIL2A_20200725T223009_T60KWD/S2B_MSIL2A_20200725T223009_T60KWD_B12_20m.tif\n",
      "2020-10-26 13:39:02 INFO     root S3 target file: luigi/fiji/sentinel_2/S2B_MSIL2A_20200725T223009_T60KWD/S2B_MSIL2A_20200725T223009_T60KWD_B12_20m.tif\n",
      "2020-10-26 13:39:02 INFO     root Start: /tmp/data/intermediate/S2B_MSIL2A_20200725T223009_T60KWD_tmp/S2B_MSIL2A_20200725T223009_T60KWD/S2B_MSIL2A_20200725T223009_T60KWD_B12_20m.tif 2020-10-26 13:39:02\n",
      "2020-10-26 13:39:04 INFO     root Finish: /tmp/data/intermediate/S2B_MSIL2A_20200725T223009_T60KWD_tmp/S2B_MSIL2A_20200725T223009_T60KWD/S2B_MSIL2A_20200725T223009_T60KWD_B12_20m.tif 2020-10-26 13:39:04\n",
      "2020-10-26 13:39:04 DEBUG    root Endpoint URL: http://s3-uk-1.sa-catapult.co.uk\n",
      "2020-10-26 13:39:04 INFO     root Local source file: /tmp/data/intermediate/S2B_MSIL2A_20200725T223009_T60KWD_tmp/S2B_MSIL2A_20200725T223009_T60KWD/S2B_MSIL2A_20200725T223009_T60KWD_B11_20m.tif\n",
      "2020-10-26 13:39:04 INFO     root S3 target file: luigi/fiji/sentinel_2/S2B_MSIL2A_20200725T223009_T60KWD/S2B_MSIL2A_20200725T223009_T60KWD_B11_20m.tif\n",
      "2020-10-26 13:39:04 INFO     root Start: /tmp/data/intermediate/S2B_MSIL2A_20200725T223009_T60KWD_tmp/S2B_MSIL2A_20200725T223009_T60KWD/S2B_MSIL2A_20200725T223009_T60KWD_B11_20m.tif 2020-10-26 13:39:04\n",
      "2020-10-26 13:39:05 INFO     root Finish: /tmp/data/intermediate/S2B_MSIL2A_20200725T223009_T60KWD_tmp/S2B_MSIL2A_20200725T223009_T60KWD/S2B_MSIL2A_20200725T223009_T60KWD_B11_20m.tif 2020-10-26 13:39:05\n",
      "2020-10-26 13:39:05 DEBUG    root Endpoint URL: http://s3-uk-1.sa-catapult.co.uk\n",
      "2020-10-26 13:39:05 INFO     root Local source file: /tmp/data/intermediate/S2B_MSIL2A_20200725T223009_T60KWD_tmp/S2B_MSIL2A_20200725T223009_T60KWD/S2B_MSIL2A_20200725T223009_T60KWD_B06_20m.tif\n",
      "2020-10-26 13:39:05 INFO     root S3 target file: luigi/fiji/sentinel_2/S2B_MSIL2A_20200725T223009_T60KWD/S2B_MSIL2A_20200725T223009_T60KWD_B06_20m.tif\n",
      "2020-10-26 13:39:06 INFO     root Start: /tmp/data/intermediate/S2B_MSIL2A_20200725T223009_T60KWD_tmp/S2B_MSIL2A_20200725T223009_T60KWD/S2B_MSIL2A_20200725T223009_T60KWD_B06_20m.tif 2020-10-26 13:39:06\n",
      "2020-10-26 13:39:07 INFO     root Finish: /tmp/data/intermediate/S2B_MSIL2A_20200725T223009_T60KWD_tmp/S2B_MSIL2A_20200725T223009_T60KWD/S2B_MSIL2A_20200725T223009_T60KWD_B06_20m.tif 2020-10-26 13:39:07\n",
      "2020-10-26 13:39:07 DEBUG    root Endpoint URL: http://s3-uk-1.sa-catapult.co.uk\n",
      "2020-10-26 13:39:07 INFO     root Local source file: /tmp/data/intermediate/S2B_MSIL2A_20200725T223009_T60KWD_tmp/S2B_MSIL2A_20200725T223009_T60KWD/S2B_MSIL2A_20200725T223009_T60KWD_B02_10m.tif\n",
      "2020-10-26 13:39:07 INFO     root S3 target file: luigi/fiji/sentinel_2/S2B_MSIL2A_20200725T223009_T60KWD/S2B_MSIL2A_20200725T223009_T60KWD_B02_10m.tif\n",
      "2020-10-26 13:39:07 INFO     root Start: /tmp/data/intermediate/S2B_MSIL2A_20200725T223009_T60KWD_tmp/S2B_MSIL2A_20200725T223009_T60KWD/S2B_MSIL2A_20200725T223009_T60KWD_B02_10m.tif 2020-10-26 13:39:07\n",
      "2020-10-26 13:39:12 INFO     root Finish: /tmp/data/intermediate/S2B_MSIL2A_20200725T223009_T60KWD_tmp/S2B_MSIL2A_20200725T223009_T60KWD/S2B_MSIL2A_20200725T223009_T60KWD_B02_10m.tif 2020-10-26 13:39:12\n",
      "2020-10-26 13:39:12 INFO     root S2B_MSIL2A_20200725T223009_N0214_R072_T60KWD_20200726T001511.SAFE S2B_MSIL2A_20200725T223009_T60KWD Uploaded to S3 Bucket\n",
      "2020-10-26 13:39:13 INFO     worker Total processing time 0:07:03\n"
     ]
    }
   ],
   "source": [
    "import datetime\n",
    "\n",
    "while not q.empty():\n",
    "    item = q.lease(lease_secs=1800, block=True, timeout=600)\n",
    "    if item is not None:\n",
    "        itemstr = item.decode(\"utf=8\")\n",
    "        logger.info(f\"Working on {itemstr}\")\n",
    "\n",
    "        start = datetime.datetime.now().replace(microsecond=0)\n",
    "        process_scene(itemstr)\n",
    "        q.complete(item)\n",
    "        end = datetime.datetime.now().replace(microsecond=0)\n",
    "        logger.info(f\"Total processing time {end - start}\")\n",
    "    else:\n",
    "        logger.info(\"Waiting for work\")"
   ]
  },
  {
   "cell_type": "code",
   "execution_count": 4,
   "metadata": {},
   "outputs": [
    {
     "name": "stderr",
     "output_type": "stream",
     "text": [
      "2020-10-26 13:39:13 INFO     worker Queue empty!\n"
     ]
    }
   ],
   "source": [
    "logger.info(\"Queue empty!\")"
   ]
  },
  {
   "cell_type": "markdown",
   "metadata": {},
   "source": [
    "---"
   ]
  }
 ],
 "metadata": {
  "kernelspec": {
   "display_name": "Python 3",
   "language": "python",
   "name": "python3"
  },
  "language_info": {
   "codemirror_mode": {
    "name": "ipython",
    "version": 3
   },
   "file_extension": ".py",
   "mimetype": "text/x-python",
   "name": "python",
   "nbconvert_exporter": "python",
   "pygments_lexer": "ipython3",
   "version": "3.7.4"
  }
 },
 "nbformat": 4,
 "nbformat_minor": 4
}
