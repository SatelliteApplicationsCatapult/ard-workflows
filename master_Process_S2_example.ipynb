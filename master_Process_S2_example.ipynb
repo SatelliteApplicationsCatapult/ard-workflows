{
 "cells": [
  {
   "cell_type": "code",
   "execution_count": 1,
   "metadata": {},
   "outputs": [],
   "source": [
    "%load_ext autoreload\n",
    "%autoreload 2"
   ]
  },
  {
   "cell_type": "markdown",
   "metadata": {},
   "source": [
    "## Sentinel-2 L1C & L2A"
   ]
  },
  {
   "cell_type": "code",
   "execution_count": 2,
   "metadata": {},
   "outputs": [],
   "source": [
    "import glob\n",
    "import shutil\n",
    "from datetime import datetime\n",
    "import pandas as pd\n",
    "import time\n",
    "import tqdm\n",
    "import os\n",
    "from datetime import datetime\n",
    "\n",
    "from subprocess import Popen, PIPE, STDOUT\n",
    "\n",
    "from utils.prepS2 import prepareS2\n"
   ]
  },
  {
   "cell_type": "code",
   "execution_count": 3,
   "metadata": {},
   "outputs": [
    {
     "name": "stdout",
     "output_type": "stream",
     "text": [
      "AWS_ACCESS_KEY_ID : True\n",
      "AWS_SECRET_ACCESS_KEY : True\n",
      "AWS_S3_ENDPOINT_URL : True\n",
      "COPERNICUS_USERNAME : True\n",
      "COPERNICUS_PWD : True\n",
      "SEN2COR_8 : True\n",
      "GCP_CLIENT_EMAIL : True\n",
      "GCP_PRIVATE_KEY : True\n"
     ]
    }
   ],
   "source": [
    "source_envars = ['AWS_ACCESS_KEY_ID','AWS_SECRET_ACCESS_KEY','AWS_S3_ENDPOINT_URL','COPERNICUS_USERNAME','COPERNICUS_PWD','SEN2COR_8','GCP_CLIENT_EMAIL','GCP_PRIVATE_KEY']\n",
    "for var in source_envars:\n",
    "    print(var,':',os.getenv(var)!=None)"
   ]
  },
  {
   "cell_type": "code",
   "execution_count": 3,
   "metadata": {},
   "outputs": [
    {
     "data": {
      "text/plain": [
       "'/Sen2Cor-02.05.05-Linux64/bin/L2A_Process'"
      ]
     },
     "execution_count": 3,
     "metadata": {},
     "output_type": "execute_result"
    }
   ],
   "source": [
    "os.environ['SEN2COR_8']"
   ]
  },
  {
   "cell_type": "code",
   "execution_count": 6,
   "metadata": {},
   "outputs": [],
   "source": [
    "# os.getenv('LOGLEVEL')\n",
    "os.environ[\"LOGLEVEL\"] = 'DEBUG'"
   ]
  },
  {
   "cell_type": "code",
   "execution_count": 7,
   "metadata": {},
   "outputs": [],
   "source": [
    "des_scenes_list_2a = [\n",
    "    'S2B_MSIL2A_20200423T221939_N0214_R029_T60KXE_20200424T001425',\n",
    "    'S2B_MSIL2A_20200423T221939_N0214_R029_T60KXF_20200424T001425',\n",
    "    'S2A_MSIL2A_20200411T223011_N0214_R072_T60KXE_20200412T002142',\n",
    "    'S2B_MSIL2A_20200327T223009_N0214_R072_T60KXE_20200328T001302',\n",
    "    'S2A_MSIL2A_20191130T221941_N0213_R029_T60KXF_20191130T234829',\n",
    "    'S2B_MSIL2A_20191019T223009_N0213_R072_T60KXF_20191020T000410'\n",
    "]\n",
    "\n",
    "des_scenes_list_1c = [\n",
    "    'S2B_MSIL1C_20200423T221939_N0209_R029_T60KXE_20200423T234237',\n",
    "    'S2B_MSIL1C_20200423T221939_N0209_R029_T60KXF_20200423T234237',\n",
    "    'S2A_MSIL1C_20200411T223011_N0209_R072_T60KXF_20200411T235019',\n",
    "    'S2B_MSIL1C_20200324T221939_N0209_R029_T60KXF_20200324T233814',\n",
    "    'S2A_MSIL1C_20191130T221941_N0208_R029_T60KXF_20191130T232500',\n",
    "    'S2A_MSIL1C_20191123T223011_N0208_R072_T60KXF_20191123T233752'\n",
    "]\n",
    "\n",
    "test = [\n",
    "#     \"S2A_MSIL1C_20151002T222056_N0204_R029_T01KBU_20151002T222058\",\n",
    "    \"S2A_MSIL1C_20151002T222056_N0204_R029_T01KAU_20151002T222058\",\n",
    "    \"S2A_MSIL1C_20151022T222102_N0204_R029_T01KAU_20151022T222100\", \n",
    "    \"S2A_MSIL1C_20151022T222102_N0204_R029_T01KBU_20151022T222100\", \n",
    "    \"S2A_MSIL1C_20170101T220912_N0204_R129_T01KCU_20170101T220912\", \n",
    "    \"S2A_MSIL1C_20170101T220912_N0204_R129_T01KBA_20170101T220912\", \n",
    "    \"S2A_MSIL1C_20170101T220912_N0204_R129_T01KBB_20170101T220912\", \n",
    "    \"S2A_MSIL1C_20170101T220912_N0204_R129_T01KAU_20170101T220912\", \n",
    "    \"S2A_MSIL1C_20170101T220912_N0204_R129_T01KCT_20170101T220912\", \n",
    "    \"S2A_MSIL1C_20151114T223002_N0204_R072_T60KXE_20151114T223000\", \n",
    "    \"S2A_MSIL1C_20151114T223002_N0204_R072_T60KXD_20151114T223000\", \n",
    "    \"S2A_MSIL1C_20151114T223002_N0204_R072_T60KWG_20151114T223000\", \n",
    "    \"S2A_MSIL1C_20151114T223002_N0204_R072_T60KXG_20151114T223000\", \n",
    "    \"S2A_MSIL1C_20151114T223002_N0204_R072_T60KWF_20151114T223000\", \n",
    "    \"S2A_MSIL1C_20151114T223002_N0204_R072_T60KWD_20151114T223000\", \n",
    "    \"S2A_MSIL1C_20151114T223002_N0204_R072_T60KXF_20151114T223000\", \n",
    "    \"S2A_MSIL1C_20151114T223002_N0204_R072_T60KWE_20151114T223000\", \n",
    "    \"S2A_MSIL1C_20151114T223002_N0204_R072_T60LYH_20151114T223000\", \n",
    "]\n"
   ]
  },
  {
   "cell_type": "code",
   "execution_count": 4,
   "metadata": {},
   "outputs": [],
   "source": [
    "for scene_nm in tqdm.tqdm(test[:]):\n",
    "    print(datetime.now())\n",
    "    prepareS2(scene_nm,\n",
    "              s3_bucket='public-eo-data',\n",
    "              s3_dir='fiji/tom/sentinel2/',\n",
    "              inter_dir='/tmp/data/S2_ARD/')\n",
    "    "
   ]
  },
  {
   "cell_type": "code",
   "execution_count": null,
   "metadata": {},
   "outputs": [],
   "source": []
  }
 ],
 "metadata": {
  "kernelspec": {
   "display_name": "Python 3",
   "language": "python",
   "name": "python3"
  },
  "language_info": {
   "codemirror_mode": {
    "name": "ipython",
    "version": 3
   },
   "file_extension": ".py",
   "mimetype": "text/x-python",
   "name": "python",
   "nbconvert_exporter": "python",
   "pygments_lexer": "ipython3",
   "version": "3.7.4"
  }
 },
 "nbformat": 4,
 "nbformat_minor": 4
}
