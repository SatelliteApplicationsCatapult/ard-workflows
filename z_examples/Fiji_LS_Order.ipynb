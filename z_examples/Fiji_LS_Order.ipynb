{
 "cells": [
  {
   "cell_type": "code",
   "execution_count": 1,
   "metadata": {},
   "outputs": [],
   "source": [
    "%load_ext autoreload\n",
    "%autoreload 2\n",
    "%matplotlib inline\n",
    "\n",
    "import sys\n",
    "sys.path.append('/home/sc/satapps/satappsgithub/ard-workflows')"
   ]
  },
  {
   "cell_type": "code",
   "execution_count": 2,
   "metadata": {},
   "outputs": [],
   "source": [
    "import geopandas as gpd\n",
    "from shapely.geometry import Polygon\n",
    "from shapely import wkt\n",
    "from shapely import wkb\n",
    "import matplotlib.pyplot as plt\n",
    "import matplotlib.dates as mdates\n",
    "from matplotlib.dates import DateFormatter\n",
    "import matplotlib.patches as mpatches\n",
    "#from sentinelsat import SentinelAPI\n",
    "import pandas as pd\n",
    "from datetime import datetime\n",
    "from datetime import date\n",
    "import glob\n",
    "from collections import OrderedDict\n",
    "import os\n",
    "import csv\n",
    "import random\n",
    "\n",
    "import numpy as np\n",
    "\n",
    "import requests\n",
    "import json\n",
    "import getpass\n",
    "\n",
    "#from utils.prepS2 import *\n",
    "#from utils.utils import reproject_wkt_4326_3460\n"
   ]
  },
  {
   "cell_type": "markdown",
   "metadata": {},
   "source": [
    "# Landsat Query & Order"
   ]
  },
  {
   "cell_type": "markdown",
   "metadata": {},
   "source": [
    "This section finds the landsat scenes for order based  on shapefiles - in the case of FIJI orders required were already in a csv so this section is commented out."
   ]
  },
  {
   "cell_type": "markdown",
   "metadata": {},
   "source": [
    "## Prep AoI Vectors and Ancillary datasets\n",
    "- single or directory of shapefiles (anything readable by gpd)\n",
    "- global sentinel-2 tile shapefile\n",
    "- global landsat tile shapefile\n",
    "- world borders shapefile (from TM_WORLD_BORDERS)"
   ]
  },
  {
   "cell_type": "code",
   "execution_count": 3,
   "metadata": {},
   "outputs": [],
   "source": [
    "# Load all aois\n",
    "# aois_dir = \"../DY/\"\n",
    "# aois = [gpd.read_file(x) for x in glob.glob(aois_dir + '*.geojson')] # load aois\n",
    "# aois = gpd.GeoDataFrame(pd.concat(aois)) # spatial join aois\n",
    "#aois = gpd.read_file('/home/sc/satapps/satappsgithub/anchillarydatasets/mainislanddiss.geojson')"
   ]
  },
  {
   "cell_type": "code",
   "execution_count": 4,
   "metadata": {},
   "outputs": [],
   "source": [
    "# Load landsat & sentinel-2 world tiles\n",
    "# world_s2_granules = gpd.read_file('../Ancillary_Datasets/sentinel2_tiles_world/sentinel2_tiles_world.shp')\n",
    "#world_ls_granules = gpd.read_file('../../ancillarydatasets/WRS2_descending_0/WRS2_descending.shp') # https://www.usgs.gov/land-resources/nli/landsat/landsat-shapefiles-and-kml-files\n",
    "#world_ls_granules = gpd.read_file('/home/sc/satapps/satappsgithub/anchillarydatasets/WRS2_descending_0')"
   ]
  },
  {
   "cell_type": "code",
   "execution_count": 5,
   "metadata": {},
   "outputs": [
    {
     "data": {
      "image/png": "[encoded data removed]",
      "text/plain": [
       "<Figure size 432x288 with 1 Axes>"
      ]
     },
     "metadata": {
      "needs_background": "light"
     },
     "output_type": "display_data"
    }
   ],
   "source": [
    "#world_borders = gpd.read_file('/home/sc/satapps/satappsgithub/anchillarydatasets/TM_WORLD_BORDERS-0.3/TM_WORLD_BORDERS-0.3.shp')\n",
    "#country_name = 'Fiji'\n",
    "#country = world_borders.loc[world_borders.NAME == country_name]\n",
    "#country.plot();"
   ]
  },
  {
   "cell_type": "markdown",
   "metadata": {},
   "source": [
    "## Determine overlaping tiles & plot along with AoI and country border(s)"
   ]
  },
  {
   "cell_type": "code",
   "execution_count": 6,
   "metadata": {},
   "outputs": [
    {
     "data": {
      "text/html": [
       "<div>\n",
       "<style scoped>\n",
       "    .dataframe tbody tr th:only-of-type {\n",
       "        vertical-align: middle;\n",
       "    }\n",
       "\n",
       "    .dataframe tbody tr th {\n",
       "        vertical-align: top;\n",
       "    }\n",
       "\n",
       "    .dataframe thead th {\n",
       "        text-align: right;\n",
       "    }\n",
       "</style>\n",
       "<table border=\"1\" class=\"dataframe\">\n",
       "  <thead>\n",
       "    <tr style=\"text-align: right;\">\n",
       "      <th></th>\n",
       "      <th>ID_0</th>\n",
       "      <th>ISO</th>\n",
       "      <th>NAME_0</th>\n",
       "      <th>ID_1</th>\n",
       "      <th>NAME_1</th>\n",
       "      <th>TYPE_1</th>\n",
       "      <th>ENGTYPE_1</th>\n",
       "      <th>NL_NAME_1</th>\n",
       "      <th>VARNAME_1</th>\n",
       "      <th>geometry</th>\n",
       "      <th>NAME</th>\n",
       "    </tr>\n",
       "  </thead>\n",
       "  <tbody>\n",
       "    <tr>\n",
       "      <th>0</th>\n",
       "      <td>77</td>\n",
       "      <td>FJI</td>\n",
       "      <td>Fiji</td>\n",
       "      <td>1</td>\n",
       "      <td>Central</td>\n",
       "      <td>Division</td>\n",
       "      <td>Division</td>\n",
       "      <td>None</td>\n",
       "      <td>None</td>\n",
       "      <td>MULTIPOLYGON (((177.64661 -18.51458, 177.64690...</td>\n",
       "      <td>FIJI</td>\n",
       "    </tr>\n",
       "  </tbody>\n",
       "</table>\n",
       "</div>"
      ],
      "text/plain": [
       "   ID_0  ISO NAME_0  ID_1   NAME_1    TYPE_1 ENGTYPE_1 NL_NAME_1 VARNAME_1  \\\n",
       "0    77  FJI   Fiji     1  Central  Division  Division      None      None   \n",
       "\n",
       "                                            geometry  NAME  \n",
       "0  MULTIPOLYGON (((177.64661 -18.51458, 177.64690...  FIJI  "
      ]
     },
     "execution_count": 6,
     "metadata": {},
     "output_type": "execute_result"
    }
   ],
   "source": [
    "# Check column NAME exists within aoi(s) gpd\n",
    "#aois['NAME'] = 'FIJI'\n",
    "#aois"
   ]
  },
  {
   "cell_type": "code",
   "execution_count": 7,
   "metadata": {},
   "outputs": [],
   "source": [
    "# Create bool for intersection between any tiles \n",
    "#for n, g in zip(country.NAME, country.geometry):\n",
    "#    world_ls_granules[n] = world_ls_granules.geometry.apply(lambda x: gpd.GeoSeries(x).intersects(g))\n",
    "#     world_s2_granules[n] = world_s2_granules.geometry.apply(lambda x: gpd.GeoSeries(x).intersects(g))"
   ]
  },
  {
   "cell_type": "code",
   "execution_count": 8,
   "metadata": {},
   "outputs": [],
   "source": [
    "# Filter based on any True intersections\n",
    "#world_ls_granules[country_name] = world_ls_granules[world_ls_granules[country.NAME.values]].any(1)\n",
    "#country_ls_grans = world_ls_granules[world_ls_granules[country_name]==True]\n",
    "# world_s2_granules[country_name] = world_s2_granules[world_s2_granules[country.NAME.values]].any(1)\n",
    "# country_s2_grans = world_s2_granules[world_s2_granules[country_name]==True]"
   ]
  },
  {
   "cell_type": "code",
   "execution_count": 9,
   "metadata": {},
   "outputs": [
    {
     "name": "stderr",
     "output_type": "stream",
     "text": [
      "/home/sc/miniconda3/envs/satappsARD/lib/python3.7/site-packages/ipykernel_launcher.py:4: SettingWithCopyWarning: \n",
      "A value is trying to be set on a copy of a slice from a DataFrame.\n",
      "Try using .loc[row_indexer,col_indexer] = value instead\n",
      "\n",
      "See the caveats in the documentation: http://pandas.pydata.org/pandas-docs/stable/user_guide/indexing.html#returning-a-view-versus-a-copy\n",
      "  after removing the cwd from sys.path.\n"
     ]
    }
   ],
   "source": [
    "# # bonus filter for aoi subset within country\n",
    "# country_s2_grans['AOI'] = country_s2_grans.geometry.apply(lambda x: gpd.GeoSeries(x).intersects(aois))\n",
    "# aois_s2_grans = country_s2_grans[country_s2_grans.AOI==True]\n",
    "#country_ls_grans['AOI'] = country_ls_grans.geometry.apply(lambda x: gpd.GeoSeries(x).intersects(aois))\n",
    "#aois_ls_grans = country_ls_grans[country_ls_grans.AOI==True]"
   ]
  },
  {
   "cell_type": "code",
   "execution_count": 10,
   "metadata": {},
   "outputs": [],
   "source": [
    "# Plot coverage\n",
    "#fig, ax = plt.subplots(figsize=(10,10),dpi=100)\n",
    "#fig.autofmt_xdate()\n",
    "#leg_patches=[]\n",
    "\n",
    "#country.plot(facecolor=\"g\", edgecolor='g', ax=ax, alpha=0.2);\n",
    "#leg_patches.append(mpatches.Patch(facecolor=\"g\", edgecolor='g', alpha=0.25, lw=0.7, label=country_name))\n",
    "\n",
    "# country_s2_grans.plot(facecolor=\"none\", edgecolor='r', lw=0.7, ax=ax)\n",
    "# leg_patches.append(mpatches.Patch(facecolor=\"none\", edgecolor='r', lw=0.7, label='Sentinel-2 Tiles'))\n",
    "# country_s2_grans.apply(lambda x: ax.annotate(s=x.Name, xy=x.geometry.centroid.coords[0], ha='center', fontsize=6),axis=1)\n",
    "\n",
    "# aois_s2_grans.plot(facecolor=\"none\", edgecolor='b', lw=0.7, ax=ax)\n",
    "# leg_patches.append(mpatches.Patch(facecolor=\"none\", edgecolor='r', lw=0.7, label='Landsat Tiles'))\n",
    "# aois_s2_grans.apply(lambda x: ax.annotate(s=x.PR, xy=x.geometry.centroid.coords[0], ha='center', fontsize=6),axis=1)\n",
    "\n",
    "# country_ls_grans.plot(facecolor=\"none\", edgecolor='b', lw=0.7, ax=ax)\n",
    "# leg_patches.append(mpatches.Patch(facecolor=\"none\", edgecolor='r', lw=0.7, label='Landsat Tiles'))\n",
    "# country_ls_grans.apply(lambda x: ax.annotate(s=x.PR, xy=x.geometry.centroid.coords[0], ha='center', fontsize=6),axis=1)\n",
    "\n",
    "#aois_ls_grans.plot(facecolor=\"none\", edgecolor='b', lw=0.7, ax=ax)\n",
    "#leg_patches.append(mpatches.Patch(facecolor=\"none\", edgecolor='b', lw=0.7, label='Landsat Tiles'))\n",
    "#aois_ls_grans.apply(lambda x: ax.annotate(s=x.PR, xy=x.geometry.centroid.coords[0], ha='center', fontsize=6),axis=1)\n",
    "\n",
    "#ax.set_title('asf')\n",
    "#ax.legend(handles=leg_patches, loc='upper center', shadow=True, ncol=5);\n",
    "#ax.grid(alpha=0.5);\n",
    "#ax.tick_params(axis='y', rotation=90);\n",
    "#ax.tick_params(axis='x', rotation=0);"
   ]
  },
  {
   "cell_type": "markdown",
   "metadata": {},
   "source": [
    "# Landsat Order"
   ]
  },
  {
   "cell_type": "code",
   "execution_count": 3,
   "metadata": {},
   "outputs": [],
   "source": [
    "#pr = aois_ls_grans\n",
    "df = pd.read_csv('../../anchillarydatasets/fiji_landsat8.csv') # latest csv can be found at - https://www.usgs.gov/land-resources/nli/landsat/bulk-metadata-service\n",
    "#df = df[df.row.isin(pr.ROW.values)&df.path.isin(pr.PATH.values)]\n",
    "res = df"
   ]
  },
  {
   "cell_type": "code",
   "execution_count": null,
   "metadata": {},
   "outputs": [],
   "source": []
  },
  {
   "cell_type": "code",
   "execution_count": null,
   "metadata": {},
   "outputs": [],
   "source": []
  },
  {
   "cell_type": "code",
   "execution_count": 4,
   "metadata": {},
   "outputs": [
    {
     "name": "stderr",
     "output_type": "stream",
     "text": [
      "/home/sc/miniconda3/envs/satappsARD/lib/python3.7/site-packages/ipykernel_launcher.py:3: FutureWarning: Comparing Series of datetimes with 'datetime.date'.  Currently, the\n",
      "'datetime.date' is coerced to a datetime. In the future pandas will\n",
      "not coerce, and a TypeError will be raised. To retain the current\n",
      "behavior, convert the 'datetime.date' to a datetime with\n",
      "'pd.Timestamp'.\n",
      "  This is separate from the ipykernel package so we can avoid doing imports until\n"
     ]
    }
   ],
   "source": [
    "res['AcquisitionDate'] = pd.to_datetime(res['acquisitionDate'], format='%Y-%m-%d')\n",
    "#res5 = res3[(res3.AcquisitionDate>date(2016,1,1)) & (res3.AcquisitionDate<date(2016,5,1))] # SET TIME PERIOD\n",
    "res = res[(res.AcquisitionDate>date(2016,2,1)) & (res.AcquisitionDate<date(2016,2,20))] # SET TIME PERIOD"
   ]
  },
  {
   "cell_type": "code",
   "execution_count": 5,
   "metadata": {},
   "outputs": [
    {
     "name": "stdout",
     "output_type": "stream",
     "text": [
      "18\n"
     ]
    }
   ],
   "source": [
    "print(len(res))"
   ]
  },
  {
   "cell_type": "code",
   "execution_count": 6,
   "metadata": {},
   "outputs": [
    {
     "data": {
      "text/plain": [
       "1550    LC08_L1GT_073069_20160215_20170329_01_T2\n",
       "1551    LC08_L1TP_073071_20160215_20170329_01_T1\n",
       "1552    LC08_L1TP_073072_20160215_20170329_01_T2\n",
       "1553    LC08_L1GT_073073_20160215_20170329_01_T2\n",
       "1554    LC08_L1GT_075069_20160213_20180202_01_T2\n",
       "1555    LC08_L1TP_075071_20160213_20180202_01_T2\n",
       "1556    LC08_L1TP_075072_20160213_20180202_01_T1\n",
       "1557    LC08_L1TP_075073_20160213_20180202_01_T1\n",
       "1558    LC08_L1GT_072069_20160208_20170330_01_T2\n",
       "1559    LC08_L1GT_072071_20160208_20170330_01_T2\n",
       "1560    LC08_L1TP_072072_20160208_20170330_01_T2\n",
       "1561    LC08_L1TP_072073_20160208_20170330_01_T1\n",
       "1562    LC08_L1GT_072074_20160208_20170330_01_T2\n",
       "1563    LC08_L1GT_074069_20160206_20170330_01_T2\n",
       "1564    LC08_L1TP_074071_20160206_20170330_01_T1\n",
       "1565    LC08_L1TP_074072_20160206_20170330_01_T1\n",
       "1566    LC08_L1TP_074073_20160206_20170330_01_T1\n",
       "1567    LC08_L1GT_076069_20160204_20170330_01_T2\n",
       "Name: LANDSAT_PRODUCT_ID, dtype: object"
      ]
     },
     "execution_count": 6,
     "metadata": {},
     "output_type": "execute_result"
    }
   ],
   "source": [
    "res.LANDSAT_PRODUCT_ID.head(20)"
   ]
  },
  {
   "cell_type": "code",
   "execution_count": 7,
   "metadata": {},
   "outputs": [
    {
     "name": "stdout",
     "output_type": "stream",
     "text": [
      "18\n"
     ]
    }
   ],
   "source": [
    "print(len(res))"
   ]
  },
  {
   "cell_type": "code",
   "execution_count": 8,
   "metadata": {},
   "outputs": [],
   "source": [
    "#res5.LANDSAT_PRODUCT_ID.head(20)"
   ]
  },
  {
   "cell_type": "code",
   "execution_count": 9,
   "metadata": {},
   "outputs": [],
   "source": [
    "l8_list = list(res.LANDSAT_PRODUCT_ID.values)\n",
    "#print(l8_list)"
   ]
  },
  {
   "cell_type": "code",
   "execution_count": 10,
   "metadata": {},
   "outputs": [],
   "source": [
    "# function for basic interaction with ESPA API - hacked together from their 'how to page'\n",
    "def espa_api(endpoint, verb='get', body=None, uauth=None):\n",
    "    \"\"\" Suggested simple way to interact with the ESPA JSON REST API \"\"\"\n",
    "    auth_tup = uauth if uauth else (username, password)\n",
    "    response = getattr(requests, verb)(host + endpoint, auth=auth_tup, json=body)\n",
    "    print('{} {}'.format(response.status_code, response.reason))\n",
    "    data = response.json()\n",
    "    if isinstance(data, dict):\n",
    "        messages = data.pop(\"messages\", None)  \n",
    "        if messages:\n",
    "            print(json.dumps(messages, indent=4))\n",
    "    try:\n",
    "        response.raise_for_status()\n",
    "    except Exception as e:\n",
    "        print(e)\n",
    "        return None\n",
    "    else:\n",
    "        return data"
   ]
  },
  {
   "cell_type": "code",
   "execution_count": 1,
   "metadata": {},
   "outputs": [
    {
     "name": "stdout",
     "output_type": "stream",
     "text": [
      "GET /api/v1/user\n"
     ]
    },
    {
     "ename": "NameError",
     "evalue": "name 'espa_api' is not defined",
     "output_type": "error",
     "traceback": [
      "\u001b[0;31m---------------------------------------------------------------------------\u001b[0m",
      "\u001b[0;31mNameError\u001b[0m                                 Traceback (most recent call last)",
      "\u001b[0;32m<ipython-input-1-fe72da6fabfb>\u001b[0m in \u001b[0;36m<module>\u001b[0;34m\u001b[0m\n\u001b[1;32m      6\u001b[0m \u001b[0;31m# check login\u001b[0m\u001b[0;34m\u001b[0m\u001b[0;34m\u001b[0m\u001b[0;34m\u001b[0m\u001b[0m\n\u001b[1;32m      7\u001b[0m \u001b[0mprint\u001b[0m\u001b[0;34m(\u001b[0m\u001b[0;34m'GET /api/v1/user'\u001b[0m\u001b[0;34m)\u001b[0m\u001b[0;34m\u001b[0m\u001b[0;34m\u001b[0m\u001b[0m\n\u001b[0;32m----> 8\u001b[0;31m \u001b[0mresp\u001b[0m \u001b[0;34m=\u001b[0m \u001b[0mespa_api\u001b[0m\u001b[0;34m(\u001b[0m\u001b[0;34m'user'\u001b[0m\u001b[0;34m)\u001b[0m\u001b[0;34m\u001b[0m\u001b[0;34m\u001b[0m\u001b[0m\n\u001b[0m\u001b[1;32m      9\u001b[0m \u001b[0mprint\u001b[0m\u001b[0;34m(\u001b[0m\u001b[0mjson\u001b[0m\u001b[0;34m.\u001b[0m\u001b[0mdumps\u001b[0m\u001b[0;34m(\u001b[0m\u001b[0mresp\u001b[0m\u001b[0;34m,\u001b[0m \u001b[0mindent\u001b[0m\u001b[0;34m=\u001b[0m\u001b[0;36m4\u001b[0m\u001b[0;34m)\u001b[0m\u001b[0;34m)\u001b[0m\u001b[0;34m\u001b[0m\u001b[0;34m\u001b[0m\u001b[0m\n",
      "\u001b[0;31mNameError\u001b[0m: name 'espa_api' is not defined"
     ]
    }
   ],
   "source": [
    "# earth explorer credentials are required\n",
    "host = 'https://espa.cr.usgs.gov/api/v1/'\n",
    "#fill in username and password here\n",
    "username = 'xxxxxxxx'\n",
    "password = 'xxxxxxxxxxxxxx'\n",
    "# check login\n",
    "print('GET /api/v1/user')\n",
    "resp = espa_api('user')\n",
    "print(json.dumps(resp, indent=4))"
   ]
  },
  {
   "cell_type": "code",
   "execution_count": 12,
   "metadata": {},
   "outputs": [
    {
     "name": "stdout",
     "output_type": "stream",
     "text": [
      "GET /api/v1/list-orders\n",
      "200 OK\n",
      "\"espa-Sarah.Cheesbrough@sa.catapult.org.uk-11212019-081706-600\"\n"
     ]
    }
   ],
   "source": [
    "## CHECK CONFLICTING ORDERS ###\n",
    "\n",
    "# check for any existing orders that may prevent imediate processing of a fresh requestttttt\n",
    "print('GET /api/v1/list-orders')\n",
    "filters = {\"status\": [\"complete\", \"ordered\"]}  # Here, we ignore any purged orders\n",
    "#resp = espa_api('list-orders', body=filters)\n",
    "orders = espa_api('list-orders', body=filters)\n",
    "print(json.dumps(orders[0], indent=4))"
   ]
  },
  {
   "cell_type": "code",
   "execution_count": 13,
   "metadata": {},
   "outputs": [
    {
     "name": "stdout",
     "output_type": "stream",
     "text": [
      "200 OK\n",
      "200 OK\n",
      "200 OK\n",
      "200 OK\n",
      "200 OK\n"
     ]
    }
   ],
   "source": [
    "\n",
    "with open ('../allorders.txt', 'a') as f:\n",
    "    for orderid in orders:\n",
    "        resp = espa_api('item-status/{0}'.format(orderid), body={'status': 'complete'})\n",
    "        for item in resp[orderid]:\n",
    "            f.write(item.get('product_dload_url') + '/n')"
   ]
  },
  {
   "cell_type": "code",
   "execution_count": 14,
   "metadata": {},
   "outputs": [
    {
     "ename": "KeyError",
     "evalue": "'espa-Sarah.Cheesbrough@sa.catapult.org.uk-11212019-081706-600'",
     "output_type": "error",
     "traceback": [
      "\u001b[0;31m---------------------------------------------------------------------------\u001b[0m",
      "\u001b[0;31mKeyError\u001b[0m                                  Traceback (most recent call last)",
      "\u001b[0;32m<ipython-input-14-ad53129ad4b8>\u001b[0m in \u001b[0;36m<module>\u001b[0;34m\u001b[0m\n\u001b[1;32m      2\u001b[0m \u001b[0;31m#orderid = 'espa-Sarah.Cheesbrough@sa.catapult.org.uk-10252019-053952-070'\u001b[0m\u001b[0;34m\u001b[0m\u001b[0;34m\u001b[0m\u001b[0;34m\u001b[0m\u001b[0m\n\u001b[1;32m      3\u001b[0m \u001b[0;32mfor\u001b[0m \u001b[0morderid\u001b[0m \u001b[0;32min\u001b[0m \u001b[0morders\u001b[0m\u001b[0;34m:\u001b[0m\u001b[0;34m\u001b[0m\u001b[0;34m\u001b[0m\u001b[0m\n\u001b[0;32m----> 4\u001b[0;31m     \u001b[0morderid\u001b[0m \u001b[0;34m=\u001b[0m \u001b[0mresp\u001b[0m\u001b[0;34m[\u001b[0m\u001b[0morderid\u001b[0m\u001b[0;34m]\u001b[0m\u001b[0;34m\u001b[0m\u001b[0;34m\u001b[0m\u001b[0m\n\u001b[0m\u001b[1;32m      5\u001b[0m     \u001b[0murls\u001b[0m \u001b[0;34m=\u001b[0m \u001b[0;34m[\u001b[0m\u001b[0;34m]\u001b[0m\u001b[0;34m\u001b[0m\u001b[0;34m\u001b[0m\u001b[0m\n\u001b[1;32m      6\u001b[0m     \u001b[0;32mfor\u001b[0m \u001b[0mitem\u001b[0m \u001b[0;32min\u001b[0m \u001b[0mresp\u001b[0m\u001b[0;34m[\u001b[0m\u001b[0morderid\u001b[0m\u001b[0;34m]\u001b[0m\u001b[0;34m:\u001b[0m\u001b[0;34m\u001b[0m\u001b[0;34m\u001b[0m\u001b[0m\n",
      "\u001b[0;31mKeyError\u001b[0m: 'espa-Sarah.Cheesbrough@sa.catapult.org.uk-11212019-081706-600'"
     ]
    }
   ],
   "source": [
    "### EXTRACT URLS ###\n",
    "#orderid = 'espa-Sarah.Cheesbrough@sa.catapult.org.uk-10252019-053952-070'\n",
    "for orderid in orders:\n",
    "    orderid = resp[orderid]\n",
    "    urls = []\n",
    "    for item in resp[orderid]:\n",
    "        urls.append(item.get('product_dload_url'))\n",
    "    print(urls)"
   ]
  },
  {
   "cell_type": "code",
   "execution_count": 15,
   "metadata": {},
   "outputs": [
    {
     "name": "stdout",
     "output_type": "stream",
     "text": [
      "espa-Sarah.Cheesbrough@sa.catapult.org.uk-11212019-081706-600\n",
      "200 OK\n"
     ]
    }
   ],
   "source": [
    "#create txt file of url for single order\n",
    "with open ('../lsTM_urls.txt', 'a') as f:\n",
    "    orderurll7 = orders[0]\n",
    "    print(orderurll7)\n",
    "    resp = espa_api('item-status/{0}'.format(orderurll7), body={'status': 'complete'})\n",
    "    for item in resp[orderurll7]:\n",
    "        f.write(item.get('product_dload_url') + '/n')"
   ]
  },
  {
   "cell_type": "code",
   "execution_count": 16,
   "metadata": {},
   "outputs": [
    {
     "name": "stdout",
     "output_type": "stream",
     "text": [
      "GET /api/v1/available-products\n",
      "200 OK\n"
     ]
    }
   ],
   "source": [
    "### CHECK PRODUCT AVAILABILITY ###\n",
    "\n",
    "# example of how to check available products for desired scenes\n",
    "print('GET /api/v1/available-products')\n",
    "avail_list = {'inputs': l8_list\n",
    "             }\n",
    "resp = espa_api('available-products', body=avail_list)\n",
    "#print(json.dumps(resp, indent=4))"
   ]
  },
  {
   "cell_type": "code",
   "execution_count": null,
   "metadata": {},
   "outputs": [],
   "source": []
  },
  {
   "cell_type": "code",
   "execution_count": 17,
   "metadata": {},
   "outputs": [
    {
     "name": "stdout",
     "output_type": "stream",
     "text": [
      "18\n",
      "4\n",
      "['LC08_L1GT_075069_20150210_20170413_01_T2', 'LC08_L1GT_075071_20150210_20170413_01_T2', 'LC08_L1TP_075072_20150210_20170413_01_T1', 'LC08_L1TP_075073_20150210_20170413_01_T1']\n",
      "LC08_L1GT_075069_20150210_20170413_01_T2\n"
     ]
    },
    {
     "ename": "ValueError",
     "evalue": "list.remove(x): x not in list",
     "output_type": "error",
     "traceback": [
      "\u001b[0;31m---------------------------------------------------------------------------\u001b[0m",
      "\u001b[0;31mValueError\u001b[0m                                Traceback (most recent call last)",
      "\u001b[0;32m<ipython-input-17-676d0893a268>\u001b[0m in \u001b[0;36m<module>\u001b[0;34m\u001b[0m\n\u001b[1;32m     12\u001b[0m \u001b[0;32mfor\u001b[0m \u001b[0mi\u001b[0m \u001b[0;32min\u001b[0m \u001b[0mer\u001b[0m\u001b[0;34m:\u001b[0m\u001b[0;34m\u001b[0m\u001b[0;34m\u001b[0m\u001b[0m\n\u001b[1;32m     13\u001b[0m     \u001b[0mprint\u001b[0m\u001b[0;34m(\u001b[0m\u001b[0mi\u001b[0m\u001b[0;34m)\u001b[0m\u001b[0;34m\u001b[0m\u001b[0;34m\u001b[0m\u001b[0m\n\u001b[0;32m---> 14\u001b[0;31m     \u001b[0mls\u001b[0m\u001b[0;34m.\u001b[0m\u001b[0mremove\u001b[0m\u001b[0;34m(\u001b[0m\u001b[0mer\u001b[0m\u001b[0;34m)\u001b[0m\u001b[0;34m\u001b[0m\u001b[0;34m\u001b[0m\u001b[0m\n\u001b[0m\u001b[1;32m     15\u001b[0m \u001b[0mprint\u001b[0m\u001b[0;34m(\u001b[0m\u001b[0mlen\u001b[0m\u001b[0;34m(\u001b[0m\u001b[0ml8_list\u001b[0m\u001b[0;34m)\u001b[0m\u001b[0;34m)\u001b[0m\u001b[0;34m\u001b[0m\u001b[0;34m\u001b[0m\u001b[0m\n\u001b[1;32m     16\u001b[0m \u001b[0mprint\u001b[0m\u001b[0;34m(\u001b[0m\u001b[0mlen\u001b[0m\u001b[0;34m(\u001b[0m\u001b[0mer\u001b[0m\u001b[0;34m)\u001b[0m\u001b[0;34m)\u001b[0m\u001b[0;34m\u001b[0m\u001b[0;34m\u001b[0m\u001b[0m\n",
      "\u001b[0;31mValueError\u001b[0m: list.remove(x): x not in list"
     ]
    }
   ],
   "source": [
    "#remove any products which are not working\n",
    "l8_list = list(res.LANDSAT_PRODUCT_ID.values)\n",
    "print(len(l8_list))\n",
    "#print(l8_list)\n",
    "er = []\n",
    "er = ['LC08_L1GT_075069_20150210_20170413_01_T2', 'LC08_L1GT_075071_20150210_20170413_01_T2', 'LC08_L1TP_075072_20150210_20170413_01_T1', 'LC08_L1TP_075073_20150210_20170413_01_T1']\n",
    "print(len(er))\n",
    "print(er)\n",
    "#er = ['LC08_L1TP_166051_20190814_20190814_01_RT', 'LC08_L1TP_166048_20190814_20190814_01_RT']\n",
    "ls = l8_list\n",
    "#ls = [x (if x is not in er) for x in l8_list]\n",
    "for i in er: \n",
    "    print(i)\n",
    "    ls.remove(er)\n",
    "print(len(l8_list))\n",
    "print(len(er))\n",
    "print(len(ls))\n"
   ]
  },
  {
   "cell_type": "code",
   "execution_count": 18,
   "metadata": {},
   "outputs": [
    {
     "name": "stdout",
     "output_type": "stream",
     "text": [
      "18\n",
      "18\n",
      "18\n"
     ]
    }
   ],
   "source": [
    "ert = []\n",
    "#er = ['LC08_L1TP_166051_20190814_20190814_01_RT', 'LC08_L1TP_166048_20190814_20190814_01_RT']\n",
    "l8_lst = [e for e in l8_list if e not in (er)]\n",
    "print(len(l8_lst))\n",
    "l8_lst = [i for i in l8_list if 'RT' not in i]\n",
    "print(len(l8_lst))\n",
    "l8_lst = [i for i in l8_lst if '20150210' not in i]\n",
    "print(len(l8_lst))"
   ]
  },
  {
   "cell_type": "code",
   "execution_count": 19,
   "metadata": {},
   "outputs": [
    {
     "name": "stdout",
     "output_type": "stream",
     "text": [
      "200 OK\n"
     ]
    }
   ],
   "source": [
    "### CREATE ORDER ###\n",
    "# if any further subsetting is required. very recently acquired products are categorised as RT (as opposed to T1/T2). these are of insufficient certainty RE quality to be processed to ARD. this latency is unlikely to impact the non-NRT requirements of Common Sensing.\n",
    "er = []\n",
    "#er = ['LC08_L1TP_166051_20190814_20190814_01_RT', 'LC08_L1TP_166048_20190814_20190814_01_RT']\n",
    "l8_ls = [e for e in l8_list if e not in (er)]\n",
    "l8_ls = [i for i in l8_list if 'RT' not in i]\n",
    "l8_ls = [i for i in l8_ls if '20150210' not in i]\n",
    "\n",
    "# specifying differing products across the sensors\n",
    "#l8_prods = [\"sr\",\"bt\",\"source_metadata\",\"sr_ndvi\",\"sr_evi\",\"sr_savi\",\"sr_msavi\",\"sr_ndmi\",\"sr_nbr\",\"sr_nbr2\",\"stats\",\"pixel_qa\"]\n",
    "l8_prods = [\"sr\",\"bt\",\"source_metadata\",\"stats\",\"pixel_qa\"]\n",
    "         \n",
    "# determine available-products under their respective sensors\n",
    "ls = l8_ls\n",
    "#print('GET /api/v1/available-products')\n",
    "order = espa_api('available-products', body=dict(inputs=ls))\n",
    "#print(json.dumps(order, indent=4))\n",
    "\n",
    "# replace available products with what we wish to process\n",
    "for sensor in order.keys():\n",
    "    if isinstance(order[sensor], dict) and order[sensor].get('inputs'):\n",
    "\n",
    "        if set(l8_ls) & set(order[sensor]['inputs']):\n",
    "            order[sensor]['products'] = l8_prods\n",
    "\n",
    "# Add in the rest of the order information\n",
    "#order['projection'] = projection\n",
    "order['format'] = 'gtiff'\n",
    "order['resampling_method'] = 'cc'\n",
    "order['note'] = 'L8 20131201-20150101'\n",
    "\n",
    "# the order shoud now have changed from the original call available-products\n",
    "#print(json.dumps(order, indent=4))"
   ]
  },
  {
   "cell_type": "code",
   "execution_count": 20,
   "metadata": {},
   "outputs": [
    {
     "name": "stdout",
     "output_type": "stream",
     "text": [
      "POST /api/v1/order\n",
      "201 CREATED\n",
      "<built-in method keys of dict object at 0x7f544228ec18>\n",
      "{\n",
      "    \"orderid\": \"espa-Sarah.Cheesbrough@sa.catapult.org.uk-11212019-081940-806\",\n",
      "    \"status\": \"ordered\"\n",
      "}\n"
     ]
    }
   ],
   "source": [
    "### PLACE ORDER ###\n",
    "print('POST /api/v1/order')\n",
    "resp = espa_api('order', verb='post', body=order)\n",
    "print(resp.keys)\n",
    "print(json.dumps(resp, indent=4))"
   ]
  },
  {
   "cell_type": "code",
   "execution_count": 21,
   "metadata": {},
   "outputs": [
    {
     "name": "stdout",
     "output_type": "stream",
     "text": [
      "GET /api/v1/order-status/espa-Sarah.Cheesbrough@sa.catapult.org.uk-11212019-081940-806\n",
      "200 OK\n",
      "{\n",
      "    \"orderid\": \"espa-Sarah.Cheesbrough@sa.catapult.org.uk-11212019-081940-806\",\n",
      "    \"status\": \"ordered\"\n",
      "}\n"
     ]
    }
   ],
   "source": [
    "### CHECK STATUS OF ORDER ### \n",
    "orderid = resp['orderid']\n",
    "print('GET /api/v1/order-status/{}'.format(orderid))\n",
    "resp = espa_api('order-status/{}'.format(orderid))\n",
    "print(json.dumps(resp, indent=4))"
   ]
  },
  {
   "cell_type": "code",
   "execution_count": null,
   "metadata": {},
   "outputs": [],
   "source": []
  }
 ],
 "metadata": {
  "kernelspec": {
   "display_name": "Python 3",
   "language": "python",
   "name": "python3"
  },
  "language_info": {
   "codemirror_mode": {
    "name": "ipython",
    "version": 3
   },
   "file_extension": ".py",
   "mimetype": "text/x-python",
   "name": "python",
   "nbconvert_exporter": "python",
   "pygments_lexer": "ipython3",
   "version": "3.8.4"
  }
 },
 "nbformat": 4,
 "nbformat_minor": 4
}
